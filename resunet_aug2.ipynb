{
  "cells": [
    {
      "cell_type": "code",
      "execution_count": null,
      "metadata": {
        "id": "gHPOoqB7Xw_u"
      },
      "outputs": [],
      "source": [
        "#CNN model without diffusion\n",
        "import keras\n",
        "import matplotlib.pyplot as plt\n",
        "import numpy as np\n",
        "import pandas as pd\n",
        "import tensorflow as tf\n",
        "from keras import backend as K\n",
        "from tensorflow.keras.models import Model\n",
        "from keras.layers import (\n",
        "    Input,\n",
        "    Activation,\n",
        "    Conv3D,\n",
        "    Conv3DTranspose,\n",
        "    MaxPooling3D,\n",
        "    UpSampling3D,\n",
        "    concatenate,\n",
        "    ReLU, Dropout,BatchNormalization\n",
        ")\n",
        "\n",
        "from keras.optimizers import Adam\n",
        "from keras.utils import to_categorical\n",
        "from tensorflow.compat.v1.logging import INFO, set_verbosity\n",
        "\n",
        "set_verbosity(INFO)\n",
        "\n",
        "import tensorflow.python.keras.backend as K\n",
        "K.set_image_data_format(\"channels_first\")"
      ]
    },
    {
      "cell_type": "code",
      "execution_count": null,
      "metadata": {
        "id": "6ek2y9W8XxsQ"
      },
      "outputs": [],
      "source": [
        "#Definning random seed\n",
        "np.random.seed(1000)"
      ]
    },
    {
      "cell_type": "code",
      "execution_count": null,
      "metadata": {
        "colab": {
          "base_uri": "https://localhost:8080/"
        },
        "id": "y8cNKbuEXzed",
        "outputId": "bd509198-a152-4fdb-ad61-928494132cd8"
      },
      "outputs": [
        {
          "output_type": "stream",
          "name": "stdout",
          "text": [
            "Looking in indexes: https://pypi.org/simple, https://us-python.pkg.dev/colab-wheels/public/simple/\n",
            "Collecting patchify\n",
            "  Downloading patchify-0.2.3-py3-none-any.whl (6.6 kB)\n",
            "Requirement already satisfied: numpy<2,>=1 in /usr/local/lib/python3.10/dist-packages (from patchify) (1.22.4)\n",
            "Installing collected packages: patchify\n",
            "Successfully installed patchify-0.2.3\n"
          ]
        }
      ],
      "source": [
        "!pip install patchify"
      ]
    },
    {
      "cell_type": "code",
      "execution_count": null,
      "metadata": {
        "colab": {
          "base_uri": "https://localhost:8080/"
        },
        "id": "ejvSbsMiX2EF",
        "outputId": "4e08209e-40cc-4ed4-b429-ebcf12105f47"
      },
      "outputs": [
        {
          "output_type": "stream",
          "name": "stdout",
          "text": [
            "Mounted at /content/drive\n"
          ]
        }
      ],
      "source": [
        "from google.colab import drive\n",
        "drive.mount('/content/drive')"
      ]
    },
    {
      "cell_type": "code",
      "execution_count": null,
      "metadata": {
        "id": "vGA-bmNSX3TW"
      },
      "outputs": [],
      "source": [
        "import numpy as np\n",
        "import os\n",
        "from keras.utils import to_categorical\n",
        "import matplotlib.pyplot as plt"
      ]
    },
    {
      "cell_type": "code",
      "execution_count": null,
      "metadata": {
        "id": "JG0j_G7fX5kL"
      },
      "outputs": [],
      "source": [
        "HOME_DIR = \"/content/drive/MyDrive/pddca\"\n",
        "DATA_DIR = HOME_DIR\n",
        "\n",
        "def load_case(imgfile, labelfile):\n",
        "    # load the image and label file, get the image content and return a numpy array for each\n",
        "    image = np.array(np.load(imgfile))\n",
        "    label = np.array(np.load(labelfile))\n",
        "\n",
        "    return image, label\n",
        "\n",
        "img=[]\n",
        "msk=[]\n",
        "for dir in os.listdir(DATA_DIR):\n",
        "  #print(dir)\n",
        "  imfile=DATA_DIR+\"/\"+str(dir)+\"/img_crp_v2.npy\"\n",
        "  lbfile=DATA_DIR+\"/\"+str(dir)+\"/structures/mask.npy\"\n",
        "  #print(os.path.isfile(lbfile),lbfile)\n",
        "  if(os.path.isfile(lbfile)):\n",
        "    im,ms=load_case(imfile,lbfile)\n",
        "    #print(im,ms)\n",
        "    img.append(im)\n",
        "    msk.append(ms)\n",
        "\n"
      ]
    },
    {
      "cell_type": "code",
      "execution_count": null,
      "metadata": {
        "colab": {
          "base_uri": "https://localhost:8080/",
          "height": 544
        },
        "id": "HGdPyf8auljl",
        "outputId": "58072f1a-f413-4b7b-e08a-065e15b2f29d"
      },
      "outputs": [
        {
          "output_type": "execute_result",
          "data": {
            "text/plain": [
              "<matplotlib.image.AxesImage at 0x7f024560a9e0>"
            ]
          },
          "metadata": {},
          "execution_count": 7
        },
        {
          "output_type": "display_data",
          "data": {
            "text/plain": [
              "<Figure size 1400x600 with 1 Axes>"
            ],
            "image/png": "[encoded data removed]"
          },
          "metadata": {}
        }
      ],
      "source": [
        "plt.figure(figsize=(14,6))\n",
        "im1=msk[0]\n",
        "imt=im1[36,:,:]\n",
        "plt.imshow(imt,cmap='gray')"
      ]
    },
    {
      "cell_type": "code",
      "execution_count": null,
      "metadata": {
        "id": "gLdIFevtYCzk"
      },
      "outputs": [],
      "source": [
        "# from patchify import patchify\n",
        "# import tensorflow as tf\n",
        "\n",
        "\n",
        "# img_patches = patchify(img[0], (32, 64, 64), step=64)\n",
        "# mask_patches  = patchify(msk[0], (32, 64, 64), step=64)\n",
        "# input_img = np.reshape(img_patches, (-1, img_patches.shape[3], img_patches.shape[4], img_patches.shape[5]))\n",
        "# input_mask = np.reshape(mask_patches, (-1, mask_patches.shape[3], mask_patches.shape[4], mask_patches.shape[5]))\n",
        "\n",
        "# train_img = np.stack((input_img,)*3, axis=-1)\n",
        "# train_mask = np.stack((input_mask,)*3, axis=-1)\n",
        "# # train_mask = to_categorical(input_mask, num_classes=3)\n",
        "\n",
        "# #train_img=np.expand_dims(train_img,axis=4)\n",
        "# #train_mask = np.expand_dims(input_mask, axis=4)\n",
        "\n",
        "\n",
        "# train_img=tf.cast(train_img, tf.float32)\n",
        "# train_mask=tf.cast(train_mask, tf.float32)\n",
        "\n",
        "\n",
        "\n",
        "# img_patches1 = patchify(img[1], (32, 64, 64), step=64)\n",
        "# mask_patches1  = patchify(msk[1], (32, 64, 64), step=64)\n",
        "# input_img1 = np.reshape(img_patches1, (-1, img_patches1.shape[3], img_patches1.shape[4], img_patches1.shape[5]))\n",
        "# input_mask1 = np.reshape(mask_patches1, (-1, mask_patches1.shape[3], mask_patches1.shape[4], mask_patches1.shape[5]))\n",
        "\n",
        "# train_img1 = np.stack((input_img1,)*3, axis=-1)\n",
        "# train_mask1 = np.stack((input_mask1,)*3, axis=-1)\n",
        "# #train_mask1 = to_categorical(input_mask1, num_classes=3)\n",
        "# #train_img=np.expand_dims(train_img,axis=4)\n",
        "# #train_mask = np.expand_dims(input_mask, axis=4)\n",
        "\n",
        "# train_img1=tf.cast(train_img1, tf.float32)\n",
        "# train_mask1=tf.cast(train_mask1, tf.float32)\n",
        "# #tf.cast(train_mask_cat1, tf.float32)\n",
        "\n",
        "\n",
        "# tri=np.concatenate((train_img,train_img1),axis=0)\n",
        "# trm=np.concatenate((train_mask,train_mask1),axis=0)\n",
        "# print(tri.shape)\n",
        "# print(trm.shape)"
      ]
    },
    {
      "cell_type": "code",
      "execution_count": null,
      "metadata": {
        "id": "yLmWMMNMYIek"
      },
      "outputs": [],
      "source": [
        "# for i in range(2,len(img)):\n",
        "#   img_patches = patchify(img[i], (32, 64, 64), step=64)\n",
        "#   mask_patches  = patchify(msk[i], (32, 64, 64), step=64)\n",
        "#   input_img = np.reshape(img_patches, (-1, img_patches.shape[3], img_patches.shape[4], img_patches.shape[5]))\n",
        "#   input_mask = np.reshape(mask_patches, (-1, mask_patches.shape[3], mask_patches.shape[4], mask_patches.shape[5]))\n",
        "\n",
        "#   train_img = np.stack((input_img,)*3, axis=-1)\n",
        "#   train_mask = np.stack((input_mask,)*3, axis=-1)\n",
        "#   #train_mask = to_categorical(input_mask, num_classes=3)\n",
        "#   #train_img=np.expand_dims(train_img,axis=4)\n",
        "#   #train_mask = np.expand_dims(input_mask, axis=4)\n",
        "\n",
        "\n",
        "\n",
        "#   #train_mask_cat = to_categorical(input_mask, num_classes=3)\n",
        "#   train_img=tf.cast(train_img, tf.float32)\n",
        "#   train_mask=tf.cast(train_mask, tf.float32)\n",
        "\n",
        "#   tri=np.concatenate((tri,train_img),axis=0)\n",
        "#   trm=np.concatenate((trm,train_mask),axis=0)\n",
        "\n",
        "\n",
        "# print(tri.shape)\n",
        "# print(trm.shape)"
      ]
    },
    {
      "cell_type": "code",
      "execution_count": null,
      "metadata": {
        "id": "SxQpxcAQYKMV"
      },
      "outputs": [],
      "source": [
        "# plt.figure(figsize=(14,6))\n",
        "# im1=trm[40]\n",
        "# plt.imshow(im1[31,:,:])"
      ]
    },
    {
      "cell_type": "code",
      "execution_count": null,
      "metadata": {
        "colab": {
          "base_uri": "https://localhost:8080/"
        },
        "id": "LsrXaQBgvBh6",
        "outputId": "a54306a3-d582-4286-92c7-e0b9f6906f82"
      },
      "outputs": [
        {
          "output_type": "stream",
          "name": "stdout",
          "text": [
            "Looking in indexes: https://pypi.org/simple, https://us-python.pkg.dev/colab-wheels/public/simple/\n",
            "Collecting elasticdeform\n",
            "  Downloading elasticdeform-0.5.0-cp310-cp310-manylinux_2_17_x86_64.manylinux2014_x86_64.whl (91 kB)\n",
            "\u001b[2K     \u001b[90m━━━━━━━━━━━━━━━━━━━━━━━━━━━━━━━━━━━━━━━━\u001b[0m \u001b[32m91.6/91.6 kB\u001b[0m \u001b[31m11.1 MB/s\u001b[0m eta \u001b[36m0:00:00\u001b[0m\n",
            "\u001b[?25hRequirement already satisfied: numpy in /usr/local/lib/python3.10/dist-packages (from elasticdeform) (1.22.4)\n",
            "Requirement already satisfied: scipy in /usr/local/lib/python3.10/dist-packages (from elasticdeform) (1.10.1)\n",
            "Installing collected packages: elasticdeform\n",
            "Successfully installed elasticdeform-0.5.0\n"
          ]
        }
      ],
      "source": [
        "!pip install elasticdeform"
      ]
    },
    {
      "cell_type": "code",
      "execution_count": null,
      "metadata": {
        "id": "9miUeIX4Mj9X"
      },
      "outputs": [],
      "source": [
        "# from scipy import ndimage\n",
        "# from scipy.ndimage import affine_transform\n",
        "# import elasticdeform\n",
        "# import multiprocessing as mp\n",
        "\n",
        "\n",
        "# # theta = np.random.uniform(0,0)\n",
        "# # img_data = tf.keras.preprocessing.image.apply_affine_transform(tri, theta=theta, channel_axis=3)\n",
        "\n",
        "# # print(tri.shape)\n",
        "# # Flip the image along the z-axis\n",
        "# # flipped_data = np.flip(tri, axis=2)\n",
        "\n",
        "# # Rotate the array by 90 degrees along the x-axis\n",
        "# # arr_rotated = np.rot90(tri, k=1, axes=(2, 3))\n",
        "\n",
        "# def flip3D(X, y):\n",
        "#   choice = np.random.randint(3)\n",
        "#   if choice == 0:\n",
        "#     X_flip, y_flip = X[::-1, :, :, :], y[::-1, :, :]\n",
        "#   if choice == 1: # flip on y\n",
        "#     X_flip, y_flip = X[:, ::-1, :, :], y[:, ::-1, :]\n",
        "#   if choice == 2: # flip on z\n",
        "#     X_flip, y_flip = X[:, :, ::-1, :], y[:, :, ::-1]\n",
        "\n",
        "#   return X_flip, y_flip\n",
        "\n",
        "\n",
        "# def rotation_zoom3D(X, y):\n",
        "#     alpha, beta, gamma = np.random.random_sample(3)*np.pi/2\n",
        "#     Rx = np.array([[1, 0, 0],\n",
        "#                    [0, np.cos(alpha), -np.sin(alpha)],\n",
        "#                    [0, np.sin(alpha), np.cos(alpha)]])\n",
        "\n",
        "#     Ry = np.array([[np.cos(beta), 0, np.sin(beta)],\n",
        "#                    [0, 1, 0],\n",
        "#                    [-np.sin(beta), 0, np.cos(beta)]])\n",
        "\n",
        "#     Rz = np.array([[np.cos(gamma), -np.sin(gamma), 0],\n",
        "#                    [np.sin(gamma), np.cos(gamma), 0],\n",
        "#                    [0, 0, 1]])\n",
        "\n",
        "#     R_rot = np.dot(np.dot(Rx, Ry), Rz)\n",
        "\n",
        "#     a, b = 0.8, 1.2\n",
        "#     alpha, beta, gamma = (b-a)*np.random.random_sample(3) + a\n",
        "#     R_scale = np.array([[alpha, 0, 0],\n",
        "#                    [0, beta, 0],\n",
        "#                    [0, 0, gamma]])\n",
        "\n",
        "#     R = np.dot(R_rot, R_scale)\n",
        "#     X_rot = np.empty_like(X)\n",
        "#     for channel in range(X.shape[-1]):\n",
        "#         X_rot[:,:,:,channel] = affine_transform(X[:,:,:,channel], R, offset=0, order=1, mode='constant')\n",
        "#     y_rot = affine_transform(y, R, offset=0, order=0, mode='constant')\n",
        "\n",
        "#     return X_rot, y_rot\n",
        "\n",
        "# def rotation(X,y):\n",
        "#   Xn=np.rot90(X, k=1, axes=(2, 3))\n",
        "#   yn=np.rot90(y, k=1, axes=(2, 3))\n",
        "\n",
        "#   return Xn,yn\n",
        "\n",
        "# def brightness(X, y):\n",
        "#     \"\"\"\n",
        "#     Changing the brighness of a image using power-law gamma transformation.\n",
        "#     Gain and gamma are chosen randomly for each image channel.\n",
        "\n",
        "#     Gain chosen between [0.8 - 1.2]\n",
        "#     Gamma chosen between [0.8 - 1.2]\n",
        "\n",
        "#     new_im = gain * im^gamma\n",
        "#     \"\"\"\n",
        "\n",
        "#     X_new = np.zeros(X.shape)\n",
        "#     for c in range(X.shape[-1]):\n",
        "#         im = X[:,:,:,c]\n",
        "#         gain, gamma = (1.2 - 0.8) * np.random.random_sample(2,) + 0.8\n",
        "#         im_new = np.sign(im)*gain*(np.abs(im)**gamma)\n",
        "#         X_new[:,:,:,c] = im_new\n",
        "\n",
        "#     return X_new, y\n",
        "\n",
        "# def elastic(X, y):\n",
        "#     \"\"\"\n",
        "#     Elastic deformation on a image and its target\n",
        "#     \"\"\"\n",
        "\n",
        "#     [Xel, yel] = elasticdeform.deform_random_grid([X, y], sigma=2, axis=[(0, 1, 2), (0, 1, 2)], order=[1, 0], mode='constant')\n",
        "\n",
        "#     return Xel, yel\n",
        "\n",
        "# def random_decisions(N):\n",
        "#     \"\"\"\n",
        "#     Generate N random decisions for augmentation\n",
        "#     N should be equal to the batch size\n",
        "#     \"\"\"\n",
        "\n",
        "#     decisions = np.zeros((N, 4)) # 4 is number of aug techniques to combine (patch extraction excluded)\n",
        "#     for n in range(N):\n",
        "#         decisions[n] = np.random.randint(2, size=4)\n",
        "\n",
        "#     return decisions\n",
        "\n",
        "# def combine_aug(X, y, do):\n",
        "#     \"\"\"\n",
        "#     Combine randomly the different augmentation techniques written above\n",
        "#     \"\"\"\n",
        "#     Xnew, ynew = X, y\n",
        "\n",
        "#     # make sure to use at least 25% of original images\n",
        "#     if np.random.random_sample()>0.75:\n",
        "#         return Xnew, ynew\n",
        "#     else:\n",
        "#         if do[0] == 1:\n",
        "#             Xnew, ynew = flip3D(Xnew, ynew)\n",
        "\n",
        "#         if do[1] == 1:\n",
        "#             Xnew, ynew = brightness(Xnew, ynew)\n",
        "\n",
        "#         if do[2] == 1:\n",
        "#             Xnew, ynew = rotation(Xnew, ynew)\n",
        "\n",
        "#         if do[3] == 1:\n",
        "#             Xnew, ynew = elastic(Xnew, ynew)\n",
        "\n",
        "#         return Xnew, ynew\n",
        "\n",
        "# def aug_batch(Xb, Yb):\n",
        "#     \"\"\"\n",
        "#     Generate a augmented image batch\n",
        "#     \"\"\"\n",
        "#     batch_size = 8\n",
        "#     newXb, newYb = np.empty_like(Xb), np.empty_like(Yb)\n",
        "\n",
        "#     decisions = random_decisions(batch_size)\n",
        "\n",
        "#     inputs = [(X, y, do) for X, y, do in zip(Xb, Yb, decisions)]\n",
        "#     pool = mp.Pool(processes=8)\n",
        "#     multi_result = pool.starmap(combine_aug, inputs)\n",
        "#     print(multi_result[0][1].shape)\n",
        "#     pool.close()\n",
        "\n",
        "#     for i in range(batch_size):\n",
        "#         newXb[i], newYb[i] = multi_result[i][0], multi_result[i][1]\n",
        "\n",
        "#     return newXb, newYb\n",
        "\n",
        "# def data_aug(X, y):\n",
        "#   X_aug, y_aug = aug_batch(X, y)\n",
        "\n",
        "#   return X_aug, to_categorical(y_aug, 3)\n",
        "\n"
      ]
    },
    {
      "cell_type": "code",
      "execution_count": null,
      "metadata": {
        "id": "CBbkPy6rx9Hc"
      },
      "outputs": [],
      "source": [
        "# from scipy import ndimage\n",
        "# from scipy.ndimage import affine_transform\n",
        "# import elasticdeform\n",
        "# import multiprocessing as mp\n",
        "\n",
        "\n",
        "# # theta = np.random.uniform(0,0)\n",
        "# # img_data = tf.keras.preprocessing.image.apply_affine_transform(tri, theta=theta, channel_axis=3)\n",
        "\n",
        "# # print(tri.shape)\n",
        "# # Flip the image along the z-axis\n",
        "# # flipped_data = np.flip(tri, axis=2)\n",
        "\n",
        "# # Rotate the array by 90 degrees along the x-axis\n",
        "# # arr_rotated = np.rot90(tri, k=1, axes=(2, 3))\n",
        "\n",
        "# def flip3D(X, y):\n",
        "#     choice = np.random.randint(3)\n",
        "#     if choice == 0:\n",
        "#         X_flip, y_flip = X[::-1, :, :], y[::-1, :, :]\n",
        "#     if choice == 1: # flip on y\n",
        "#         X_flip, y_flip = X[:, ::-1, :], y[:, ::-1, :]\n",
        "#     if choice == 2: # flip on z\n",
        "#         X_flip, y_flip = X[:, :, ::-1], y[:, :, ::-1]\n",
        "\n",
        "#     return X_flip, y_flip\n",
        "\n",
        "\n",
        "# def rotation_zoom3D(X, y):\n",
        "#     alpha, beta, gamma = np.random.random_sample(3)*np.pi/2\n",
        "#     Rx = np.array([[1, 0, 0],\n",
        "#                    [0, np.cos(alpha), -np.sin(alpha)],\n",
        "#                    [0, np.sin(alpha), np.cos(alpha)]])\n",
        "\n",
        "#     Ry = np.array([[np.cos(beta), 0, np.sin(beta)],\n",
        "#                    [0, 1, 0],\n",
        "#                    [-np.sin(beta), 0, np.cos(beta)]])\n",
        "\n",
        "#     Rz = np.array([[np.cos(gamma), -np.sin(gamma), 0],\n",
        "#                    [np.sin(gamma), np.cos(gamma), 0],\n",
        "#                    [0, 0, 1]])\n",
        "\n",
        "#     R_rot = np.dot(np.dot(Rx, Ry), Rz)\n",
        "\n",
        "#     a, b = 0.8, 1.2\n",
        "#     alpha, beta, gamma = (b-a)*np.random.random_sample(3) + a\n",
        "#     R_scale = np.array([[alpha, 0, 0],\n",
        "#                    [0, beta, 0],\n",
        "#                    [0, 0, gamma]])\n",
        "\n",
        "#     R = np.dot(R_rot, R_scale)\n",
        "#     X_rot = np.empty_like(X)\n",
        "#     for channel in range(X.shape[-1]):\n",
        "#         X_rot[:,:,:,channel] = affine_transform(X[:,:,:,channel], R, offset=0, order=1, mode='constant')\n",
        "#     y_rot = affine_transform(y, R, offset=0, order=0, mode='constant')\n",
        "\n",
        "#     return X_rot, y_rot\n",
        "\n",
        "# def rotation(X,y):\n",
        "#     Xn=np.rot90(X, k=1, axes=(1, 2))\n",
        "#     yn=np.rot90(y, k=1, axes=(1, 2))\n",
        "\n",
        "#     return Xn,yn\n",
        "\n",
        "# def brightness(X, y):\n",
        "#     \"\"\"\n",
        "#     Changing the brighness of a image using power-law gamma transformation.\n",
        "#     Gain and gamma are chosen randomly for each image channel.\n",
        "\n",
        "#     Gain chosen between [0.8 - 1.2]\n",
        "#     Gamma chosen between [0.8 - 1.2]\n",
        "\n",
        "#     new_im = gain * im^gamma\n",
        "#     \"\"\"\n",
        "\n",
        "#     X_new = np.zeros(X.shape)\n",
        "#     for c in range(X.shape[-1]):\n",
        "#         im = X[:,:,:,c]\n",
        "#         gain, gamma = (1.2 - 0.8) * np.random.random_sample(2,) + 0.8\n",
        "#         im_new = np.sign(im)*gain*(np.abs(im)**gamma)\n",
        "#         X_new[:,:,:,c] = im_new\n",
        "\n",
        "#     return X_new, y\n",
        "\n",
        "# def elastic(X, y):\n",
        "#     \"\"\"\n",
        "#     Elastic deformation on a image and its target\n",
        "#     \"\"\"\n",
        "\n",
        "#     [Xel, yel] = elasticdeform.deform_random_grid([X, y], sigma=2, axis=[(0, 1, 2), (0, 1, 2)], order=[1, 0], mode='constant')\n",
        "\n",
        "#     return Xel, yel\n",
        "\n",
        "# def random_decisions(N):\n",
        "#     \"\"\"\n",
        "#     Generate N random decisions for augmentation\n",
        "#     N should be equal to the batch size\n",
        "#     \"\"\"\n",
        "\n",
        "#     decisions = np.zeros((N, 3)) # 4 is number of aug techniques to combine (patch extraction excluded)\n",
        "#     for n in range(N):\n",
        "#         decisions[n] = np.random.randint(2, size=3)\n",
        "\n",
        "#     return decisions\n",
        "\n",
        "# def combine_aug(X, y, do):\n",
        "#     \"\"\"\n",
        "#     Combine randomly the different augmentation techniques written above\n",
        "#     \"\"\"\n",
        "#     Xnew, ynew = X, y\n",
        "\n",
        "#     # make sure to use at least 25% of original images\n",
        "#     if np.random.random_sample()>0.75:\n",
        "#         return Xnew, ynew\n",
        "#     else:\n",
        "#         if do[0] == 1:\n",
        "#             Xnew, ynew = flip3D(Xnew, ynew)\n",
        "\n",
        "# #         if do[1] == 1:\n",
        "# #             Xnew, ynew = brightness(Xnew, ynew)\n",
        "\n",
        "#         if do[1] == 1:\n",
        "#             Xnew, ynew = rotation(Xnew, ynew)\n",
        "\n",
        "#         if do[2] == 1:\n",
        "#             Xnew, ynew = elastic(Xnew, ynew)\n",
        "\n",
        "#         return Xnew, ynew\n",
        "\n",
        "# def aug_batch(Xb, Yb):\n",
        "#     \"\"\"\n",
        "#     Generate a augmented image batch\n",
        "#     \"\"\"\n",
        "#     batch_size = 8\n",
        "#     #newXb, newYb = np.empty_like(Xb, dtype=object), np.empty_like(Yb, dtype=object)\n",
        "#     newXb, newYb = Xb, Yb\n",
        "\n",
        "#     decisions = random_decisions(batch_size)\n",
        "\n",
        "#     inputs = [(X, y, do) for X, y, do in zip(Xb, Yb, decisions)]\n",
        "#     pool = mp.Pool(processes=8)\n",
        "#     multi_result = pool.starmap(combine_aug, inputs)\n",
        "#     #print(multi_result[0][0].shape)\n",
        "#     pool.close()\n",
        "\n",
        "#     for i in range(batch_size):\n",
        "#         newXb[i], newYb[i] = multi_result[i][0], multi_result[i][1]\n",
        "\n",
        "#     return newXb, newYb\n",
        "\n",
        "# def data_aug(X, y):\n",
        "#     X_f, y_f = flip3D(X,y)\n",
        "#     X_r, y_r = rotation(X,y)\n",
        "#     X_e, y_e = elastic(X,y)\n",
        "#     #X_aug, y_aug = aug_batch(X, y)\n",
        "#     X_aug = X_f + X_r + X_e\n",
        "#     y_aug = y_f + y_r + y_e\n",
        "#     return X_aug, y_aug\n"
      ]
    },
    {
      "cell_type": "code",
      "execution_count": null,
      "metadata": {
        "id": "zOt_it2VazEL"
      },
      "outputs": [],
      "source": [
        "# imc,msc=img,msk"
      ]
    },
    {
      "cell_type": "code",
      "execution_count": null,
      "metadata": {
        "id": "FEbG5Ma9asQT"
      },
      "outputs": [],
      "source": [
        "# print(len(img))\n",
        "# print(len(msk))"
      ]
    },
    {
      "cell_type": "code",
      "execution_count": null,
      "metadata": {
        "id": "U-QgNN_oUWhb"
      },
      "outputs": [],
      "source": [
        "# imgn=imc\n",
        "# mskn=msc\n",
        "# for i in range(len(imc)):\n",
        "#   imf,msf=flip3D(imc[i],msc[i])\n",
        "#   ime,mse=elastic(imc[i],msc[i])\n",
        "#   imr,msr=rotation(imc[i],msc[i])\n",
        "#   imgn.append(imf)\n",
        "#   imgn.append(ime)\n",
        "#   imgn.append(imr)\n",
        "\n",
        "#   mskn.append(msf)\n",
        "#   mskn.append(mse)\n",
        "#   mskn.append(msr)\n"
      ]
    },
    {
      "cell_type": "code",
      "execution_count": null,
      "metadata": {
        "id": "OwwUmxHfX38T"
      },
      "outputs": [],
      "source": [
        "# print(len(imgn))\n",
        "# print(len(mskn))"
      ]
    },
    {
      "cell_type": "code",
      "execution_count": null,
      "metadata": {
        "id": "wR82yXuxcbX7"
      },
      "outputs": [],
      "source": [
        "# print(len(img))\n",
        "# print(len(msk))"
      ]
    },
    {
      "cell_type": "code",
      "execution_count": null,
      "metadata": {
        "id": "kgG0MebZcdoz"
      },
      "outputs": [],
      "source": [
        "# print(len(imc))\n",
        "# print(len(msc))"
      ]
    },
    {
      "cell_type": "code",
      "execution_count": null,
      "metadata": {
        "id": "o5h5w41mVmGr"
      },
      "outputs": [],
      "source": [
        "# for i in range(len(img)):\n",
        "#   imd,msd=elastic(img[i],msk[i])\n",
        "#   imgn.append(imd)\n",
        "#   mskn.append(msd)"
      ]
    },
    {
      "cell_type": "code",
      "execution_count": null,
      "metadata": {
        "id": "ciTonzkdVr8D"
      },
      "outputs": [],
      "source": [
        "# print(len(imgn))\n",
        "# print(len(mskn))"
      ]
    },
    {
      "cell_type": "code",
      "execution_count": null,
      "metadata": {
        "id": "PBJAzzUJXkWU"
      },
      "outputs": [],
      "source": [
        "# for i in range(len(img)):\n",
        "#   imd,msd=rotation(img[i],msk[i])\n",
        "#   imgn.append(imd)\n",
        "#   mskn.append(msd)"
      ]
    },
    {
      "cell_type": "code",
      "execution_count": null,
      "metadata": {
        "id": "OGwY6bjwXofc"
      },
      "outputs": [],
      "source": [
        "# print(len(img))\n",
        "# print(len(mskn))"
      ]
    },
    {
      "cell_type": "code",
      "execution_count": null,
      "metadata": {
        "id": "qpRYsHk1MDHX"
      },
      "outputs": [],
      "source": [
        "from scipy import ndimage\n",
        "from scipy.ndimage import affine_transform\n",
        "import elasticdeform\n",
        "import multiprocessing as mp\n",
        "\n",
        "\n",
        "# theta = np.random.uniform(0,0)\n",
        "# img_data = tf.keras.preprocessing.image.apply_affine_transform(tri, theta=theta, channel_axis=3)\n",
        "\n",
        "# print(tri.shape)\n",
        "# Flip the image along the z-axis\n",
        "# flipped_data = np.flip(tri, axis=2)\n",
        "\n",
        "# Rotate the array by 90 degrees along the x-axis\n",
        "# arr_rotated = np.rot90(tri, k=1, axes=(2, 3))\n",
        "\n",
        "def flip3D(X, y):\n",
        "    choice = np.random.randint(3)\n",
        "    if choice == 0:\n",
        "        X_flip, y_flip = X[::-1, :, :], y[::-1, :, :]\n",
        "    if choice == 1: # flip on y\n",
        "        X_flip, y_flip = X[:, ::-1, :], y[:, ::-1, :]\n",
        "    if choice == 2: # flip on z\n",
        "        X_flip, y_flip = X[:, :, ::-1], y[:, :, ::-1]\n",
        "\n",
        "    return X_flip, y_flip\n",
        "\n",
        "\n",
        "def rotation_zoom3D(X, y):\n",
        "    alpha, beta, gamma = np.random.random_sample(3)*np.pi/2\n",
        "    Rx = np.array([[1, 0, 0],\n",
        "                   [0, np.cos(alpha), -np.sin(alpha)],\n",
        "                   [0, np.sin(alpha), np.cos(alpha)]])\n",
        "\n",
        "    Ry = np.array([[np.cos(beta), 0, np.sin(beta)],\n",
        "                   [0, 1, 0],\n",
        "                   [-np.sin(beta), 0, np.cos(beta)]])\n",
        "\n",
        "    Rz = np.array([[np.cos(gamma), -np.sin(gamma), 0],\n",
        "                   [np.sin(gamma), np.cos(gamma), 0],\n",
        "                   [0, 0, 1]])\n",
        "\n",
        "    R_rot = np.dot(np.dot(Rx, Ry), Rz)\n",
        "\n",
        "    a, b = 0.8, 1.2\n",
        "    alpha, beta, gamma = (b-a)*np.random.random_sample(3) + a\n",
        "    R_scale = np.array([[alpha, 0, 0],\n",
        "                   [0, beta, 0],\n",
        "                   [0, 0, gamma]])\n",
        "\n",
        "    R = np.dot(R_rot, R_scale)\n",
        "    X_rot = np.empty_like(X)\n",
        "    for channel in range(X.shape[-1]):\n",
        "        X_rot[:,:,:,channel] = affine_transform(X[:,:,:,channel], R, offset=0, order=1, mode='constant')\n",
        "    y_rot = affine_transform(y, R, offset=0, order=0, mode='constant')\n",
        "\n",
        "    return X_rot, y_rot\n",
        "\n",
        "def rotation(X,y):\n",
        "    Xn=np.rot90(X, k=1, axes=(1, 2))\n",
        "    yn=np.rot90(y, k=1, axes=(1, 2))\n",
        "\n",
        "    return Xn,yn\n",
        "\n",
        "def brightness(X, y):\n",
        "    \"\"\"\n",
        "    Changing the brighness of a image using power-law gamma transformation.\n",
        "    Gain and gamma are chosen randomly for each image channel.\n",
        "\n",
        "    Gain chosen between [0.8 - 1.2]\n",
        "    Gamma chosen between [0.8 - 1.2]\n",
        "\n",
        "    new_im = gain * im^gamma\n",
        "    \"\"\"\n",
        "\n",
        "    X_new = np.zeros(X.shape)\n",
        "    for c in range(X.shape[-1]):\n",
        "        im = X[:,:,:,c]\n",
        "        gain, gamma = (1.2 - 0.8) * np.random.random_sample(2,) + 0.8\n",
        "        im_new = np.sign(im)*gain*(np.abs(im)**gamma)\n",
        "        X_new[:,:,:,c] = im_new\n",
        "\n",
        "    return X_new, y\n",
        "\n",
        "def elastic(X, y):\n",
        "    \"\"\"\n",
        "    Elastic deformation on a image and its target\n",
        "    \"\"\"\n",
        "\n",
        "    [Xel, yel] = elasticdeform.deform_random_grid([X, y], sigma=2, axis=[(0, 1, 2), (0, 1, 2)], order=[1, 0], mode='constant')\n",
        "\n",
        "    return Xel, yel\n",
        "\n",
        "def random_decisions(N):\n",
        "    \"\"\"\n",
        "    Generate N random decisions for augmentation\n",
        "    N should be equal to the batch size\n",
        "    \"\"\"\n",
        "\n",
        "    decisions = np.zeros((N, 3)) # 4 is number of aug techniques to combine (patch extraction excluded)\n",
        "    for n in range(N):\n",
        "        decisions[n] = np.random.randint(2, size=3)\n",
        "\n",
        "    return decisions\n",
        "\n",
        "def combine_aug(X, y, do):\n",
        "    \"\"\"\n",
        "    Combine randomly the different augmentation techniques written above\n",
        "    \"\"\"\n",
        "    Xnew, ynew = X, y\n",
        "\n",
        "    # make sure to use at least 25% of original images\n",
        "    if np.random.random_sample()>0.75:\n",
        "        return Xnew, ynew\n",
        "    else:\n",
        "        if do[0] == 1:\n",
        "            Xnew, ynew = flip3D(Xnew, ynew)\n",
        "\n",
        "#         if do[1] == 1:\n",
        "#             Xnew, ynew = brightness(Xnew, ynew)\n",
        "\n",
        "        if do[1] == 1:\n",
        "            Xnew, ynew = rotation(Xnew, ynew)\n",
        "\n",
        "        if do[2] == 1:\n",
        "            Xnew, ynew = elastic(Xnew, ynew)\n",
        "\n",
        "        return Xnew, ynew\n",
        "\n",
        "def aug_batch(Xb, Yb):\n",
        "    \"\"\"\n",
        "    Generate a augmented image batch\n",
        "    \"\"\"\n",
        "    batch_size = 8\n",
        "    #newXb, newYb = np.empty_like(Xb, dtype=object), np.empty_like(Yb, dtype=object)\n",
        "    newXb, newYb = Xb, Yb\n",
        "\n",
        "    decisions = random_decisions(batch_size)\n",
        "\n",
        "    inputs = [(X, y, do) for X, y, do in zip(Xb, Yb, decisions)]\n",
        "    pool = mp.Pool(processes=8)\n",
        "    multi_result = pool.starmap(combine_aug, inputs)\n",
        "    #print(multi_result[0][0].shape)\n",
        "    pool.close()\n",
        "\n",
        "    for i in range(batch_size):\n",
        "        newXb[i], newYb[i] = multi_result[i][0], multi_result[i][1]\n",
        "\n",
        "    return newXb, newYb\n",
        "\n",
        "def data_aug(X, y):\n",
        "    X_aug, y_aug = aug_batch(X, y)\n",
        "\n",
        "    return X_aug, y_aug\n"
      ]
    },
    {
      "cell_type": "code",
      "execution_count": null,
      "metadata": {
        "id": "eQPcc0JLvBbl"
      },
      "outputs": [],
      "source": [
        "imn,msn=data_aug(img,msk)\n",
        "imgn=img+imn\n",
        "mskn=msk+msn"
      ]
    },
    {
      "cell_type": "code",
      "source": [
        "#anisotropic diffusion\n",
        "import warnings\n",
        "from PIL import Image\n",
        "import matplotlib\n",
        "import skimage.io as io\n",
        "import skimage.filters as flt\n",
        "%matplotlib inline\n",
        "import scipy.ndimage.filters as flt\n",
        "\n",
        "\n",
        "def anisodiff3(stack,niter=1,kappa=50,gamma=0.1,step=(1.,1.,1.),option=1,ploton=False):\n",
        "\n",
        "    # ...you could always diffuse each color channel independently if you\n",
        "    # really want\n",
        "    if stack.ndim == 4:\n",
        "        warnings.warn(\"Only grayscale stacks allowed, converting to 3D matrix\")\n",
        "        stack = stack.mean(3)\n",
        "\n",
        "    # initialize output array\n",
        "    stack = stack.astype('float32')\n",
        "    stackout = stack.copy()\n",
        "\n",
        "    # initialize some internal variables\n",
        "    deltaS = np.zeros_like(stackout)\n",
        "    deltaE = deltaS.copy()\n",
        "    deltaD = deltaS.copy()\n",
        "    NS = deltaS.copy()\n",
        "    EW = deltaS.copy()\n",
        "    UD = deltaS.copy()\n",
        "    gS = np.ones_like(stackout)\n",
        "    gE = gS.copy()\n",
        "    gD = gS.copy()\n",
        "\n",
        "    # create the plot figure, if requested\n",
        "    if ploton:\n",
        "        import pylab as pl\n",
        "        from time import sleep\n",
        "\n",
        "        showplane = stack.shape[0]//2\n",
        "\n",
        "        fig = pl.figure(figsize=(20,5.5),num=\"Anisotropic diffusion\")\n",
        "        ax1,ax2 = fig.add_subplot(1,2,1),fig.add_subplot(1,2,2)\n",
        "\n",
        "        ax1.imshow(stack[showplane,...].squeeze(),interpolation='nearest')\n",
        "        ih = ax2.imshow(stackout[showplane,...].squeeze(),interpolation='nearest',animated=True)\n",
        "        ax1.set_title(\"Original stack (Z = %i)\" %showplane)\n",
        "        ax2.set_title(\"Iteration 0\")\n",
        "\n",
        "        fig.canvas.draw()\n",
        "\n",
        "    for ii in range(niter):\n",
        "\n",
        "        # calculate the diffs\n",
        "        deltaD[:-1,: ,:  ] = np.diff(stackout,axis=0)\n",
        "        deltaS[:  ,:-1,: ] = np.diff(stackout,axis=1)\n",
        "        deltaE[:  ,: ,:-1] = np.diff(stackout,axis=2)\n",
        "\n",
        "        # conduction gradients (only need to compute one per dim!)\n",
        "        if option == 1:\n",
        "            gD = np.exp(-(deltaD/kappa)**2.)/step[0]\n",
        "            gS = np.exp(-(deltaS/kappa)**2.)/step[1]\n",
        "            gE = np.exp(-(deltaE/kappa)**2.)/step[2]\n",
        "        elif option == 2:\n",
        "            gD = 1./(1.+(deltaD/kappa)**2.)/step[0]\n",
        "            gS = 1./(1.+(deltaS/kappa)**2.)/step[1]\n",
        "            gE = 1./(1.+(deltaE/kappa)**2.)/step[2]\n",
        "\n",
        "        # update matrices\n",
        "        D = gD*deltaD\n",
        "        E = gE*deltaE\n",
        "        S = gS*deltaS\n",
        "\n",
        "        # subtract a copy that has been shifted 'Up/North/West' by one pixel\n",
        "        UD[:] = D\n",
        "        NS[:] = S\n",
        "        EW[:] = E\n",
        "        UD[1:,: ,: ] -= D[:-1,:  ,:  ]\n",
        "        NS[: ,1:,: ] -= S[:  ,:-1,:  ]\n",
        "        EW[: ,: ,1:] -= E[:  ,:  ,:-1]\n",
        "\n",
        "        # update the image\n",
        "        stackout += gamma*(UD+NS+EW)\n",
        "\n",
        "        if ploton:\n",
        "            iterstring = \"Iteration %i\" %(ii+1)\n",
        "            ih.set_data(stackout[showplane,...].squeeze())\n",
        "            ax2.set_title(iterstring)\n",
        "            fig.canvas.draw()\n",
        "            # sleep(0.01)\n",
        "\n",
        "    return stackout"
      ],
      "metadata": {
        "id": "LvAp0yVltWx9"
      },
      "execution_count": null,
      "outputs": []
    },
    {
      "cell_type": "code",
      "source": [
        "dimg=[]\n",
        "dmsk=mskn\n",
        "for i in range(len(imgn)):\n",
        "    aimg=anisodiff3(imgn[i])\n",
        "    dimg.append(aimg)\n",
        "    # amsk=anisodiff3(msk[i])\n",
        "    # dmsk.append(amsk)\n",
        "\n",
        "plt.figure(figsize=(14,6))\n",
        "im1=dimg[0]\n",
        "plt.imshow(im1[36,:,:],cmap='gray')\n",
        "# for i in range(len(dimg)):\n",
        "#   print(dimg[i].shape)"
      ],
      "metadata": {
        "colab": {
          "base_uri": "https://localhost:8080/",
          "height": 544
        },
        "id": "b0gzwPxotddE",
        "outputId": "eb12d21c-2640-4bb5-b279-50833d98f6e5"
      },
      "execution_count": null,
      "outputs": [
        {
          "output_type": "execute_result",
          "data": {
            "text/plain": [
              "<matplotlib.image.AxesImage at 0x7f02445ee770>"
            ]
          },
          "metadata": {},
          "execution_count": 20
        },
        {
          "output_type": "display_data",
          "data": {
            "text/plain": [
              "<Figure size 1400x600 with 1 Axes>"
            ],
            "image/png": "[encoded data removed]"
          },
          "metadata": {}
        }
      ]
    },
    {
      "cell_type": "code",
      "source": [
        "# def extract_3d_patches(image, patch_size):\n",
        "#     patch_shape = tuple(patch_size)\n",
        "#     image_shape = image.shape\n",
        "#     num_patches = [int(image_shape[i] / patch_shape[i]) for i in range(3)]\n",
        "\n",
        "#     patches = []\n",
        "#     for i in range(num_patches[0]):\n",
        "#         for j in range(num_patches[1]):\n",
        "#             for k in range(num_patches[2]):\n",
        "#                 start = (i * patch_shape[0], j * patch_shape[1], k * patch_shape[2])\n",
        "#                 end = (start[0] + patch_shape[0], start[1] + patch_shape[1], start[2] + patch_shape[2])\n",
        "#                 patch = image[start[0]:end[0], start[1]:end[1], start[2]:end[2]]\n",
        "#                 patches.append(patch)\n",
        "\n",
        "#     return np.array(patches)\n",
        "\n",
        "# # # Example usage\n",
        "# # #image = np.random.rand(128, 128, 128)  # Replace with your 3D image data\n",
        "# # # patch_size = (32, 64, 64)\n",
        "\n",
        "# # # patches = extract_3d_patches(image, patch_size)"
      ],
      "metadata": {
        "id": "inOqc5RhkpR3"
      },
      "execution_count": null,
      "outputs": []
    },
    {
      "cell_type": "code",
      "source": [
        "# img_patches = extract_3d_patches(img[0], (32, 64, 64))\n",
        "# mask_patches  = extract_3d_patches(msk[0], (32, 64, 64))\n",
        "# img_patches = np.stack((img_patches,)*3, axis=-1)\n",
        "# mask_patches = np.stack((mask_patches,)*3, axis=-1)\n",
        "# img_patches=tf.cast(img_patches, tf.float32)\n",
        "# mask_patches=tf.cast(mask_patches, tf.float32)"
      ],
      "metadata": {
        "id": "G9_0lKZPky0O"
      },
      "execution_count": null,
      "outputs": []
    },
    {
      "cell_type": "code",
      "source": [
        "# img_patches1 = extract_3d_patches(img[1], (32, 64, 64))\n",
        "# mask_patches1  = extract_3d_patches(msk[1], (32, 64, 64))\n",
        "# img_patches1 = np.stack((img_patches1,)*3, axis=-1)\n",
        "# mask_patches1 = np.stack((mask_patches1,)*3, axis=-1)\n",
        "# img_patches1=tf.cast(img_patches1, tf.float32)\n",
        "# mask_patches1=tf.cast(mask_patches1, tf.float32)"
      ],
      "metadata": {
        "id": "3OkDYfdQ2jjx"
      },
      "execution_count": null,
      "outputs": []
    },
    {
      "cell_type": "code",
      "source": [
        "# tri=np.concatenate((img_patches,img_patches1),axis=0)\n",
        "# trm=np.concatenate((mask_patches,mask_patches1),axis=0)\n",
        "# print(tri.shape)\n",
        "# print(trm.shape)"
      ],
      "metadata": {
        "colab": {
          "base_uri": "https://localhost:8080/"
        },
        "id": "XD79zgub2oVZ",
        "outputId": "409dc05d-5920-4545-8c32-35c4f5d9256e"
      },
      "execution_count": null,
      "outputs": [
        {
          "output_type": "stream",
          "name": "stdout",
          "text": [
            "(20, 32, 64, 64, 3)\n",
            "(20, 32, 64, 64, 3)\n"
          ]
        }
      ]
    },
    {
      "cell_type": "code",
      "source": [
        "# for i in range(2,len(imgn)):\n",
        "#   img_patches = extract_3d_patches(img[0], (32, 64, 64))\n",
        "#   mask_patches  = extract_3d_patches(msk[0], (32, 64, 64))\n",
        "#   img_patches = np.stack((img_patches,)*3, axis=-1)\n",
        "#   mask_patches = np.stack((mask_patches,)*3, axis=-1)\n",
        "#   img_patches=tf.cast(img_patches, tf.float32)\n",
        "#   mask_patches=tf.cast(mask_patches, tf.float32)\n",
        "\n",
        "#   tri=np.concatenate((tri,img_patches),axis=0)\n",
        "#   trm=np.concatenate((trm,mask_patches),axis=0)\n",
        "\n",
        "\n",
        "# print(tri.shape)\n",
        "# print(trm.shape)"
      ],
      "metadata": {
        "colab": {
          "base_uri": "https://localhost:8080/"
        },
        "id": "w5iaVqTf2ysC",
        "outputId": "5d84d402-9200-480c-9b8b-f3c97945b3aa"
      },
      "execution_count": null,
      "outputs": [
        {
          "output_type": "stream",
          "name": "stdout",
          "text": [
            "(724, 32, 64, 64, 3)\n",
            "(724, 32, 64, 64, 3)\n"
          ]
        }
      ]
    },
    {
      "cell_type": "code",
      "execution_count": null,
      "metadata": {
        "colab": {
          "base_uri": "https://localhost:8080/"
        },
        "id": "1arl-q-5uzbk",
        "outputId": "9d21e89e-812f-41d1-fa67-42af1d53e9d9"
      },
      "outputs": [
        {
          "output_type": "stream",
          "name": "stdout",
          "text": [
            "(10, 32, 64, 64, 3)\n",
            "(10, 32, 64, 64, 3)\n"
          ]
        }
      ],
      "source": [
        "from patchify import patchify\n",
        "import tensorflow as tf\n",
        "\n",
        "\n",
        "img_patches = patchify(dimg[0], (32, 64, 64), step=64)\n",
        "mask_patches  = patchify(dmsk[0], (32, 64, 64), step=64)\n",
        "input_img = np.reshape(img_patches, (-1, img_patches.shape[3], img_patches.shape[4], img_patches.shape[5]))\n",
        "input_mask = np.reshape(mask_patches, (-1, mask_patches.shape[3], mask_patches.shape[4], mask_patches.shape[5]))\n",
        "\n",
        "train_img = np.stack((input_img,)*3, axis=-1)\n",
        "train_mask = np.stack((input_mask,)*3, axis=-1)\n",
        "# train_mask = to_categorical(input_mask, num_classes=3)\n",
        "\n",
        "#train_img=np.expand_dims(train_img,axis=4)\n",
        "#train_mask = np.expand_dims(input_mask, axis=4)\n",
        "\n",
        "\n",
        "train_img=tf.cast(train_img, tf.float32)\n",
        "train_mask=tf.cast(train_mask, tf.float32)\n",
        "\n",
        "\n",
        "\n",
        "img_patches1 = patchify(dimg[1], (32, 64, 64), step=64)\n",
        "mask_patches1  = patchify(dmsk[1], (32, 64, 64), step=64)\n",
        "input_img1 = np.reshape(img_patches1, (-1, img_patches1.shape[3], img_patches1.shape[4], img_patches1.shape[5]))\n",
        "input_mask1 = np.reshape(mask_patches1, (-1, mask_patches1.shape[3], mask_patches1.shape[4], mask_patches1.shape[5]))\n",
        "\n",
        "train_img1 = np.stack((input_img1,)*3, axis=-1)\n",
        "train_mask1 = np.stack((input_mask1,)*3, axis=-1)\n",
        "#train_mask1 = to_categorical(input_mask1, num_classes=3)\n",
        "#train_img=np.expand_dims(train_img,axis=4)\n",
        "#train_mask = np.expand_dims(input_mask, axis=4)\n",
        "\n",
        "train_img1=tf.cast(train_img1, tf.float32)\n",
        "train_mask1=tf.cast(train_mask1, tf.float32)\n",
        "#tf.cast(train_mask_cat1, tf.float32)\n",
        "\n",
        "\n",
        "tri=np.concatenate((train_img,train_img1),axis=0)\n",
        "trm=np.concatenate((train_mask,train_mask1),axis=0)\n",
        "print(tri.shape)\n",
        "print(trm.shape)"
      ]
    },
    {
      "cell_type": "code",
      "execution_count": null,
      "metadata": {
        "colab": {
          "base_uri": "https://localhost:8080/"
        },
        "id": "o7Ph8mUKu2_N",
        "outputId": "1d532e9a-b765-41b6-919e-fcaf1fa169e0"
      },
      "outputs": [
        {
          "output_type": "stream",
          "name": "stdout",
          "text": [
            "(692, 32, 64, 64, 3)\n",
            "(692, 32, 64, 64, 3)\n"
          ]
        }
      ],
      "source": [
        "for i in range(2,len(imgn)):\n",
        "  img_patches = patchify(dimg[i], (32, 64, 64), step=64)\n",
        "  mask_patches  = patchify(dmsk[i], (32, 64, 64), step=64)\n",
        "  input_img = np.reshape(img_patches, (-1, img_patches.shape[3], img_patches.shape[4], img_patches.shape[5]))\n",
        "  input_mask = np.reshape(mask_patches, (-1, mask_patches.shape[3], mask_patches.shape[4], mask_patches.shape[5]))\n",
        "\n",
        "  train_img = np.stack((input_img,)*3, axis=-1)\n",
        "  train_mask = np.stack((input_mask,)*3, axis=-1)\n",
        "  #train_mask = to_categorical(input_mask, num_classes=3)\n",
        "  #train_img=np.expand_dims(train_img,axis=4)\n",
        "  #train_mask = np.expand_dims(input_mask, axis=4)\n",
        "\n",
        "\n",
        "\n",
        "  #train_mask_cat = to_categorical(input_mask, num_classes=3)\n",
        "  train_img=tf.cast(train_img, tf.float32)\n",
        "  train_mask=tf.cast(train_mask, tf.float32)\n",
        "\n",
        "  tri=np.concatenate((tri,train_img),axis=0)\n",
        "  trm=np.concatenate((trm,train_mask),axis=0)\n",
        "\n",
        "\n",
        "print(tri.shape)\n",
        "print(trm.shape)"
      ]
    },
    {
      "cell_type": "code",
      "execution_count": null,
      "metadata": {
        "colab": {
          "base_uri": "https://localhost:8080/",
          "height": 542
        },
        "id": "nJ7hy3_Fu6qF",
        "outputId": "710b88cd-7702-4b6e-80ab-48937e209db9"
      },
      "outputs": [
        {
          "output_type": "execute_result",
          "data": {
            "text/plain": [
              "<matplotlib.image.AxesImage at 0x7f023c1d1060>"
            ]
          },
          "metadata": {},
          "execution_count": 25
        },
        {
          "output_type": "display_data",
          "data": {
            "text/plain": [
              "<Figure size 1400x600 with 1 Axes>"
            ],
            "image/png": "[encoded data removed]"
          },
          "metadata": {}
        }
      ],
      "source": [
        "plt.figure(figsize=(14,6))\n",
        "im1=trm[25]\n",
        "plt.imshow(im1[15,:,:])"
      ]
    },
    {
      "cell_type": "code",
      "source": [
        "# imt = im1[31,:,:]\n",
        "# cv2.imwrite('test2.jpg', imt)"
      ],
      "metadata": {
        "id": "bsY3IMaC9DsC"
      },
      "execution_count": null,
      "outputs": []
    },
    {
      "cell_type": "code",
      "execution_count": null,
      "metadata": {
        "id": "G6sR1xTD4opc"
      },
      "outputs": [],
      "source": [
        "from sklearn.metrics import accuracy_score, f1_score, confusion_matrix\n",
        "acc=keras.metrics.Accuracy\n"
      ]
    },
    {
      "cell_type": "code",
      "execution_count": null,
      "metadata": {
        "id": "nE9RdGjB5A1d"
      },
      "outputs": [],
      "source": [
        "# Loss Function and coefficients to be used during training:\n",
        "def dice_coefficient(y_true, y_pred):\n",
        "    # tf.cast(y_true, tf.float32)\n",
        "    # tf.cast(y_pred, tf.float32)\n",
        "    smoothing_factor = 1\n",
        "    flat_y_true = K.flatten(y_true)\n",
        "    flat_y_pred = K.flatten(y_pred)\n",
        "    return (2. * K.sum(flat_y_true * flat_y_pred) + smoothing_factor) / (K.sum(flat_y_true) + K.sum(flat_y_pred) + smoothing_factor)\n",
        "\n",
        "def dice_coefficient_loss(y_true, y_pred):\n",
        "    # print(y_true.shape)\n",
        "    # print(y_pred.shape)\n",
        "    return 1 - dice_coefficient(y_true, y_pred)\n",
        "\n",
        "def iou_3d(y_true, y_pred):\n",
        "    intersection = np.logical_and(y_true, y_pred)\n",
        "    union = np.logical_or(y_true, y_pred)\n",
        "    iou_score = np.sum(intersection) / np.sum(union)\n",
        "    return iou_score\n",
        "\n",
        "def iou_coef(y_true, y_pred):\n",
        "  smooth=1\n",
        "  intersection = K.sum(K.abs(y_true * y_pred), axis=[1,2,3])\n",
        "  union = K.sum(y_true,[1,2,3])+K.sum(y_pred,[1,2,3])-intersection\n",
        "  iou = K.mean((intersection + smooth) / (union + smooth), axis=0)\n",
        "  return iou\n",
        "\n",
        "# def dice_coeff(y_true, y_pred,smooth=1):\n",
        "#     y_true_f = K.flatten(y_true)\n",
        "#     y_pred_f = K.flatten(y_pred)\n",
        "#     intersection = K.sum(y_true_f * y_pred_f)\n",
        "#     score = (2. * intersection + smooth) / (K.sum(y_true_f) + K.sum(y_pred_f) + smooth)\n",
        "#     return score\n",
        "\n",
        "# Computing Precision\n",
        "def precision(y_true, y_pred):\n",
        "        true_positives = K.sum(K.round(K.clip(y_true * y_pred, 0, 1)))\n",
        "        predicted_positives = K.sum(K.round(K.clip(y_pred, 0, 1)))\n",
        "        precision = true_positives / (predicted_positives + K.epsilon())\n",
        "        return precision\n",
        "\n",
        "\n",
        "# Computing Sensitivity\n",
        "def sensitivity(y_true, y_pred):\n",
        "    true_positives = K.sum(K.round(K.clip(y_true * y_pred, 0, 1)))\n",
        "    possible_positives = K.sum(K.round(K.clip(y_true, 0, 1)))\n",
        "    return true_positives / (possible_positives + K.epsilon())\n",
        "\n",
        "\n",
        "# Computing Specificity\n",
        "def specificity(y_true, y_pred):\n",
        "    true_negatives = K.sum(K.round(K.clip((1-y_true) * (1-y_pred), 0, 1)))\n",
        "    possible_negatives = K.sum(K.round(K.clip(1-y_true, 0, 1)))\n",
        "    return true_negatives / (possible_negatives + K.epsilon())"
      ]
    },
    {
      "cell_type": "code",
      "execution_count": null,
      "metadata": {
        "id": "9dFkL0RZ5CA2"
      },
      "outputs": [],
      "source": [
        "from tensorflow.keras.layers import Dense, Flatten\n",
        "from tensorflow.keras.layers import add"
      ]
    },
    {
      "cell_type": "code",
      "execution_count": null,
      "metadata": {
        "id": "8TIiTmed5Doc"
      },
      "outputs": [],
      "source": [
        "# import tensorflow as tf\n",
        "# from tensorflow.keras.layers import Input, Conv3D, MaxPooling3D, UpSampling3D, concatenate, BatchNormalization\n",
        "\n",
        "# def conv_block(input_tensor, num_filters):\n",
        "#     x = Conv3D(num_filters, kernel_size=(3, 3, 3), activation='relu', padding='same')(input_tensor)\n",
        "#     x = BatchNormalization()(x)\n",
        "#     x = Conv3D(num_filters, kernel_size=(3, 3, 3), activation='relu', padding='same')(x)\n",
        "#     x = BatchNormalization()(x)\n",
        "#     return x\n",
        "\n",
        "# def res_block(input_tensor, num_filters):\n",
        "#     x = conv_block(input_tensor, num_filters)\n",
        "#     x = concatenate([x, input_tensor])\n",
        "#     return x\n",
        "\n",
        "# def encoder_block(input_tensor, num_filters):\n",
        "#     x = conv_block(input_tensor, num_filters)\n",
        "#     residual = res_block(x, num_filters)\n",
        "#     x = MaxPooling3D((2, 2, 2))(residual)\n",
        "#     return x, residual\n",
        "\n",
        "# def decoder_block(input_tensor, residual, num_filters):\n",
        "#     x = UpSampling3D((2, 2, 2))(input_tensor)\n",
        "#     x = concatenate([x, residual])\n",
        "#     x = conv_block(x, num_filters)\n",
        "#     return x\n",
        "\n",
        "# def unet_3d_resnet(input_shape=(32, 64, 64, 3), num_filters=[16, 32, 32, 64, 128]):\n",
        "#     inputs = Input(input_shape)\n",
        "#     x = inputs\n",
        "\n",
        "#     # Encoder\n",
        "#     encoder_residuals = []\n",
        "#     for f in num_filters:\n",
        "#         x, residual = encoder_block(x, f)\n",
        "#         encoder_residuals.append(residual)\n",
        "\n",
        "#     # Middle\n",
        "#     x = conv_block(x, num_filters[-1])\n",
        "\n",
        "#     # Decoder\n",
        "#     for i, f in enumerate(reversed(num_filters[:-1])):\n",
        "#         residual = encoder_residuals[-i-1]\n",
        "#         x = decoder_block(x, residual, f)\n",
        "\n",
        "#     x = UpSampling3D((2, 2, 2))(x)\n",
        "#     # Output\n",
        "#     outputs = Conv3D(3, (1, 1, 1), activation='sigmoid')(x)\n",
        "\n",
        "#     model = tf.keras.models.Model(inputs=[inputs], outputs=[outputs])\n",
        "\n",
        "#     return model"
      ]
    },
    {
      "cell_type": "code",
      "execution_count": null,
      "metadata": {
        "id": "sytkvBwly4pL"
      },
      "outputs": [],
      "source": [
        "\n",
        "\n",
        "def conv_block(input_tensor, num_filters):\n",
        "    x = Conv3D(num_filters, kernel_size=(3, 3, 3), activation='relu', padding='same')(input_tensor)\n",
        "    x = BatchNormalization()(x)\n",
        "    x = Conv3D(num_filters, kernel_size=(3, 3, 3), activation='relu', padding='same')(x)\n",
        "    x = BatchNormalization()(x)\n",
        "    return x\n",
        "\n",
        "def res_block(input_tensor, num_filters):\n",
        "    x = conv_block(input_tensor, num_filters)\n",
        "    x = concatenate([x, input_tensor])\n",
        "    return x\n",
        "\n",
        "def encoder_block(input_tensor, num_filters):\n",
        "    x = conv_block(input_tensor, num_filters)\n",
        "    residual = res_block(x, num_filters)\n",
        "    x = MaxPooling3D((2, 2, 2))(residual)\n",
        "    return x, residual\n",
        "\n",
        "def decoder_block(input_tensor, residual, num_filters):\n",
        "    x = UpSampling3D((2, 2, 2))(input_tensor)\n",
        "    x = concatenate([x, residual])\n",
        "    x = conv_block(x, num_filters)\n",
        "    return x\n",
        "\n",
        "def unet_3d_resnet(input_shape=(32, 64, 64, 3), num_filters=[16, 32, 32, 64, 128]):\n",
        "    inputs = Input(input_shape)\n",
        "    x = inputs\n",
        "\n",
        "    # Encoder\n",
        "    encoder_residuals = []\n",
        "    for f in num_filters:\n",
        "        x, residual = encoder_block(x, f)\n",
        "        encoder_residuals.append(residual)\n",
        "\n",
        "    # Middle\n",
        "    x = conv_block(x, num_filters[-1])\n",
        "\n",
        "    # Decoder\n",
        "    for i, f in enumerate(reversed(num_filters[:-1])):\n",
        "        residual = encoder_residuals[-i-1]\n",
        "        x = decoder_block(x, residual, f)\n",
        "\n",
        "    x = UpSampling3D((2, 2, 2))(x)\n",
        "    # Output\n",
        "    outputs = Conv3D(3, (1, 1, 1), activation='sigmoid')(x)\n",
        "\n",
        "    model = tf.keras.models.Model(inputs=[inputs], outputs=[outputs])\n",
        "\n",
        "    return model"
      ]
    },
    {
      "cell_type": "code",
      "execution_count": null,
      "metadata": {
        "colab": {
          "base_uri": "https://localhost:8080/"
        },
        "id": "yGVr38xT5FAL",
        "outputId": "65f25926-9875-4ed0-8861-a22f950465a9"
      },
      "outputs": [
        {
          "output_type": "stream",
          "name": "stdout",
          "text": [
            "Model: \"model\"\n",
            "__________________________________________________________________________________________________\n",
            " Layer (type)                   Output Shape         Param #     Connected to                     \n",
            "==================================================================================================\n",
            " input_1 (InputLayer)           [(None, 32, 64, 64,  0           []                               \n",
            "                                 3)]                                                              \n",
            "                                                                                                  \n",
            " conv3d (Conv3D)                (None, 32, 64, 64,   1312        ['input_1[0][0]']                \n",
            "                                16)                                                               \n",
            "                                                                                                  \n",
            " batch_normalization (BatchNorm  (None, 32, 64, 64,   64         ['conv3d[0][0]']                 \n",
            " alization)                     16)                                                               \n",
            "                                                                                                  \n",
            " conv3d_1 (Conv3D)              (None, 32, 64, 64,   6928        ['batch_normalization[0][0]']    \n",
            "                                16)                                                               \n",
            "                                                                                                  \n",
            " batch_normalization_1 (BatchNo  (None, 32, 64, 64,   64         ['conv3d_1[0][0]']               \n",
            " rmalization)                   16)                                                               \n",
            "                                                                                                  \n",
            " conv3d_2 (Conv3D)              (None, 32, 64, 64,   6928        ['batch_normalization_1[0][0]']  \n",
            "                                16)                                                               \n",
            "                                                                                                  \n",
            " batch_normalization_2 (BatchNo  (None, 32, 64, 64,   64         ['conv3d_2[0][0]']               \n",
            " rmalization)                   16)                                                               \n",
            "                                                                                                  \n",
            " conv3d_3 (Conv3D)              (None, 32, 64, 64,   6928        ['batch_normalization_2[0][0]']  \n",
            "                                16)                                                               \n",
            "                                                                                                  \n",
            " batch_normalization_3 (BatchNo  (None, 32, 64, 64,   64         ['conv3d_3[0][0]']               \n",
            " rmalization)                   16)                                                               \n",
            "                                                                                                  \n",
            " concatenate (Concatenate)      (None, 32, 64, 64,   0           ['batch_normalization_3[0][0]',  \n",
            "                                32)                               'batch_normalization_1[0][0]']  \n",
            "                                                                                                  \n",
            " max_pooling3d (MaxPooling3D)   (None, 16, 32, 32,   0           ['concatenate[0][0]']            \n",
            "                                32)                                                               \n",
            "                                                                                                  \n",
            " conv3d_4 (Conv3D)              (None, 16, 32, 32,   27680       ['max_pooling3d[0][0]']          \n",
            "                                32)                                                               \n",
            "                                                                                                  \n",
            " batch_normalization_4 (BatchNo  (None, 16, 32, 32,   128        ['conv3d_4[0][0]']               \n",
            " rmalization)                   32)                                                               \n",
            "                                                                                                  \n",
            " conv3d_5 (Conv3D)              (None, 16, 32, 32,   27680       ['batch_normalization_4[0][0]']  \n",
            "                                32)                                                               \n",
            "                                                                                                  \n",
            " batch_normalization_5 (BatchNo  (None, 16, 32, 32,   128        ['conv3d_5[0][0]']               \n",
            " rmalization)                   32)                                                               \n",
            "                                                                                                  \n",
            " conv3d_6 (Conv3D)              (None, 16, 32, 32,   27680       ['batch_normalization_5[0][0]']  \n",
            "                                32)                                                               \n",
            "                                                                                                  \n",
            " batch_normalization_6 (BatchNo  (None, 16, 32, 32,   128        ['conv3d_6[0][0]']               \n",
            " rmalization)                   32)                                                               \n",
            "                                                                                                  \n",
            " conv3d_7 (Conv3D)              (None, 16, 32, 32,   27680       ['batch_normalization_6[0][0]']  \n",
            "                                32)                                                               \n",
            "                                                                                                  \n",
            " batch_normalization_7 (BatchNo  (None, 16, 32, 32,   128        ['conv3d_7[0][0]']               \n",
            " rmalization)                   32)                                                               \n",
            "                                                                                                  \n",
            " concatenate_1 (Concatenate)    (None, 16, 32, 32,   0           ['batch_normalization_7[0][0]',  \n",
            "                                64)                               'batch_normalization_5[0][0]']  \n",
            "                                                                                                  \n",
            " max_pooling3d_1 (MaxPooling3D)  (None, 8, 16, 16, 6  0          ['concatenate_1[0][0]']          \n",
            "                                4)                                                                \n",
            "                                                                                                  \n",
            " conv3d_8 (Conv3D)              (None, 8, 16, 16, 3  55328       ['max_pooling3d_1[0][0]']        \n",
            "                                2)                                                                \n",
            "                                                                                                  \n",
            " batch_normalization_8 (BatchNo  (None, 8, 16, 16, 3  128        ['conv3d_8[0][0]']               \n",
            " rmalization)                   2)                                                                \n",
            "                                                                                                  \n",
            " conv3d_9 (Conv3D)              (None, 8, 16, 16, 3  27680       ['batch_normalization_8[0][0]']  \n",
            "                                2)                                                                \n",
            "                                                                                                  \n",
            " batch_normalization_9 (BatchNo  (None, 8, 16, 16, 3  128        ['conv3d_9[0][0]']               \n",
            " rmalization)                   2)                                                                \n",
            "                                                                                                  \n",
            " conv3d_10 (Conv3D)             (None, 8, 16, 16, 3  27680       ['batch_normalization_9[0][0]']  \n",
            "                                2)                                                                \n",
            "                                                                                                  \n",
            " batch_normalization_10 (BatchN  (None, 8, 16, 16, 3  128        ['conv3d_10[0][0]']              \n",
            " ormalization)                  2)                                                                \n",
            "                                                                                                  \n",
            " conv3d_11 (Conv3D)             (None, 8, 16, 16, 3  27680       ['batch_normalization_10[0][0]'] \n",
            "                                2)                                                                \n",
            "                                                                                                  \n",
            " batch_normalization_11 (BatchN  (None, 8, 16, 16, 3  128        ['conv3d_11[0][0]']              \n",
            " ormalization)                  2)                                                                \n",
            "                                                                                                  \n",
            " concatenate_2 (Concatenate)    (None, 8, 16, 16, 6  0           ['batch_normalization_11[0][0]', \n",
            "                                4)                                'batch_normalization_9[0][0]']  \n",
            "                                                                                                  \n",
            " max_pooling3d_2 (MaxPooling3D)  (None, 4, 8, 8, 64)  0          ['concatenate_2[0][0]']          \n",
            "                                                                                                  \n",
            " conv3d_12 (Conv3D)             (None, 4, 8, 8, 64)  110656      ['max_pooling3d_2[0][0]']        \n",
            "                                                                                                  \n",
            " batch_normalization_12 (BatchN  (None, 4, 8, 8, 64)  256        ['conv3d_12[0][0]']              \n",
            " ormalization)                                                                                    \n",
            "                                                                                                  \n",
            " conv3d_13 (Conv3D)             (None, 4, 8, 8, 64)  110656      ['batch_normalization_12[0][0]'] \n",
            "                                                                                                  \n",
            " batch_normalization_13 (BatchN  (None, 4, 8, 8, 64)  256        ['conv3d_13[0][0]']              \n",
            " ormalization)                                                                                    \n",
            "                                                                                                  \n",
            " conv3d_14 (Conv3D)             (None, 4, 8, 8, 64)  110656      ['batch_normalization_13[0][0]'] \n",
            "                                                                                                  \n",
            " batch_normalization_14 (BatchN  (None, 4, 8, 8, 64)  256        ['conv3d_14[0][0]']              \n",
            " ormalization)                                                                                    \n",
            "                                                                                                  \n",
            " conv3d_15 (Conv3D)             (None, 4, 8, 8, 64)  110656      ['batch_normalization_14[0][0]'] \n",
            "                                                                                                  \n",
            " batch_normalization_15 (BatchN  (None, 4, 8, 8, 64)  256        ['conv3d_15[0][0]']              \n",
            " ormalization)                                                                                    \n",
            "                                                                                                  \n",
            " concatenate_3 (Concatenate)    (None, 4, 8, 8, 128  0           ['batch_normalization_15[0][0]', \n",
            "                                )                                 'batch_normalization_13[0][0]'] \n",
            "                                                                                                  \n",
            " max_pooling3d_3 (MaxPooling3D)  (None, 2, 4, 4, 128  0          ['concatenate_3[0][0]']          \n",
            "                                )                                                                 \n",
            "                                                                                                  \n",
            " conv3d_16 (Conv3D)             (None, 2, 4, 4, 128  442496      ['max_pooling3d_3[0][0]']        \n",
            "                                )                                                                 \n",
            "                                                                                                  \n",
            " batch_normalization_16 (BatchN  (None, 2, 4, 4, 128  512        ['conv3d_16[0][0]']              \n",
            " ormalization)                  )                                                                 \n",
            "                                                                                                  \n",
            " conv3d_17 (Conv3D)             (None, 2, 4, 4, 128  442496      ['batch_normalization_16[0][0]'] \n",
            "                                )                                                                 \n",
            "                                                                                                  \n",
            " batch_normalization_17 (BatchN  (None, 2, 4, 4, 128  512        ['conv3d_17[0][0]']              \n",
            " ormalization)                  )                                                                 \n",
            "                                                                                                  \n",
            " conv3d_18 (Conv3D)             (None, 2, 4, 4, 128  442496      ['batch_normalization_17[0][0]'] \n",
            "                                )                                                                 \n",
            "                                                                                                  \n",
            " batch_normalization_18 (BatchN  (None, 2, 4, 4, 128  512        ['conv3d_18[0][0]']              \n",
            " ormalization)                  )                                                                 \n",
            "                                                                                                  \n",
            " conv3d_19 (Conv3D)             (None, 2, 4, 4, 128  442496      ['batch_normalization_18[0][0]'] \n",
            "                                )                                                                 \n",
            "                                                                                                  \n",
            " batch_normalization_19 (BatchN  (None, 2, 4, 4, 128  512        ['conv3d_19[0][0]']              \n",
            " ormalization)                  )                                                                 \n",
            "                                                                                                  \n",
            " concatenate_4 (Concatenate)    (None, 2, 4, 4, 256  0           ['batch_normalization_19[0][0]', \n",
            "                                )                                 'batch_normalization_17[0][0]'] \n",
            "                                                                                                  \n",
            " max_pooling3d_4 (MaxPooling3D)  (None, 1, 2, 2, 256  0          ['concatenate_4[0][0]']          \n",
            "                                )                                                                 \n",
            "                                                                                                  \n",
            " conv3d_20 (Conv3D)             (None, 1, 2, 2, 128  884864      ['max_pooling3d_4[0][0]']        \n",
            "                                )                                                                 \n",
            "                                                                                                  \n",
            " batch_normalization_20 (BatchN  (None, 1, 2, 2, 128  512        ['conv3d_20[0][0]']              \n",
            " ormalization)                  )                                                                 \n",
            "                                                                                                  \n",
            " conv3d_21 (Conv3D)             (None, 1, 2, 2, 128  442496      ['batch_normalization_20[0][0]'] \n",
            "                                )                                                                 \n",
            "                                                                                                  \n",
            " batch_normalization_21 (BatchN  (None, 1, 2, 2, 128  512        ['conv3d_21[0][0]']              \n",
            " ormalization)                  )                                                                 \n",
            "                                                                                                  \n",
            " up_sampling3d (UpSampling3D)   (None, 2, 4, 4, 128  0           ['batch_normalization_21[0][0]'] \n",
            "                                )                                                                 \n",
            "                                                                                                  \n",
            " concatenate_5 (Concatenate)    (None, 2, 4, 4, 384  0           ['up_sampling3d[0][0]',          \n",
            "                                )                                 'concatenate_4[0][0]']          \n",
            "                                                                                                  \n",
            " conv3d_22 (Conv3D)             (None, 2, 4, 4, 64)  663616      ['concatenate_5[0][0]']          \n",
            "                                                                                                  \n",
            " batch_normalization_22 (BatchN  (None, 2, 4, 4, 64)  256        ['conv3d_22[0][0]']              \n",
            " ormalization)                                                                                    \n",
            "                                                                                                  \n",
            " conv3d_23 (Conv3D)             (None, 2, 4, 4, 64)  110656      ['batch_normalization_22[0][0]'] \n",
            "                                                                                                  \n",
            " batch_normalization_23 (BatchN  (None, 2, 4, 4, 64)  256        ['conv3d_23[0][0]']              \n",
            " ormalization)                                                                                    \n",
            "                                                                                                  \n",
            " up_sampling3d_1 (UpSampling3D)  (None, 4, 8, 8, 64)  0          ['batch_normalization_23[0][0]'] \n",
            "                                                                                                  \n",
            " concatenate_6 (Concatenate)    (None, 4, 8, 8, 192  0           ['up_sampling3d_1[0][0]',        \n",
            "                                )                                 'concatenate_3[0][0]']          \n",
            "                                                                                                  \n",
            " conv3d_24 (Conv3D)             (None, 4, 8, 8, 32)  165920      ['concatenate_6[0][0]']          \n",
            "                                                                                                  \n",
            " batch_normalization_24 (BatchN  (None, 4, 8, 8, 32)  128        ['conv3d_24[0][0]']              \n",
            " ormalization)                                                                                    \n",
            "                                                                                                  \n",
            " conv3d_25 (Conv3D)             (None, 4, 8, 8, 32)  27680       ['batch_normalization_24[0][0]'] \n",
            "                                                                                                  \n",
            " batch_normalization_25 (BatchN  (None, 4, 8, 8, 32)  128        ['conv3d_25[0][0]']              \n",
            " ormalization)                                                                                    \n",
            "                                                                                                  \n",
            " up_sampling3d_2 (UpSampling3D)  (None, 8, 16, 16, 3  0          ['batch_normalization_25[0][0]'] \n",
            "                                2)                                                                \n",
            "                                                                                                  \n",
            " concatenate_7 (Concatenate)    (None, 8, 16, 16, 9  0           ['up_sampling3d_2[0][0]',        \n",
            "                                6)                                'concatenate_2[0][0]']          \n",
            "                                                                                                  \n",
            " conv3d_26 (Conv3D)             (None, 8, 16, 16, 3  82976       ['concatenate_7[0][0]']          \n",
            "                                2)                                                                \n",
            "                                                                                                  \n",
            " batch_normalization_26 (BatchN  (None, 8, 16, 16, 3  128        ['conv3d_26[0][0]']              \n",
            " ormalization)                  2)                                                                \n",
            "                                                                                                  \n",
            " conv3d_27 (Conv3D)             (None, 8, 16, 16, 3  27680       ['batch_normalization_26[0][0]'] \n",
            "                                2)                                                                \n",
            "                                                                                                  \n",
            " batch_normalization_27 (BatchN  (None, 8, 16, 16, 3  128        ['conv3d_27[0][0]']              \n",
            " ormalization)                  2)                                                                \n",
            "                                                                                                  \n",
            " up_sampling3d_3 (UpSampling3D)  (None, 16, 32, 32,   0          ['batch_normalization_27[0][0]'] \n",
            "                                32)                                                               \n",
            "                                                                                                  \n",
            " concatenate_8 (Concatenate)    (None, 16, 32, 32,   0           ['up_sampling3d_3[0][0]',        \n",
            "                                96)                               'concatenate_1[0][0]']          \n",
            "                                                                                                  \n",
            " conv3d_28 (Conv3D)             (None, 16, 32, 32,   41488       ['concatenate_8[0][0]']          \n",
            "                                16)                                                               \n",
            "                                                                                                  \n",
            " batch_normalization_28 (BatchN  (None, 16, 32, 32,   64         ['conv3d_28[0][0]']              \n",
            " ormalization)                  16)                                                               \n",
            "                                                                                                  \n",
            " conv3d_29 (Conv3D)             (None, 16, 32, 32,   6928        ['batch_normalization_28[0][0]'] \n",
            "                                16)                                                               \n",
            "                                                                                                  \n",
            " batch_normalization_29 (BatchN  (None, 16, 32, 32,   64         ['conv3d_29[0][0]']              \n",
            " ormalization)                  16)                                                               \n",
            "                                                                                                  \n",
            " up_sampling3d_4 (UpSampling3D)  (None, 32, 64, 64,   0          ['batch_normalization_29[0][0]'] \n",
            "                                16)                                                               \n",
            "                                                                                                  \n",
            " conv3d_30 (Conv3D)             (None, 32, 64, 64,   51          ['up_sampling3d_4[0][0]']        \n",
            "                                3)                                                                \n",
            "                                                                                                  \n",
            "==================================================================================================\n",
            "Total params: 4,944,675\n",
            "Trainable params: 4,941,411\n",
            "Non-trainable params: 3,264\n",
            "__________________________________________________________________________________________________\n"
          ]
        }
      ],
      "source": [
        "iou=keras.metrics.IoU\n",
        "model=unet_3d_resnet()\n",
        "opt = keras.optimizers.Adam(learning_rate=0.0005)\n",
        "model.compile(optimizer=opt,\n",
        "              loss=dice_coefficient_loss,\n",
        "              metrics=[dice_coefficient,iou_coef])\n",
        "model.summary()"
      ]
    },
    {
      "cell_type": "code",
      "execution_count": null,
      "metadata": {
        "id": "kqUpjGyl5NCP"
      },
      "outputs": [],
      "source": [
        "# from keras.utils import plot_model\n",
        "# plot_model(model, to_file='mlp-mnist.png', show_shapes=True)"
      ]
    },
    {
      "cell_type": "code",
      "execution_count": null,
      "metadata": {
        "id": "u7bmX5K55QTH"
      },
      "outputs": [],
      "source": [
        "from sklearn.model_selection import train_test_split\n",
        "#X_tr, X_val, y_tr, y_val = train_test_split(tri, trm, test_size = 0.10,random_state=9)\n",
        "X_train, X_test, y_train, y_test = train_test_split(tri, trm, test_size = 0.1, random_state=19)"
      ]
    },
    {
      "cell_type": "code",
      "source": [
        "# del(imgn)\n",
        "# del(mskn)"
      ],
      "metadata": {
        "id": "pXsePRGG8uBj"
      },
      "execution_count": null,
      "outputs": []
    },
    {
      "cell_type": "code",
      "execution_count": null,
      "metadata": {
        "id": "6oXUN7Qj3g9e",
        "colab": {
          "base_uri": "https://localhost:8080/"
        },
        "outputId": "058cffce-7012-43b2-f54e-2bfb76f4c6e3"
      },
      "outputs": [
        {
          "output_type": "stream",
          "name": "stdout",
          "text": [
            "Epoch 1/150\n",
            "70/70 [==============================] - 37s 307ms/step - loss: 0.8994 - dice_coefficient: 0.1006 - iou_coef: 0.0469 - val_loss: 0.9232 - val_dice_coefficient: 0.0764 - val_iou_coef: 0.0383\n",
            "Epoch 2/150\n",
            "70/70 [==============================] - 18s 251ms/step - loss: 0.8691 - dice_coefficient: 0.1310 - iou_coef: 0.0567 - val_loss: 0.9494 - val_dice_coefficient: 0.0510 - val_iou_coef: 0.0211\n",
            "Epoch 3/150\n",
            "70/70 [==============================] - 18s 253ms/step - loss: 0.8401 - dice_coefficient: 0.1599 - iou_coef: 0.0661 - val_loss: 0.9263 - val_dice_coefficient: 0.0734 - val_iou_coef: 0.0384\n",
            "Epoch 4/150\n",
            "70/70 [==============================] - 18s 254ms/step - loss: 0.8021 - dice_coefficient: 0.1982 - iou_coef: 0.0793 - val_loss: 0.8440 - val_dice_coefficient: 0.1553 - val_iou_coef: 0.0695\n",
            "Epoch 5/150\n",
            "70/70 [==============================] - 19s 267ms/step - loss: 0.7411 - dice_coefficient: 0.2587 - iou_coef: 0.0993 - val_loss: 0.7537 - val_dice_coefficient: 0.2459 - val_iou_coef: 0.1046\n",
            "Epoch 6/150\n",
            "70/70 [==============================] - 18s 259ms/step - loss: 0.6945 - dice_coefficient: 0.3054 - iou_coef: 0.1160 - val_loss: 0.6490 - val_dice_coefficient: 0.3474 - val_iou_coef: 0.1213\n",
            "Epoch 7/150\n",
            "70/70 [==============================] - 18s 258ms/step - loss: 0.6284 - dice_coefficient: 0.3718 - iou_coef: 0.1525 - val_loss: 0.6052 - val_dice_coefficient: 0.3946 - val_iou_coef: 0.1532\n",
            "Epoch 8/150\n",
            "70/70 [==============================] - 19s 275ms/step - loss: 0.5539 - dice_coefficient: 0.4463 - iou_coef: 0.1813 - val_loss: 0.5297 - val_dice_coefficient: 0.4703 - val_iou_coef: 0.2154\n",
            "Epoch 9/150\n",
            "70/70 [==============================] - 18s 261ms/step - loss: 0.4731 - dice_coefficient: 0.5271 - iou_coef: 0.2127 - val_loss: 0.3843 - val_dice_coefficient: 0.6161 - val_iou_coef: 0.5041\n",
            "Epoch 10/150\n",
            "70/70 [==============================] - 19s 268ms/step - loss: 0.4228 - dice_coefficient: 0.5772 - iou_coef: 0.2344 - val_loss: 0.3766 - val_dice_coefficient: 0.6228 - val_iou_coef: 0.5506\n",
            "Epoch 11/150\n",
            "70/70 [==============================] - 18s 259ms/step - loss: 0.4239 - dice_coefficient: 0.5761 - iou_coef: 0.2316 - val_loss: 0.4397 - val_dice_coefficient: 0.5569 - val_iou_coef: 0.3018\n",
            "Epoch 12/150\n",
            "70/70 [==============================] - 18s 260ms/step - loss: 0.3705 - dice_coefficient: 0.6295 - iou_coef: 0.2524 - val_loss: 0.4179 - val_dice_coefficient: 0.5842 - val_iou_coef: 0.2940\n",
            "Epoch 13/150\n",
            "70/70 [==============================] - 18s 262ms/step - loss: 0.3424 - dice_coefficient: 0.6577 - iou_coef: 0.2789 - val_loss: 0.3578 - val_dice_coefficient: 0.6413 - val_iou_coef: 0.3077\n",
            "Epoch 14/150\n",
            "70/70 [==============================] - 19s 270ms/step - loss: 0.3367 - dice_coefficient: 0.6634 - iou_coef: 0.2807 - val_loss: 0.4665 - val_dice_coefficient: 0.5346 - val_iou_coef: 0.2358\n",
            "Epoch 15/150\n",
            "70/70 [==============================] - 18s 261ms/step - loss: 0.2955 - dice_coefficient: 0.7046 - iou_coef: 0.2974 - val_loss: 0.3205 - val_dice_coefficient: 0.6801 - val_iou_coef: 0.3351\n",
            "Epoch 16/150\n",
            "70/70 [==============================] - 18s 260ms/step - loss: 0.3051 - dice_coefficient: 0.6950 - iou_coef: 0.2993 - val_loss: 0.3101 - val_dice_coefficient: 0.6885 - val_iou_coef: 0.3293\n",
            "Epoch 17/150\n",
            "70/70 [==============================] - 19s 270ms/step - loss: 0.2969 - dice_coefficient: 0.7029 - iou_coef: 0.3068 - val_loss: 0.3406 - val_dice_coefficient: 0.6603 - val_iou_coef: 0.3136\n",
            "Epoch 18/150\n",
            "70/70 [==============================] - 19s 270ms/step - loss: 0.3141 - dice_coefficient: 0.6858 - iou_coef: 0.3100 - val_loss: 0.2578 - val_dice_coefficient: 0.7419 - val_iou_coef: 0.3802\n",
            "Epoch 19/150\n",
            "70/70 [==============================] - 19s 270ms/step - loss: 0.2688 - dice_coefficient: 0.7314 - iou_coef: 0.3255 - val_loss: 0.4119 - val_dice_coefficient: 0.5907 - val_iou_coef: 0.3351\n",
            "Epoch 20/150\n",
            "70/70 [==============================] - 18s 261ms/step - loss: 0.2819 - dice_coefficient: 0.7181 - iou_coef: 0.3262 - val_loss: 0.2605 - val_dice_coefficient: 0.7393 - val_iou_coef: 0.4852\n",
            "Epoch 21/150\n",
            "70/70 [==============================] - 18s 262ms/step - loss: 0.2699 - dice_coefficient: 0.7303 - iou_coef: 0.3353 - val_loss: 0.2722 - val_dice_coefficient: 0.7279 - val_iou_coef: 0.4399\n",
            "Epoch 22/150\n",
            "70/70 [==============================] - 18s 263ms/step - loss: 0.2666 - dice_coefficient: 0.7333 - iou_coef: 0.3349 - val_loss: 0.2617 - val_dice_coefficient: 0.7384 - val_iou_coef: 0.4215\n",
            "Epoch 23/150\n",
            "70/70 [==============================] - 18s 263ms/step - loss: 0.2478 - dice_coefficient: 0.7522 - iou_coef: 0.3468 - val_loss: 0.2740 - val_dice_coefficient: 0.7263 - val_iou_coef: 0.3785\n",
            "Epoch 24/150\n",
            "70/70 [==============================] - 18s 263ms/step - loss: 0.2318 - dice_coefficient: 0.7682 - iou_coef: 0.3666 - val_loss: 0.2529 - val_dice_coefficient: 0.7474 - val_iou_coef: 0.4035\n",
            "Epoch 25/150\n",
            "70/70 [==============================] - 18s 262ms/step - loss: 0.2405 - dice_coefficient: 0.7596 - iou_coef: 0.3770 - val_loss: 0.2455 - val_dice_coefficient: 0.7548 - val_iou_coef: 0.3928\n",
            "Epoch 26/150\n",
            "70/70 [==============================] - 19s 271ms/step - loss: 0.2201 - dice_coefficient: 0.7797 - iou_coef: 0.3760 - val_loss: 0.7518 - val_dice_coefficient: 0.2478 - val_iou_coef: 0.1298\n",
            "Epoch 27/150\n",
            "70/70 [==============================] - 18s 261ms/step - loss: 0.2753 - dice_coefficient: 0.7247 - iou_coef: 0.3476 - val_loss: 0.2964 - val_dice_coefficient: 0.7020 - val_iou_coef: 0.3727\n",
            "Epoch 28/150\n",
            "70/70 [==============================] - 18s 262ms/step - loss: 0.2455 - dice_coefficient: 0.7545 - iou_coef: 0.3756 - val_loss: 0.2869 - val_dice_coefficient: 0.7130 - val_iou_coef: 0.4074\n",
            "Epoch 29/150\n",
            "70/70 [==============================] - 18s 262ms/step - loss: 0.2321 - dice_coefficient: 0.7680 - iou_coef: 0.3783 - val_loss: 0.2854 - val_dice_coefficient: 0.7152 - val_iou_coef: 0.3933\n",
            "Epoch 30/150\n",
            "70/70 [==============================] - 18s 262ms/step - loss: 0.2164 - dice_coefficient: 0.7836 - iou_coef: 0.3915 - val_loss: 0.2375 - val_dice_coefficient: 0.7624 - val_iou_coef: 0.4610\n",
            "Epoch 31/150\n",
            "70/70 [==============================] - 18s 263ms/step - loss: 0.2339 - dice_coefficient: 0.7662 - iou_coef: 0.3926 - val_loss: 0.2421 - val_dice_coefficient: 0.7579 - val_iou_coef: 0.4095\n",
            "Epoch 32/150\n",
            "70/70 [==============================] - 18s 263ms/step - loss: 0.2120 - dice_coefficient: 0.7881 - iou_coef: 0.4032 - val_loss: 0.2162 - val_dice_coefficient: 0.7837 - val_iou_coef: 0.4464\n",
            "Epoch 33/150\n",
            "70/70 [==============================] - 19s 271ms/step - loss: 0.1981 - dice_coefficient: 0.8020 - iou_coef: 0.4205 - val_loss: 0.2099 - val_dice_coefficient: 0.7901 - val_iou_coef: 0.4565\n",
            "Epoch 34/150\n",
            "70/70 [==============================] - 18s 262ms/step - loss: 0.1806 - dice_coefficient: 0.8193 - iou_coef: 0.4313 - val_loss: 0.2158 - val_dice_coefficient: 0.7842 - val_iou_coef: 0.4723\n",
            "Epoch 35/150\n",
            "70/70 [==============================] - 18s 263ms/step - loss: 0.1940 - dice_coefficient: 0.8061 - iou_coef: 0.4320 - val_loss: 0.2124 - val_dice_coefficient: 0.7875 - val_iou_coef: 0.4599\n",
            "Epoch 36/150\n",
            "70/70 [==============================] - 18s 263ms/step - loss: 0.1808 - dice_coefficient: 0.8191 - iou_coef: 0.4382 - val_loss: 0.2008 - val_dice_coefficient: 0.7991 - val_iou_coef: 0.4788\n",
            "Epoch 37/150\n",
            "70/70 [==============================] - 18s 262ms/step - loss: 0.1876 - dice_coefficient: 0.8121 - iou_coef: 0.4370 - val_loss: 0.2257 - val_dice_coefficient: 0.7743 - val_iou_coef: 0.4557\n",
            "Epoch 38/150\n",
            "70/70 [==============================] - 18s 264ms/step - loss: 0.1906 - dice_coefficient: 0.8094 - iou_coef: 0.4373 - val_loss: 0.2077 - val_dice_coefficient: 0.7921 - val_iou_coef: 0.5001\n",
            "Epoch 39/150\n",
            "70/70 [==============================] - 18s 262ms/step - loss: 0.1737 - dice_coefficient: 0.8263 - iou_coef: 0.4585 - val_loss: 0.2171 - val_dice_coefficient: 0.7826 - val_iou_coef: 0.4925\n",
            "Epoch 40/150\n",
            "70/70 [==============================] - 18s 263ms/step - loss: 0.1730 - dice_coefficient: 0.8270 - iou_coef: 0.4642 - val_loss: 0.2106 - val_dice_coefficient: 0.7888 - val_iou_coef: 0.4572\n",
            "Epoch 41/150\n",
            "70/70 [==============================] - 19s 272ms/step - loss: 0.1799 - dice_coefficient: 0.8202 - iou_coef: 0.4680 - val_loss: 0.2130 - val_dice_coefficient: 0.7866 - val_iou_coef: 0.4823\n",
            "Epoch 42/150\n",
            "70/70 [==============================] - 18s 263ms/step - loss: 0.1837 - dice_coefficient: 0.8163 - iou_coef: 0.4747 - val_loss: 0.2679 - val_dice_coefficient: 0.7316 - val_iou_coef: 0.4874\n",
            "Epoch 43/150\n",
            "70/70 [==============================] - 18s 263ms/step - loss: 0.1806 - dice_coefficient: 0.8195 - iou_coef: 0.4661 - val_loss: 0.2299 - val_dice_coefficient: 0.7692 - val_iou_coef: 0.5186\n",
            "Epoch 44/150\n",
            "70/70 [==============================] - 18s 262ms/step - loss: 0.1617 - dice_coefficient: 0.8383 - iou_coef: 0.4839 - val_loss: 0.2086 - val_dice_coefficient: 0.7915 - val_iou_coef: 0.5187\n",
            "Epoch 45/150\n",
            "70/70 [==============================] - 18s 262ms/step - loss: 0.1611 - dice_coefficient: 0.8389 - iou_coef: 0.4951 - val_loss: 0.1960 - val_dice_coefficient: 0.8035 - val_iou_coef: 0.5450\n",
            "Epoch 46/150\n",
            "70/70 [==============================] - 18s 262ms/step - loss: 0.1570 - dice_coefficient: 0.8430 - iou_coef: 0.4926 - val_loss: 0.2313 - val_dice_coefficient: 0.7674 - val_iou_coef: 0.4445\n",
            "Epoch 47/150\n",
            "70/70 [==============================] - 18s 263ms/step - loss: 0.1967 - dice_coefficient: 0.8034 - iou_coef: 0.4660 - val_loss: 0.2705 - val_dice_coefficient: 0.7303 - val_iou_coef: 0.4689\n",
            "Epoch 48/150\n",
            "70/70 [==============================] - 18s 262ms/step - loss: 0.1841 - dice_coefficient: 0.8160 - iou_coef: 0.4949 - val_loss: 0.2100 - val_dice_coefficient: 0.7901 - val_iou_coef: 0.4966\n",
            "Epoch 49/150\n",
            "70/70 [==============================] - ETA: 0s - loss: 0.1701 - dice_coefficient: 0.8300 - iou_coef: 0.5002"
          ]
        }
      ],
      "source": [
        "history = model.fit(X_train,y_train,epochs=150,batch_size=8,validation_split=0.1)"
      ]
    },
    {
      "cell_type": "code",
      "execution_count": null,
      "metadata": {
        "id": "as4o_elc5XLA"
      },
      "outputs": [],
      "source": [
        "# import tensorflow as tf\n",
        "\n",
        "# # Create a tf.data.Dataset object for the training data\n",
        "# train_dataset = tf.data.Dataset.from_tensor_slices((Xtr, ytr))\n",
        "# train_dataset = train_dataset.shuffle(buffer_size=len(Xtr)).batch(32)\n",
        "\n",
        "# # Create a tf.data.Dataset object for the validation data\n",
        "# val_dataset = tf.data.Dataset.from_tensor_slices((Xval, yval))\n",
        "# val_dataset = val_dataset.batch(32)\n",
        "\n",
        "\n",
        "# # Train the model using the tf.data.Dataset objects\n",
        "# model.fit(train_dataset, epochs=10, validation_data=val_dataset)\n"
      ]
    },
    {
      "cell_type": "code",
      "execution_count": null,
      "metadata": {
        "id": "s4BYoPUoZsQG"
      },
      "outputs": [],
      "source": [
        "# history = model.fit(CustomDataGenerator(Xtr, ytr, batch_size=32), validation_data=CustomDataGenerator(Xval, yval, batch_size=32),\n",
        "#     epochs=100,batch_size=16)"
      ]
    },
    {
      "cell_type": "code",
      "execution_count": null,
      "metadata": {
        "id": "5CvCHB4kZ5aM",
        "colab": {
          "base_uri": "https://localhost:8080/",
          "height": 472
        },
        "outputId": "af3e74f1-4fef-46d8-de63-fc2132d34fb0"
      },
      "outputs": [
        {
          "output_type": "display_data",
          "data": {
            "text/plain": [
              "<Figure size 640x480 with 1 Axes>"
            ],
            "image/png": "[encoded data removed]"
          },
          "metadata": {}
        }
      ],
      "source": [
        "plt.plot(history.history['dice_coefficient'])\n",
        "plt.plot(history.history['val_dice_coefficient'])\n",
        "plt.title('Model performance')\n",
        "plt.ylabel('DCE')\n",
        "plt.xlabel('Epoch')\n",
        "plt.legend(['Train', 'Valid'], loc='upper left')\n",
        "plt.show()\n",
        "# plt.savefig('dce_plot.png')\n",
        "# plt.close()"
      ]
    },
    {
      "cell_type": "code",
      "execution_count": null,
      "metadata": {
        "id": "lrDqOJMgQ4h9",
        "colab": {
          "base_uri": "https://localhost:8080/",
          "height": 472
        },
        "outputId": "8add584c-555f-4ce8-bd11-ac68f1aa5d72"
      },
      "outputs": [
        {
          "output_type": "display_data",
          "data": {
            "text/plain": [
              "<Figure size 640x480 with 1 Axes>"
            ],
            "image/png": "[encoded data removed]"
          },
          "metadata": {}
        }
      ],
      "source": [
        "plt.plot(history.history['loss'])\n",
        "plt.plot(history.history['val_loss'])\n",
        "plt.title('Model loss')\n",
        "plt.ylabel('Loss')\n",
        "plt.xlabel('Epoch')\n",
        "plt.legend(['Train', 'Valid'], loc='upper left')\n",
        "plt.show()"
      ]
    },
    {
      "cell_type": "code",
      "execution_count": null,
      "metadata": {
        "id": "H2obkS4MRBnW",
        "colab": {
          "base_uri": "https://localhost:8080/",
          "height": 472
        },
        "outputId": "a429cd68-7836-46b0-e918-d56e97e2212a"
      },
      "outputs": [
        {
          "output_type": "display_data",
          "data": {
            "text/plain": [
              "<Figure size 640x480 with 1 Axes>"
            ],
            "image/png": "[encoded data removed]"
          },
          "metadata": {}
        }
      ],
      "source": [
        "plt.plot(history.history['iou_coef'])\n",
        "plt.plot(history.history['val_iou_coef'])\n",
        "plt.title('Model IoU')\n",
        "plt.ylabel('iou')\n",
        "plt.xlabel('Epoch')\n",
        "plt.legend(['Train', 'Valid'], loc='upper left')\n",
        "plt.show()"
      ]
    },
    {
      "cell_type": "code",
      "execution_count": null,
      "metadata": {
        "id": "2YXIScYzREWS",
        "colab": {
          "base_uri": "https://localhost:8080/"
        },
        "outputId": "25e4c7ec-db26-4f6e-f2bd-69384c4e5709"
      },
      "outputs": [
        {
          "output_type": "stream",
          "name": "stdout",
          "text": [
            "3/3 [==============================] - 5s 481ms/step\n",
            "(70, 32, 64, 64, 3)\n"
          ]
        }
      ],
      "source": [
        "pred=model.predict(X_test)\n",
        "print(pred.shape)"
      ]
    },
    {
      "cell_type": "code",
      "execution_count": null,
      "metadata": {
        "id": "HPmisg9sRNOG",
        "colab": {
          "base_uri": "https://localhost:8080/",
          "height": 253
        },
        "outputId": "f267007f-b86c-41fc-b07f-9c36d56fb5bb"
      },
      "outputs": [
        {
          "output_type": "execute_result",
          "data": {
            "text/plain": [
              "<matplotlib.image.AxesImage at 0x7f9b81d54970>"
            ]
          },
          "metadata": {},
          "execution_count": 50
        },
        {
          "output_type": "display_data",
          "data": {
            "text/plain": [
              "<Figure size 1400x600 with 3 Axes>"
            ],
            "image/png": "[encoded data removed]"
          },
          "metadata": {}
        }
      ],
      "source": [
        "plt.figure(figsize=(14,6))\n",
        "\n",
        "plt.subplot(131)\n",
        "plt.title('orig')\n",
        "plt.imshow(X_test[5][:,25,:],cmap='gray')\n",
        "\n",
        "\n",
        "plt.subplot(132)\n",
        "plt.title('exp')\n",
        "plt.imshow(y_test[5][:,25,:],cmap='gray')\n",
        "\n",
        "plt.subplot(133)\n",
        "plt.title('pred')\n",
        "plt.imshow(pred[5][:,25,:],cmap='gray')"
      ]
    },
    {
      "cell_type": "code",
      "source": [
        "# from PIL import Image\n",
        "# yt=y_test[5][:,25,:]\n",
        "\n",
        "# scaled_image = ((yt - np.min(yt)) / (np.max(yt) - np.min(yt))) * 255\n",
        "# scaled_image = scaled_image.astype(np.uint8)\n",
        "\n",
        "\n",
        "# image = Image.fromarray(scaled_image)\n",
        "\n",
        "# # Save the slice as an image file\n",
        "# image.save('slice_image.jpg')"
      ],
      "metadata": {
        "id": "a2gxKB2xCUKw"
      },
      "execution_count": null,
      "outputs": []
    },
    {
      "cell_type": "code",
      "execution_count": null,
      "metadata": {
        "id": "iaQTaauDRP1U",
        "colab": {
          "base_uri": "https://localhost:8080/"
        },
        "outputId": "e768be06-88a6-447b-df02-23fb8c03621f"
      },
      "outputs": [
        {
          "output_type": "stream",
          "name": "stdout",
          "text": [
            "9/9 [==============================] - 1s 89ms/step - loss: 0.1495 - dice_coefficient: 0.8515 - iou_coef: 0.8022 - acc: 0.6213\n"
          ]
        },
        {
          "output_type": "execute_result",
          "data": {
            "text/plain": [
              "[0.14950215816497803,\n",
              " 0.8514737486839294,\n",
              " 0.8021644353866577,\n",
              " 0.6213352680206299]"
            ]
          },
          "metadata": {},
          "execution_count": 52
        }
      ],
      "source": [
        "res=model.evaluate(X_test,y_test,batch_size=8)\n",
        "res"
      ]
    },
    {
      "cell_type": "code",
      "execution_count": null,
      "metadata": {
        "id": "lZtfvUQTRZiN"
      },
      "outputs": [],
      "source": [
        "model.save('/content/drive/MyDrive/PDDCA_Work/Res_Unet/unet_resnet_augmodel_d_88_83_85.h5')"
      ]
    },
    {
      "cell_type": "code",
      "source": [
        "threshold = 0.5\n",
        "predicted_masks_binary = (pred > threshold).astype(np.uint8)\n",
        "\n",
        "# Flatten the predicted masks and ground truth masks\n",
        "num_samples, height, width, depth = predicted_masks_binary.shape[:4]\n",
        "predicted_masks_flat = predicted_masks_binary.reshape(num_samples, -1)\n",
        "ground_truth_masks_flat = y_test.reshape(num_samples, -1)\n",
        "\n",
        "# Compute the confusion matrix\n",
        "cm = confusion_matrix(ground_truth_masks_flat.flatten(), predicted_masks_flat.flatten())\n",
        "\n",
        "# Calculate TP, FP, and FN from the confusion matrix\n",
        "TP = cm[1, 1]  # True positives\n",
        "FP = cm[0, 1]  # False positives\n",
        "FN = cm[1, 0]  # False negatives\n",
        "TN = cm[0, 0]  # True negatives\n",
        "\n",
        "accuracy = (TP + TN) / (TP + FN + FP + TN)\n",
        "specificity = TN / (TN + FP)\n",
        "precision = TP / (TP + FP)\n",
        "recall = TP / (TP + FN)\n",
        "\n",
        "\n",
        "print(\"Accuracy:\", accuracy)\n",
        "print(\"Specificity:\", specificity)\n",
        "print(\"Precision:\", precision)\n",
        "print(\"Recall:\", recall)"
      ],
      "metadata": {
        "id": "_u4GZyQeM1bw"
      },
      "execution_count": null,
      "outputs": []
    },
    {
      "cell_type": "code",
      "source": [
        "# predicted_masks_flat = predicted_masks_flat.astype('float32')\n",
        "# ground_truth_masks_flat = ground_truth_masks_flat.astype('float32')\n",
        "# precision(ground_truth_masks_flat, predicted_masks_flat)"
      ],
      "metadata": {
        "id": "1w5D0TVgLJGl"
      },
      "execution_count": null,
      "outputs": []
    },
    {
      "cell_type": "code",
      "source": [],
      "metadata": {
        "id": "TDBhhWzHODW_"
      },
      "execution_count": null,
      "outputs": []
    }
  ],
  "metadata": {
    "accelerator": "GPU",
    "colab": {
      "provenance": []
    },
    "gpuClass": "standard",
    "kernelspec": {
      "display_name": "Python 3",
      "name": "python3"
    },
    "language_info": {
      "name": "python"
    }
  },
  "nbformat": 4,
  "nbformat_minor": 0
}