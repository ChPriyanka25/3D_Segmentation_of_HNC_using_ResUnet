{
 "cells": [
  {
   "cell_type": "code",
   "execution_count": 1,
   "id": "ea94ec62",
   "metadata": {
    "execution": {
     "iopub.execute_input": "2023-05-24T10:17:38.245211Z",
     "iopub.status.busy": "2023-05-24T10:17:38.244780Z",
     "iopub.status.idle": "2023-05-24T10:17:46.725758Z",
     "shell.execute_reply": "2023-05-24T10:17:46.724571Z"
    },
    "id": "gHPOoqB7Xw_u",
    "papermill": {
     "duration": 8.498654,
     "end_time": "2023-05-24T10:17:46.729001",
     "exception": false,
     "start_time": "2023-05-24T10:17:38.230347",
     "status": "completed"
    },
    "tags": []
   },
   "outputs": [],
   "source": [
    "#CNN model without diffusion\n",
    "import keras\n",
    "import matplotlib.pyplot as plt\n",
    "import numpy as np\n",
    "import pandas as pd\n",
    "import tensorflow as tf\n",
    "from keras import backend as K\n",
    "from tensorflow.keras.models import Model\n",
    "from keras.layers import (\n",
    "    Input,\n",
    "    Activation,\n",
    "    Conv3D,\n",
    "    Conv3DTranspose,\n",
    "    MaxPooling3D,\n",
    "    UpSampling3D,\n",
    "    concatenate,\n",
    "    ReLU, Dropout,BatchNormalization\n",
    "    \n",
    ")\n",
    "\n",
    "from keras.optimizers import Adam\n",
    "from keras.utils import to_categorical\n",
    "from tensorflow.compat.v1.logging import INFO, set_verbosity\n",
    "\n",
    "set_verbosity(INFO)\n",
    "\n",
    "import tensorflow.python.keras.backend as K\n",
    "K.set_image_data_format(\"channels_first\")"
   ]
  },
  {
   "cell_type": "code",
   "execution_count": 2,
   "id": "a06228c4",
   "metadata": {
    "execution": {
     "iopub.execute_input": "2023-05-24T10:17:46.755592Z",
     "iopub.status.busy": "2023-05-24T10:17:46.754900Z",
     "iopub.status.idle": "2023-05-24T10:17:46.759859Z",
     "shell.execute_reply": "2023-05-24T10:17:46.758766Z"
    },
    "id": "6ek2y9W8XxsQ",
    "papermill": {
     "duration": 0.021015,
     "end_time": "2023-05-24T10:17:46.762748",
     "exception": false,
     "start_time": "2023-05-24T10:17:46.741733",
     "status": "completed"
    },
    "tags": []
   },
   "outputs": [],
   "source": [
    "#Definning random seed\n",
    "np.random.seed(1000)"
   ]
  },
  {
   "cell_type": "code",
   "execution_count": 3,
   "id": "66c64c0c",
   "metadata": {
    "execution": {
     "iopub.execute_input": "2023-05-24T10:17:46.786923Z",
     "iopub.status.busy": "2023-05-24T10:17:46.786608Z",
     "iopub.status.idle": "2023-05-24T10:18:00.010762Z",
     "shell.execute_reply": "2023-05-24T10:18:00.009426Z"
    },
    "id": "y8cNKbuEXzed",
    "outputId": "6b6ae16b-208a-4567-b359-d4ff34b2c4fb",
    "papermill": {
     "duration": 13.239381,
     "end_time": "2023-05-24T10:18:00.013560",
     "exception": false,
     "start_time": "2023-05-24T10:17:46.774179",
     "status": "completed"
    },
    "tags": []
   },
   "outputs": [
    {
     "name": "stdout",
     "output_type": "stream",
     "text": [
      "Collecting patchify\r\n",
      "  Downloading patchify-0.2.3-py3-none-any.whl (6.6 kB)\r\n",
      "Requirement already satisfied: numpy<2,>=1 in /opt/conda/lib/python3.7/site-packages (from patchify) (1.21.6)\r\n",
      "Installing collected packages: patchify\r\n",
      "Successfully installed patchify-0.2.3\r\n",
      "\u001b[33mWARNING: Running pip as the 'root' user can result in broken permissions and conflicting behaviour with the system package manager. It is recommended to use a virtual environment instead: https://pip.pypa.io/warnings/venv\u001b[0m\u001b[33m\r\n",
      "\u001b[0m"
     ]
    }
   ],
   "source": [
    "!pip install patchify"
   ]
  },
  {
   "cell_type": "code",
   "execution_count": 4,
   "id": "79a1b206",
   "metadata": {
    "execution": {
     "iopub.execute_input": "2023-05-24T10:18:00.039545Z",
     "iopub.status.busy": "2023-05-24T10:18:00.039144Z",
     "iopub.status.idle": "2023-05-24T10:18:00.044705Z",
     "shell.execute_reply": "2023-05-24T10:18:00.043528Z"
    },
    "id": "vGA-bmNSX3TW",
    "papermill": {
     "duration": 0.021447,
     "end_time": "2023-05-24T10:18:00.047141",
     "exception": false,
     "start_time": "2023-05-24T10:18:00.025694",
     "status": "completed"
    },
    "tags": []
   },
   "outputs": [],
   "source": [
    "import numpy as np\n",
    "import os\n",
    "from keras.utils import to_categorical\n",
    "import matplotlib.pyplot as plt"
   ]
  },
  {
   "cell_type": "code",
   "execution_count": 5,
   "id": "3ac64a8e",
   "metadata": {
    "execution": {
     "iopub.execute_input": "2023-05-24T10:18:00.073888Z",
     "iopub.status.busy": "2023-05-24T10:18:00.072858Z",
     "iopub.status.idle": "2023-05-24T10:18:06.162497Z",
     "shell.execute_reply": "2023-05-24T10:18:06.161417Z"
    },
    "id": "JG0j_G7fX5kL",
    "outputId": "ecbca8b4-0080-4169-876a-3b8340df8a65",
    "papermill": {
     "duration": 6.105035,
     "end_time": "2023-05-24T10:18:06.165039",
     "exception": false,
     "start_time": "2023-05-24T10:18:00.060004",
     "status": "completed"
    },
    "tags": []
   },
   "outputs": [
    {
     "data": {
      "text/plain": [
       "<matplotlib.image.AxesImage at 0x7ed0c7df8ed0>"
      ]
     },
     "execution_count": 5,
     "metadata": {},
     "output_type": "execute_result"
    },
    {
     "data": {
      "image/png": "[encoded data removed]",
      "text/plain": [
       "<Figure size 1400x600 with 1 Axes>"
      ]
     },
     "metadata": {},
     "output_type": "display_data"
    }
   ],
   "source": [
    "HOME_DIR = \"../input/pddca-dataset/pddca/\"\n",
    "DATA_DIR = HOME_DIR\n",
    "\n",
    "def load_case(imgfile, labelfile):\n",
    "    # load the image and label file, get the image content and return a numpy array for each\n",
    "    image = np.array(np.load(imgfile))\n",
    "    label = np.array(np.load(labelfile))\n",
    "    \n",
    "    return image, label\n",
    "\n",
    "img=[]\n",
    "msk=[]\n",
    "for dir in os.listdir(DATA_DIR):\n",
    "    #print(dir)\n",
    "    imfile=DATA_DIR+\"/\"+str(dir)+\"/img_crp_v2.npy\"\n",
    "    lbfile=DATA_DIR+\"/\"+str(dir)+\"/structures/mask.npy\"\n",
    "    #print(os.path.isfile(lbfile),lbfile)\n",
    "    if(os.path.isfile(lbfile)):\n",
    "        im,ms=load_case(imfile,lbfile)\n",
    "        #print(im,ms)\n",
    "        img.append(im)\n",
    "        msk.append(ms)\n",
    "\n",
    "plt.figure(figsize=(14,6))\n",
    "im1=msk[1]\n",
    "plt.imshow(im1[36,:,:],cmap='gray')"
   ]
  },
  {
   "cell_type": "code",
   "execution_count": 6,
   "id": "376d476a",
   "metadata": {
    "execution": {
     "iopub.execute_input": "2023-05-24T10:18:06.192875Z",
     "iopub.status.busy": "2023-05-24T10:18:06.191878Z",
     "iopub.status.idle": "2023-05-24T10:18:22.841346Z",
     "shell.execute_reply": "2023-05-24T10:18:22.840045Z"
    },
    "papermill": {
     "duration": 16.665879,
     "end_time": "2023-05-24T10:18:22.844206",
     "exception": false,
     "start_time": "2023-05-24T10:18:06.178327",
     "status": "completed"
    },
    "tags": []
   },
   "outputs": [
    {
     "name": "stdout",
     "output_type": "stream",
     "text": [
      "Collecting elasticdeform\r\n",
      "  Downloading elasticdeform-0.5.0.tar.gz (33 kB)\r\n",
      "  Preparing metadata (setup.py) ... \u001b[?25l-\b \b\\\b \bdone\r\n",
      "\u001b[?25hRequirement already satisfied: numpy in /opt/conda/lib/python3.7/site-packages (from elasticdeform) (1.21.6)\r\n",
      "Requirement already satisfied: scipy in /opt/conda/lib/python3.7/site-packages (from elasticdeform) (1.7.3)\r\n",
      "Building wheels for collected packages: elasticdeform\r\n",
      "  Building wheel for elasticdeform (setup.py) ... \u001b[?25l-\b \b\\\b \b|\b \b/\b \b-\b \b\\\b \bdone\r\n",
      "\u001b[?25h  Created wheel for elasticdeform: filename=elasticdeform-0.5.0-cp37-cp37m-linux_x86_64.whl size=94831 sha256=ab3a9833374b0bf4215720be5784a1805a8e2aa002c472657c2b063337405393\r\n",
      "  Stored in directory: /root/.cache/pip/wheels/c7/a0/d7/8faec37611d8423a9e4b307978a42f9bee700f7d5044a082c8\r\n",
      "Successfully built elasticdeform\r\n",
      "Installing collected packages: elasticdeform\r\n",
      "Successfully installed elasticdeform-0.5.0\r\n",
      "\u001b[33mWARNING: Running pip as the 'root' user can result in broken permissions and conflicting behaviour with the system package manager. It is recommended to use a virtual environment instead: https://pip.pypa.io/warnings/venv\u001b[0m\u001b[33m\r\n",
      "\u001b[0m"
     ]
    }
   ],
   "source": [
    "!pip install elasticdeform"
   ]
  },
  {
   "cell_type": "code",
   "execution_count": 7,
   "id": "a1c90da8",
   "metadata": {
    "execution": {
     "iopub.execute_input": "2023-05-24T10:18:22.872951Z",
     "iopub.status.busy": "2023-05-24T10:18:22.872609Z",
     "iopub.status.idle": "2023-05-24T10:18:22.880769Z",
     "shell.execute_reply": "2023-05-24T10:18:22.879762Z"
    },
    "papermill": {
     "duration": 0.025345,
     "end_time": "2023-05-24T10:18:22.883164",
     "exception": false,
     "start_time": "2023-05-24T10:18:22.857819",
     "status": "completed"
    },
    "tags": []
   },
   "outputs": [],
   "source": [
    "# from scipy import ndimage\n",
    "# from scipy.ndimage import affine_transform\n",
    "# import elasticdeform\n",
    "# import multiprocessing as mp\n",
    "\n",
    "\n",
    "# # theta = np.random.uniform(0,0)\n",
    "# # img_data = tf.keras.preprocessing.image.apply_affine_transform(tri, theta=theta, channel_axis=3)\n",
    "\n",
    "# # print(tri.shape)\n",
    "# # Flip the image along the z-axis\n",
    "# # flipped_data = np.flip(tri, axis=2)\n",
    "\n",
    "# # Rotate the array by 90 degrees along the x-axis\n",
    "# # arr_rotated = np.rot90(tri, k=1, axes=(2, 3))\n",
    "\n",
    "# def flip3D(X, y):\n",
    "#     choice = np.random.randint(3)\n",
    "#     if choice == 0:\n",
    "#         X_flip, y_flip = X[::-1, :, :], y[::-1, :, :]\n",
    "#     if choice == 1: # flip on y\n",
    "#         X_flip, y_flip = X[:, ::-1, :], y[:, ::-1, :]\n",
    "#     if choice == 2: # flip on z\n",
    "#         X_flip, y_flip = X[:, :, ::-1], y[:, :, ::-1]\n",
    "        \n",
    "#     return X_flip, y_flip\n",
    "\n",
    "\n",
    "\n",
    "# def rotation(X,y):\n",
    "#     Xn=np.rot90(X, k=1, axes=(1, 2))\n",
    "#     yn=np.rot90(y, k=1, axes=(1, 2))\n",
    "    \n",
    "#     return Xn,yn\n",
    "\n",
    "# def brightness(X, y):\n",
    "#     \"\"\"\n",
    "#     Changing the brighness of a image using power-law gamma transformation.\n",
    "#     Gain and gamma are chosen randomly for each image channel.\n",
    "    \n",
    "#     Gain chosen between [0.8 - 1.2]\n",
    "#     Gamma chosen between [0.8 - 1.2]\n",
    "    \n",
    "#     new_im = gain * im^gamma\n",
    "#     \"\"\"\n",
    "    \n",
    "#     X_new = np.zeros(X.shape)\n",
    "#     for c in range(X.shape[-1]):\n",
    "#         im = X[:,:,:,c]        \n",
    "#         gain, gamma = (1.2 - 0.8) * np.random.random_sample(2,) + 0.8\n",
    "#         im_new = np.sign(im)*gain*(np.abs(im)**gamma)\n",
    "#         X_new[:,:,:,c] = im_new \n",
    "    \n",
    "#     return X_new, y\n",
    "\n",
    "# def elastic(X, y):\n",
    "#     \"\"\"\n",
    "#     Elastic deformation on a image and its target\n",
    "#     \"\"\"\n",
    "    \n",
    "#     [Xel, yel] = elasticdeform.deform_random_grid([X, y], sigma=2, axis=[(0, 1, 2), (0, 1, 2)], order=[1, 0], mode='constant')\n",
    "    \n",
    "#     return Xel, yel\n",
    "\n",
    "# def random_decisions(N):\n",
    "#     \"\"\"\n",
    "#     Generate N random decisions for augmentation\n",
    "#     N should be equal to the batch size\n",
    "#     \"\"\"\n",
    "    \n",
    "#     decisions = np.zeros((N, 3)) # 4 is number of aug techniques to combine (patch extraction excluded)\n",
    "#     for n in range(N):\n",
    "#         decisions[n] = np.random.randint(2, size=3)\n",
    "        \n",
    "#     return decisions\n",
    "\n",
    "# def combine_aug(X, y, do):\n",
    "#     \"\"\"\n",
    "#     Combine randomly the different augmentation techniques written above\n",
    "#     \"\"\"\n",
    "#     Xnew, ynew = X, y\n",
    "    \n",
    "#     # make sure to use at least 25% of original images\n",
    "#     if np.random.random_sample()>0.75:\n",
    "#         return Xnew, ynew\n",
    "#     else:  \n",
    "#         if do[0] == 1:\n",
    "#             Xnew, ynew = flip3D(Xnew, ynew)\n",
    "\n",
    "# #         if do[1] == 1:\n",
    "# #             Xnew, ynew = brightness(Xnew, ynew)   \n",
    "\n",
    "#         if do[1] == 1:\n",
    "#             Xnew, ynew = rotation(Xnew, ynew)\n",
    "\n",
    "#         if do[2] == 1:\n",
    "#             Xnew, ynew = elastic(Xnew, ynew)\n",
    "\n",
    "#         return Xnew, ynew\n",
    "\n",
    "# def aug_batch(Xb, Yb):\n",
    "#     \"\"\"\n",
    "#     Generate a augmented image batch \n",
    "#     \"\"\"\n",
    "#     batch_size = 8\n",
    "#     #newXb, newYb = np.empty_like(Xb, dtype=object), np.empty_like(Yb, dtype=object)\n",
    "#     newXb, newYb = Xb, Yb\n",
    "    \n",
    "#     decisions = random_decisions(batch_size)            \n",
    "        \n",
    "#     inputs = [(X, y, do) for X, y, do in zip(Xb, Yb, decisions)]\n",
    "#     pool = mp.Pool(processes=8)\n",
    "#     multi_result = pool.starmap(combine_aug, inputs)\n",
    "#     #print(multi_result[0][0].shape)\n",
    "#     pool.close()\n",
    "    \n",
    "#     for i in range(batch_size):\n",
    "#         newXb[i], newYb[i] = multi_result[i][0], multi_result[i][1]\n",
    "        \n",
    "#     return newXb, newYb \n",
    "\n",
    "# def data_aug(X, y):\n",
    "#     X_f, y_f = flip3D(X,y)\n",
    "#     X_r, y_r = rotation(X,y)\n",
    "#     X_e, y_e = elastic(X,y)\n",
    "#     #X_aug, y_aug = aug_batch(X, y)\n",
    "#     X_aug = X_f + X_r + X_e\n",
    "#     y_aug = y_f + y_r + y_e\n",
    "#     return X_aug, y_aug\n"
   ]
  },
  {
   "cell_type": "code",
   "execution_count": 8,
   "id": "dd64224b",
   "metadata": {
    "execution": {
     "iopub.execute_input": "2023-05-24T10:18:22.911486Z",
     "iopub.status.busy": "2023-05-24T10:18:22.911185Z",
     "iopub.status.idle": "2023-05-24T10:18:22.948274Z",
     "shell.execute_reply": "2023-05-24T10:18:22.947284Z"
    },
    "papermill": {
     "duration": 0.054259,
     "end_time": "2023-05-24T10:18:22.950719",
     "exception": false,
     "start_time": "2023-05-24T10:18:22.896460",
     "status": "completed"
    },
    "tags": []
   },
   "outputs": [],
   "source": [
    "from scipy import ndimage\n",
    "from scipy.ndimage import affine_transform\n",
    "import elasticdeform\n",
    "import multiprocessing as mp\n",
    "\n",
    "\n",
    "# theta = np.random.uniform(0,0)\n",
    "# img_data = tf.keras.preprocessing.image.apply_affine_transform(tri, theta=theta, channel_axis=3)\n",
    "\n",
    "# print(tri.shape)\n",
    "# Flip the image along the z-axis\n",
    "# flipped_data = np.flip(tri, axis=2)\n",
    "\n",
    "# Rotate the array by 90 degrees along the x-axis\n",
    "# arr_rotated = np.rot90(tri, k=1, axes=(2, 3))\n",
    "\n",
    "def flip3D(X, y):\n",
    "    choice = np.random.randint(3)\n",
    "    if choice == 0:\n",
    "        X_flip, y_flip = X[::-1, :, :], y[::-1, :, :]\n",
    "    if choice == 1: # flip on y\n",
    "        X_flip, y_flip = X[:, ::-1, :], y[:, ::-1, :]\n",
    "    if choice == 2: # flip on z\n",
    "        X_flip, y_flip = X[:, :, ::-1], y[:, :, ::-1]\n",
    "        \n",
    "    return X_flip, y_flip\n",
    "\n",
    "\n",
    "def rotation_zoom3D(X, y):\n",
    "    alpha, beta, gamma = np.random.random_sample(3)*np.pi/2\n",
    "    Rx = np.array([[1, 0, 0],\n",
    "                   [0, np.cos(alpha), -np.sin(alpha)],\n",
    "                   [0, np.sin(alpha), np.cos(alpha)]])\n",
    "   \n",
    "    Ry = np.array([[np.cos(beta), 0, np.sin(beta)],\n",
    "                   [0, 1, 0],\n",
    "                   [-np.sin(beta), 0, np.cos(beta)]])\n",
    "  \n",
    "    Rz = np.array([[np.cos(gamma), -np.sin(gamma), 0],\n",
    "                   [np.sin(gamma), np.cos(gamma), 0],\n",
    "                   [0, 0, 1]])\n",
    "    \n",
    "    R_rot = np.dot(np.dot(Rx, Ry), Rz)\n",
    "    \n",
    "    a, b = 0.8, 1.2\n",
    "    alpha, beta, gamma = (b-a)*np.random.random_sample(3) + a\n",
    "    R_scale = np.array([[alpha, 0, 0],\n",
    "                   [0, beta, 0],\n",
    "                   [0, 0, gamma]])\n",
    "    \n",
    "    R = np.dot(R_rot, R_scale)\n",
    "    X_rot = np.empty_like(X)\n",
    "    for channel in range(X.shape[-1]):\n",
    "        X_rot[:,:,:,channel] = affine_transform(X[:,:,:,channel], R, offset=0, order=1, mode='constant')\n",
    "    y_rot = affine_transform(y, R, offset=0, order=0, mode='constant')\n",
    "    \n",
    "    return X_rot, y_rot\n",
    "\n",
    "def rotation(X,y):\n",
    "    Xn=np.rot90(X, k=1, axes=(1, 2))\n",
    "    yn=np.rot90(y, k=1, axes=(1, 2))\n",
    "    \n",
    "    return Xn,yn\n",
    "\n",
    "def brightness(X, y):\n",
    "    \"\"\"\n",
    "    Changing the brighness of a image using power-law gamma transformation.\n",
    "    Gain and gamma are chosen randomly for each image channel.\n",
    "    \n",
    "    Gain chosen between [0.8 - 1.2]\n",
    "    Gamma chosen between [0.8 - 1.2]\n",
    "    \n",
    "    new_im = gain * im^gamma\n",
    "    \"\"\"\n",
    "    \n",
    "    X_new = np.zeros(X.shape)\n",
    "    for c in range(X.shape[-1]):\n",
    "        im = X[:,:,:,c]        \n",
    "        gain, gamma = (1.2 - 0.8) * np.random.random_sample(2,) + 0.8\n",
    "        im_new = np.sign(im)*gain*(np.abs(im)**gamma)\n",
    "        X_new[:,:,:,c] = im_new \n",
    "    \n",
    "    return X_new, y\n",
    "\n",
    "def elastic(X, y):\n",
    "    \"\"\"\n",
    "    Elastic deformation on a image and its target\n",
    "    \"\"\"\n",
    "    \n",
    "    [Xel, yel] = elasticdeform.deform_random_grid([X, y], sigma=2, axis=[(0, 1, 2), (0, 1, 2)], order=[1, 0], mode='constant')\n",
    "    \n",
    "    return Xel, yel\n",
    "\n",
    "def random_decisions(N):\n",
    "    \"\"\"\n",
    "    Generate N random decisions for augmentation\n",
    "    N should be equal to the batch size\n",
    "    \"\"\"\n",
    "    \n",
    "    decisions = np.zeros((N, 3)) # 4 is number of aug techniques to combine (patch extraction excluded)\n",
    "    for n in range(N):\n",
    "        decisions[n] = np.random.randint(2, size=3)\n",
    "        \n",
    "    return decisions\n",
    "\n",
    "def combine_aug(X, y, do):\n",
    "    \"\"\"\n",
    "    Combine randomly the different augmentation techniques written above\n",
    "    \"\"\"\n",
    "    Xnew, ynew = X, y\n",
    "    \n",
    "    # make sure to use at least 25% of original images\n",
    "    if np.random.random_sample()>0.75:\n",
    "        return Xnew, ynew\n",
    "    else:  \n",
    "        if do[0] == 1:\n",
    "            Xnew, ynew = flip3D(Xnew, ynew)\n",
    "\n",
    "#         if do[1] == 1:\n",
    "#             Xnew, ynew = brightness(Xnew, ynew)   \n",
    "\n",
    "        if do[1] == 1:\n",
    "            Xnew, ynew = rotation(Xnew, ynew)\n",
    "\n",
    "        if do[2] == 1:\n",
    "            Xnew, ynew = elastic(Xnew, ynew)\n",
    "\n",
    "        return Xnew, ynew\n",
    "\n",
    "def aug_batch(Xb, Yb):\n",
    "    \"\"\"\n",
    "    Generate a augmented image batch \n",
    "    \"\"\"\n",
    "    batch_size = 8\n",
    "    #newXb, newYb = np.empty_like(Xb, dtype=object), np.empty_like(Yb, dtype=object)\n",
    "    newXb, newYb = Xb, Yb\n",
    "    \n",
    "    decisions = random_decisions(batch_size)            \n",
    "        \n",
    "    inputs = [(X, y, do) for X, y, do in zip(Xb, Yb, decisions)]\n",
    "    pool = mp.Pool(processes=8)\n",
    "    multi_result = pool.starmap(combine_aug, inputs)\n",
    "    #print(multi_result[0][0].shape)\n",
    "    pool.close()\n",
    "    \n",
    "    for i in range(batch_size):\n",
    "        newXb[i], newYb[i] = multi_result[i][0], multi_result[i][1]\n",
    "        \n",
    "    return newXb, newYb \n",
    "\n",
    "def data_aug(X, y):\n",
    "    X_aug, y_aug = aug_batch(X, y)\n",
    "    \n",
    "    return X_aug, y_aug\n"
   ]
  },
  {
   "cell_type": "code",
   "execution_count": 9,
   "id": "b122f8ca",
   "metadata": {
    "execution": {
     "iopub.execute_input": "2023-05-24T10:18:22.977832Z",
     "iopub.status.busy": "2023-05-24T10:18:22.977534Z",
     "iopub.status.idle": "2023-05-24T10:18:39.293319Z",
     "shell.execute_reply": "2023-05-24T10:18:39.291416Z"
    },
    "papermill": {
     "duration": 16.3332,
     "end_time": "2023-05-24T10:18:39.296756",
     "exception": false,
     "start_time": "2023-05-24T10:18:22.963556",
     "status": "completed"
    },
    "tags": []
   },
   "outputs": [],
   "source": [
    "imn,msn=data_aug(img,msk)\n",
    "img=img+imn\n",
    "msk=msk+msn"
   ]
  },
  {
   "cell_type": "code",
   "execution_count": 10,
   "id": "bce557a3",
   "metadata": {
    "execution": {
     "iopub.execute_input": "2023-05-24T10:18:39.347976Z",
     "iopub.status.busy": "2023-05-24T10:18:39.342615Z",
     "iopub.status.idle": "2023-05-24T10:18:39.372758Z",
     "shell.execute_reply": "2023-05-24T10:18:39.371518Z"
    },
    "papermill": {
     "duration": 0.065761,
     "end_time": "2023-05-24T10:18:39.376109",
     "exception": false,
     "start_time": "2023-05-24T10:18:39.310348",
     "status": "completed"
    },
    "tags": []
   },
   "outputs": [],
   "source": [
    "# print(len(img))\n",
    "# print(len(imgn))"
   ]
  },
  {
   "cell_type": "code",
   "execution_count": 11,
   "id": "7a96ab37",
   "metadata": {
    "execution": {
     "iopub.execute_input": "2023-05-24T10:18:39.427297Z",
     "iopub.status.busy": "2023-05-24T10:18:39.426333Z",
     "iopub.status.idle": "2023-05-24T10:18:39.431489Z",
     "shell.execute_reply": "2023-05-24T10:18:39.430517Z"
    },
    "papermill": {
     "duration": 0.027329,
     "end_time": "2023-05-24T10:18:39.433842",
     "exception": false,
     "start_time": "2023-05-24T10:18:39.406513",
     "status": "completed"
    },
    "tags": []
   },
   "outputs": [],
   "source": [
    "# imgn=img\n",
    "# mskn=msk\n",
    "# n=len(img)\n",
    "# for i in range(n):\n",
    "#     imf,msf=flip3D(img[i],msk[i])\n",
    "#     #ime,mse=elastic(img[i],msk[i])\n",
    "#     imr,msr=rotation(img[i],msk[i])\n",
    "#     img.append(imf)\n",
    "#     #img.append(ime)\n",
    "#     img.append(imr)\n",
    "    \n",
    "#     msk.append(msf)\n",
    "#     #msk.append(mse)\n",
    "#     msk.append(msr)\n"
   ]
  },
  {
   "cell_type": "code",
   "execution_count": 12,
   "id": "ad2de5b6",
   "metadata": {
    "execution": {
     "iopub.execute_input": "2023-05-24T10:18:39.461861Z",
     "iopub.status.busy": "2023-05-24T10:18:39.461126Z",
     "iopub.status.idle": "2023-05-24T10:18:39.466004Z",
     "shell.execute_reply": "2023-05-24T10:18:39.465036Z"
    },
    "papermill": {
     "duration": 0.020999,
     "end_time": "2023-05-24T10:18:39.468209",
     "exception": false,
     "start_time": "2023-05-24T10:18:39.447210",
     "status": "completed"
    },
    "tags": []
   },
   "outputs": [],
   "source": [
    "# # print(len(img))\n",
    "# print(len(img))\n",
    "# print(len(msk))"
   ]
  },
  {
   "cell_type": "code",
   "execution_count": 13,
   "id": "750bf785",
   "metadata": {
    "execution": {
     "iopub.execute_input": "2023-05-24T10:18:39.496267Z",
     "iopub.status.busy": "2023-05-24T10:18:39.495343Z",
     "iopub.status.idle": "2023-05-24T10:18:39.500258Z",
     "shell.execute_reply": "2023-05-24T10:18:39.499334Z"
    },
    "papermill": {
     "duration": 0.020946,
     "end_time": "2023-05-24T10:18:39.502488",
     "exception": false,
     "start_time": "2023-05-24T10:18:39.481542",
     "status": "completed"
    },
    "tags": []
   },
   "outputs": [],
   "source": [
    "# df=tf.data.Dataset.from_tensor_slices((imgn, mskn))\n",
    "# def pipeline(tf_data):\n",
    "#     tf_data = tf_data.shuffle(100)\n",
    "#     tf_data = tf_data.batch(32)\n",
    "#     tf_data = tf_data.prefetch(tf.data.experimental.AUTOTUNE)\n",
    "    \n",
    "#     return tf_data\n",
    "\n",
    "# data = pipeline(df)\n",
    "# print(data)"
   ]
  },
  {
   "cell_type": "code",
   "execution_count": 14,
   "id": "0181cbd3",
   "metadata": {
    "execution": {
     "iopub.execute_input": "2023-05-24T10:18:39.530746Z",
     "iopub.status.busy": "2023-05-24T10:18:39.529066Z",
     "iopub.status.idle": "2023-05-24T10:18:39.534198Z",
     "shell.execute_reply": "2023-05-24T10:18:39.533263Z"
    },
    "papermill": {
     "duration": 0.021151,
     "end_time": "2023-05-24T10:18:39.536380",
     "exception": false,
     "start_time": "2023-05-24T10:18:39.515229",
     "status": "completed"
    },
    "tags": []
   },
   "outputs": [],
   "source": [
    "# imn,msn=data_aug(img,msk)"
   ]
  },
  {
   "cell_type": "code",
   "execution_count": 15,
   "id": "0dfaa097",
   "metadata": {
    "execution": {
     "iopub.execute_input": "2023-05-24T10:18:39.563798Z",
     "iopub.status.busy": "2023-05-24T10:18:39.562977Z",
     "iopub.status.idle": "2023-05-24T10:18:43.300393Z",
     "shell.execute_reply": "2023-05-24T10:18:43.299031Z"
    },
    "id": "gLdIFevtYCzk",
    "outputId": "68a3b2da-3e95-4211-b019-debfc368ad06",
    "papermill": {
     "duration": 3.753694,
     "end_time": "2023-05-24T10:18:43.302928",
     "exception": false,
     "start_time": "2023-05-24T10:18:39.549234",
     "status": "completed"
    },
    "tags": []
   },
   "outputs": [
    {
     "name": "stdout",
     "output_type": "stream",
     "text": [
      "(15, 32, 64, 64, 3)\n",
      "(15, 32, 64, 64, 3)\n"
     ]
    }
   ],
   "source": [
    "from patchify import patchify\n",
    "import tensorflow as tf\n",
    "\n",
    "\n",
    "img_patches = patchify(img[0], (32, 64, 64), step=64)\n",
    "mask_patches  = patchify(msk[0], (32, 64, 64), step=64)\n",
    "input_img = np.reshape(img_patches, (-1, img_patches.shape[3], img_patches.shape[4], img_patches.shape[5]))\n",
    "input_mask = np.reshape(mask_patches, (-1, mask_patches.shape[3], mask_patches.shape[4], mask_patches.shape[5]))\n",
    "\n",
    "train_img = np.stack((input_img,)*3, axis=-1)\n",
    "train_mask = np.stack((input_mask,)*3, axis=-1)\n",
    "# train_mask = to_categorical(input_mask, num_classes=3)\n",
    "\n",
    "# train_img = np.expand_dims(train_img,axis=4)\n",
    "# train_mask = np.expand_dims(train_mask, axis=4)\n",
    "\n",
    "\n",
    "train_img=tf.cast(train_img, tf.float32)\n",
    "train_mask=tf.cast(train_mask, tf.float32)\n",
    "\n",
    "\n",
    "\n",
    "img_patches1 = patchify(img[1], (32, 64, 64), step=64)\n",
    "mask_patches1  = patchify(msk[1], (32, 64, 64), step=64)\n",
    "input_img1 = np.reshape(img_patches1, (-1, img_patches1.shape[3], img_patches1.shape[4], img_patches1.shape[5]))\n",
    "input_mask1 = np.reshape(mask_patches1, (-1, mask_patches1.shape[3], mask_patches1.shape[4], mask_patches1.shape[5]))\n",
    "\n",
    "train_img1 = np.stack((input_img1,)*3, axis=-1)\n",
    "train_mask1 = np.stack((input_mask1,)*3, axis=-1)\n",
    "#train_mask1 = to_categorical(input_mask1, num_classes=3)\n",
    "\n",
    "# train_img1 = np.expand_dims(train_img1,axis=4)\n",
    "# train_mask1 = np.expand_dims(train_mask1, axis=4)\n",
    "\n",
    "train_img1=tf.cast(train_img1, tf.float32)\n",
    "train_mask1=tf.cast(train_mask1, tf.float32)\n",
    "#tf.cast(train_mask_cat1, tf.float32)\n",
    "\n",
    "\n",
    "tri=np.concatenate((train_img,train_img1),axis=0)\n",
    "trm=np.concatenate((train_mask,train_mask1),axis=0)\n",
    "print(tri.shape)\n",
    "print(trm.shape)"
   ]
  },
  {
   "cell_type": "code",
   "execution_count": 16,
   "id": "87d3845c",
   "metadata": {
    "execution": {
     "iopub.execute_input": "2023-05-24T10:18:43.331979Z",
     "iopub.status.busy": "2023-05-24T10:18:43.331018Z",
     "iopub.status.idle": "2023-05-24T10:19:18.994129Z",
     "shell.execute_reply": "2023-05-24T10:19:18.993003Z"
    },
    "id": "yLmWMMNMYIek",
    "outputId": "5feeea37-895c-4ce7-fbf2-07884c04b5b4",
    "papermill": {
     "duration": 35.693422,
     "end_time": "2023-05-24T10:19:19.010026",
     "exception": false,
     "start_time": "2023-05-24T10:18:43.316604",
     "status": "completed"
    },
    "tags": []
   },
   "outputs": [
    {
     "name": "stdout",
     "output_type": "stream",
     "text": [
      "(692, 32, 64, 64, 3)\n",
      "(692, 32, 64, 64, 3)\n"
     ]
    }
   ],
   "source": [
    "for i in range(2,len(img)):\n",
    "    img_patches = patchify(img[i], (32, 64, 64), step=64)\n",
    "    mask_patches  = patchify(msk[i], (32, 64, 64), step=64)\n",
    "    input_img = np.reshape(img_patches, (-1, img_patches.shape[3], img_patches.shape[4], img_patches.shape[5]))\n",
    "    input_mask = np.reshape(mask_patches, (-1, mask_patches.shape[3], mask_patches.shape[4], mask_patches.shape[5]))\n",
    " \n",
    "    train_img = np.stack((input_img,)*3, axis=-1)\n",
    "    train_mask = np.stack((input_mask,)*3, axis=-1)\n",
    "    #train_mask = to_categorical(input_mask, num_classes=3)\n",
    "    \n",
    "#     train_img=np.expand_dims(train_img,axis=4)\n",
    "#     train_mask = np.expand_dims(train_mask, axis=4)\n",
    "\n",
    "  \n",
    "\n",
    "    #train_mask_cat = to_categorical(input_mask, num_classes=3)\n",
    "    train_img=tf.cast(train_img, tf.float32)\n",
    "    train_mask=tf.cast(train_mask, tf.float32)\n",
    "\n",
    "    tri=np.concatenate((tri,train_img),axis=0)\n",
    "    trm=np.concatenate((trm,train_mask),axis=0)\n",
    "\n",
    "\n",
    "print(tri.shape)\n",
    "print(trm.shape)"
   ]
  },
  {
   "cell_type": "code",
   "execution_count": 17,
   "id": "6e645fab",
   "metadata": {
    "execution": {
     "iopub.execute_input": "2023-05-24T10:19:19.038321Z",
     "iopub.status.busy": "2023-05-24T10:19:19.037974Z",
     "iopub.status.idle": "2023-05-24T10:19:19.293520Z",
     "shell.execute_reply": "2023-05-24T10:19:19.292500Z"
    },
    "id": "SxQpxcAQYKMV",
    "outputId": "e49ebc32-e497-4b21-ea7a-1c31add2d0d5",
    "papermill": {
     "duration": 0.272675,
     "end_time": "2023-05-24T10:19:19.296257",
     "exception": false,
     "start_time": "2023-05-24T10:19:19.023582",
     "status": "completed"
    },
    "tags": []
   },
   "outputs": [
    {
     "data": {
      "text/plain": [
       "<matplotlib.image.AxesImage at 0x7ed0c74f7810>"
      ]
     },
     "execution_count": 17,
     "metadata": {},
     "output_type": "execute_result"
    },
    {
     "data": {
      "image/png": "[encoded data removed]",
      "text/plain": [
       "<Figure size 800x600 with 1 Axes>"
      ]
     },
     "metadata": {},
     "output_type": "display_data"
    }
   ],
   "source": [
    "plt.figure(figsize=(8,6))\n",
    "im1=trm[36]\n",
    "plt.imshow(im1[25,:,:])"
   ]
  },
  {
   "cell_type": "code",
   "execution_count": 18,
   "id": "cbd85ead",
   "metadata": {
    "execution": {
     "iopub.execute_input": "2023-05-24T10:19:19.325617Z",
     "iopub.status.busy": "2023-05-24T10:19:19.325011Z",
     "iopub.status.idle": "2023-05-24T10:19:19.329910Z",
     "shell.execute_reply": "2023-05-24T10:19:19.328870Z"
    },
    "papermill": {
     "duration": 0.021855,
     "end_time": "2023-05-24T10:19:19.332202",
     "exception": false,
     "start_time": "2023-05-24T10:19:19.310347",
     "status": "completed"
    },
    "tags": []
   },
   "outputs": [],
   "source": [
    "# del(img)\n",
    "# del(msk)"
   ]
  },
  {
   "cell_type": "code",
   "execution_count": 19,
   "id": "f26d948c",
   "metadata": {
    "execution": {
     "iopub.execute_input": "2023-05-24T10:19:19.360532Z",
     "iopub.status.busy": "2023-05-24T10:19:19.360156Z",
     "iopub.status.idle": "2023-05-24T10:19:19.364675Z",
     "shell.execute_reply": "2023-05-24T10:19:19.363637Z"
    },
    "papermill": {
     "duration": 0.021355,
     "end_time": "2023-05-24T10:19:19.367061",
     "exception": false,
     "start_time": "2023-05-24T10:19:19.345706",
     "status": "completed"
    },
    "tags": []
   },
   "outputs": [],
   "source": [
    "# df=tf.data.Dataset.from_tensor_slices((tri, trm))\n"
   ]
  },
  {
   "cell_type": "code",
   "execution_count": 20,
   "id": "8c4bd36d",
   "metadata": {
    "execution": {
     "iopub.execute_input": "2023-05-24T10:19:19.395268Z",
     "iopub.status.busy": "2023-05-24T10:19:19.394918Z",
     "iopub.status.idle": "2023-05-24T10:19:19.399546Z",
     "shell.execute_reply": "2023-05-24T10:19:19.398524Z"
    },
    "papermill": {
     "duration": 0.021374,
     "end_time": "2023-05-24T10:19:19.401905",
     "exception": false,
     "start_time": "2023-05-24T10:19:19.380531",
     "status": "completed"
    },
    "tags": []
   },
   "outputs": [],
   "source": [
    "# import tensorflow as tf\n",
    "\n",
    "# # Assume you have a tf.data.Dataset called 'dataset'\n",
    "# output_file_pattern = '/kaggle/working/dataset.tfrecord'\n",
    "\n",
    "# # Create a TFRecord writer\n",
    "# writer = tf.data.experimental.TFRecordWriter(output_file_pattern)\n",
    "\n",
    "# # Iterate through the dataset and write each element to the TFRecord file\n",
    "# for element in df:\n",
    "#     writer.write(element.numpy())\n",
    "\n",
    "# # Close the writer\n",
    "# writer.close()"
   ]
  },
  {
   "cell_type": "code",
   "execution_count": 21,
   "id": "5ccd3677",
   "metadata": {
    "execution": {
     "iopub.execute_input": "2023-05-24T10:19:19.432693Z",
     "iopub.status.busy": "2023-05-24T10:19:19.431679Z",
     "iopub.status.idle": "2023-05-24T10:19:20.373633Z",
     "shell.execute_reply": "2023-05-24T10:19:20.372605Z"
    },
    "id": "G6sR1xTD4opc",
    "papermill": {
     "duration": 0.960388,
     "end_time": "2023-05-24T10:19:20.376418",
     "exception": false,
     "start_time": "2023-05-24T10:19:19.416030",
     "status": "completed"
    },
    "tags": []
   },
   "outputs": [],
   "source": [
    "from sklearn.metrics import accuracy_score, f1_score, confusion_matrix\n",
    "#acc=keras.metrics.Accuracy\n"
   ]
  },
  {
   "cell_type": "code",
   "execution_count": 22,
   "id": "99f64f11",
   "metadata": {
    "execution": {
     "iopub.execute_input": "2023-05-24T10:19:20.406632Z",
     "iopub.status.busy": "2023-05-24T10:19:20.405632Z",
     "iopub.status.idle": "2023-05-24T10:19:20.418871Z",
     "shell.execute_reply": "2023-05-24T10:19:20.417724Z"
    },
    "id": "nE9RdGjB5A1d",
    "papermill": {
     "duration": 0.03052,
     "end_time": "2023-05-24T10:19:20.421316",
     "exception": false,
     "start_time": "2023-05-24T10:19:20.390796",
     "status": "completed"
    },
    "tags": []
   },
   "outputs": [],
   "source": [
    "# Loss Function and coefficients to be used during training:\n",
    "def dice_coefficient(y_true, y_pred):\n",
    "    # tf.cast(y_true, tf.float32)\n",
    "    # tf.cast(y_pred, tf.float32)\n",
    "    smoothing_factor = 1\n",
    "    flat_y_true = K.flatten(y_true)\n",
    "    flat_y_pred = K.flatten(y_pred)\n",
    "    return (2. * K.sum(flat_y_true * flat_y_pred) + smoothing_factor) / (K.sum(flat_y_true) + K.sum(flat_y_pred) + smoothing_factor)\n",
    "\n",
    "def dice_coefficient_loss(y_true, y_pred):\n",
    "    # print(y_true.shape)\n",
    "    # print(y_pred.shape)\n",
    "    return 1 - dice_coefficient(y_true, y_pred)\n",
    "\n",
    "def iou_3d(y_true, y_pred):\n",
    "    intersection = np.logical_and(y_true, y_pred)\n",
    "    union = np.logical_or(y_true, y_pred)\n",
    "    iou_score = np.sum(intersection) / np.sum(union)\n",
    "    return iou_score\n",
    "\n",
    "def iou_coef(y_true, y_pred):\n",
    "    smooth=1\n",
    "    intersection = K.sum(K.abs(y_true * y_pred), axis=[1,2,3])\n",
    "    union = K.sum(y_true,[1,2,3])+K.sum(y_pred,[1,2,3])-intersection\n",
    "    iou = K.mean((intersection + smooth) / (union + smooth), axis=0)\n",
    "    return iou\n",
    "\n",
    "# def dice_coeff(y_true, y_pred,smooth=1):\n",
    "#     y_true_f = K.flatten(y_true)\n",
    "#     y_pred_f = K.flatten(y_pred)\n",
    "#     intersection = K.sum(y_true_f * y_pred_f)\n",
    "#     score = (2. * intersection + smooth) / (K.sum(y_true_f) + K.sum(y_pred_f) + smooth)\n",
    "#     return score\n",
    "\n",
    "\n",
    "# # Computing Precision \n",
    "# def precision(y_true, y_pred):\n",
    "#         true_positives = K.sum(K.round(K.clip(y_true * y_pred, 0, 1)))\n",
    "#         predicted_positives = K.sum(K.round(K.clip(y_pred, 0, 1)))\n",
    "#         precision = true_positives / (predicted_positives + K.epsilon())\n",
    "#         return precision\n",
    "\n",
    "    \n",
    "# # Computing Sensitivity      \n",
    "# def sensitivity(y_true, y_pred):\n",
    "#     true_positives = K.sum(K.round(K.clip(y_true * y_pred, 0, 1)))\n",
    "#     possible_positives = K.sum(K.round(K.clip(y_true, 0, 1)))\n",
    "#     return true_positives / (possible_positives + K.epsilon())\n",
    "\n",
    "\n",
    "# # Computing Specificity\n",
    "# def specificity(y_true, y_pred):\n",
    "#     true_negatives = K.sum(K.round(K.clip((1-y_true) * (1-y_pred), 0, 1)))\n",
    "#     possible_negatives = K.sum(K.round(K.clip(1-y_true, 0, 1)))\n",
    "#     return true_negatives / (possible_negatives + K.epsilon())"
   ]
  },
  {
   "cell_type": "code",
   "execution_count": 23,
   "id": "0185dccc",
   "metadata": {
    "execution": {
     "iopub.execute_input": "2023-05-24T10:19:20.451525Z",
     "iopub.status.busy": "2023-05-24T10:19:20.450496Z",
     "iopub.status.idle": "2023-05-24T10:19:20.456786Z",
     "shell.execute_reply": "2023-05-24T10:19:20.455778Z"
    },
    "id": "9dFkL0RZ5CA2",
    "papermill": {
     "duration": 0.023809,
     "end_time": "2023-05-24T10:19:20.459058",
     "exception": false,
     "start_time": "2023-05-24T10:19:20.435249",
     "status": "completed"
    },
    "tags": []
   },
   "outputs": [],
   "source": [
    "from tensorflow.keras.layers import Dense, Flatten\n",
    "from tensorflow.keras.layers import add"
   ]
  },
  {
   "cell_type": "code",
   "execution_count": 24,
   "id": "1f9dc55f",
   "metadata": {
    "execution": {
     "iopub.execute_input": "2023-05-24T10:19:20.489265Z",
     "iopub.status.busy": "2023-05-24T10:19:20.488242Z",
     "iopub.status.idle": "2023-05-24T10:19:20.503655Z",
     "shell.execute_reply": "2023-05-24T10:19:20.502641Z"
    },
    "id": "8TIiTmed5Doc",
    "papermill": {
     "duration": 0.033185,
     "end_time": "2023-05-24T10:19:20.506006",
     "exception": false,
     "start_time": "2023-05-24T10:19:20.472821",
     "status": "completed"
    },
    "tags": []
   },
   "outputs": [],
   "source": [
    "import tensorflow as tf\n",
    "from tensorflow.keras.layers import Input, Conv3D, MaxPooling3D, UpSampling3D, concatenate, BatchNormalization\n",
    "\n",
    "def conv_block(input_tensor, num_filters):\n",
    "    x = Conv3D(num_filters, kernel_size=(3, 3, 3), activation='relu', padding='same')(input_tensor)\n",
    "    x = BatchNormalization()(x)\n",
    "    x = Conv3D(num_filters, kernel_size=(3, 3, 3), activation='relu', padding='same')(x)\n",
    "    x = BatchNormalization()(x)\n",
    "    return x\n",
    "\n",
    "def res_block(input_tensor, num_filters):\n",
    "    x = conv_block(input_tensor, num_filters)\n",
    "    x = concatenate([x, input_tensor])\n",
    "    return x\n",
    "\n",
    "def encoder_block(input_tensor, num_filters):\n",
    "    x = conv_block(input_tensor, num_filters)\n",
    "    residual = res_block(x, num_filters)\n",
    "    x = MaxPooling3D((2, 2, 2))(residual)\n",
    "    return x, residual\n",
    "\n",
    "def decoder_block(input_tensor, residual, num_filters):\n",
    "    x = UpSampling3D((2, 2, 2))(input_tensor)\n",
    "    x = concatenate([x, residual])\n",
    "    x = conv_block(x, num_filters)\n",
    "    return x\n",
    "\n",
    "def unet_3d_resnet(input_shape=(32, 64, 64, 3), num_filters=[16, 32, 32, 64, 128]):\n",
    "    inputs = Input(input_shape)\n",
    "    x = inputs\n",
    "\n",
    "    # Encoder\n",
    "    encoder_residuals = []\n",
    "    for f in num_filters:\n",
    "        x, residual = encoder_block(x, f)\n",
    "        encoder_residuals.append(residual)\n",
    "\n",
    "    # Middle\n",
    "    x = conv_block(x, num_filters[-1])\n",
    "\n",
    "    # Decoder\n",
    "    for i, f in enumerate(reversed(num_filters[:-1])):\n",
    "        residual = encoder_residuals[-i-1]\n",
    "        x = decoder_block(x, residual, f)\n",
    "\n",
    "    x = UpSampling3D((2, 2, 2))(x)\n",
    "    # Output\n",
    "    outputs = Conv3D(3, (1, 1, 1), activation='sigmoid')(x)\n",
    "\n",
    "    model = tf.keras.models.Model(inputs=[inputs], outputs=[outputs])\n",
    "\n",
    "    return model"
   ]
  },
  {
   "cell_type": "code",
   "execution_count": 25,
   "id": "5475a9a9",
   "metadata": {
    "execution": {
     "iopub.execute_input": "2023-05-24T10:19:20.534746Z",
     "iopub.status.busy": "2023-05-24T10:19:20.534146Z",
     "iopub.status.idle": "2023-05-24T10:19:21.564249Z",
     "shell.execute_reply": "2023-05-24T10:19:21.563302Z"
    },
    "id": "yGVr38xT5FAL",
    "outputId": "4312c39e-94a9-4dd9-ad7e-7c7bfe8dd7e0",
    "papermill": {
     "duration": 1.221203,
     "end_time": "2023-05-24T10:19:21.740807",
     "exception": false,
     "start_time": "2023-05-24T10:19:20.519604",
     "status": "completed"
    },
    "tags": []
   },
   "outputs": [
    {
     "name": "stdout",
     "output_type": "stream",
     "text": [
      "Model: \"model\"\n",
      "__________________________________________________________________________________________________\n",
      " Layer (type)                   Output Shape         Param #     Connected to                     \n",
      "==================================================================================================\n",
      " input_1 (InputLayer)           [(None, 32, 64, 64,  0           []                               \n",
      "                                 3)]                                                              \n",
      "                                                                                                  \n",
      " conv3d (Conv3D)                (None, 32, 64, 64,   1312        ['input_1[0][0]']                \n",
      "                                16)                                                               \n",
      "                                                                                                  \n",
      " batch_normalization (BatchNorm  (None, 32, 64, 64,   64         ['conv3d[0][0]']                 \n",
      " alization)                     16)                                                               \n",
      "                                                                                                  \n",
      " conv3d_1 (Conv3D)              (None, 32, 64, 64,   6928        ['batch_normalization[0][0]']    \n",
      "                                16)                                                               \n",
      "                                                                                                  \n",
      " batch_normalization_1 (BatchNo  (None, 32, 64, 64,   64         ['conv3d_1[0][0]']               \n",
      " rmalization)                   16)                                                               \n",
      "                                                                                                  \n",
      " conv3d_2 (Conv3D)              (None, 32, 64, 64,   6928        ['batch_normalization_1[0][0]']  \n",
      "                                16)                                                               \n",
      "                                                                                                  \n",
      " batch_normalization_2 (BatchNo  (None, 32, 64, 64,   64         ['conv3d_2[0][0]']               \n",
      " rmalization)                   16)                                                               \n",
      "                                                                                                  \n",
      " conv3d_3 (Conv3D)              (None, 32, 64, 64,   6928        ['batch_normalization_2[0][0]']  \n",
      "                                16)                                                               \n",
      "                                                                                                  \n",
      " batch_normalization_3 (BatchNo  (None, 32, 64, 64,   64         ['conv3d_3[0][0]']               \n",
      " rmalization)                   16)                                                               \n",
      "                                                                                                  \n",
      " concatenate (Concatenate)      (None, 32, 64, 64,   0           ['batch_normalization_3[0][0]',  \n",
      "                                32)                               'batch_normalization_1[0][0]']  \n",
      "                                                                                                  \n",
      " max_pooling3d (MaxPooling3D)   (None, 16, 32, 32,   0           ['concatenate[0][0]']            \n",
      "                                32)                                                               \n",
      "                                                                                                  \n",
      " conv3d_4 (Conv3D)              (None, 16, 32, 32,   27680       ['max_pooling3d[0][0]']          \n",
      "                                32)                                                               \n",
      "                                                                                                  \n",
      " batch_normalization_4 (BatchNo  (None, 16, 32, 32,   128        ['conv3d_4[0][0]']               \n",
      " rmalization)                   32)                                                               \n",
      "                                                                                                  \n",
      " conv3d_5 (Conv3D)              (None, 16, 32, 32,   27680       ['batch_normalization_4[0][0]']  \n",
      "                                32)                                                               \n",
      "                                                                                                  \n",
      " batch_normalization_5 (BatchNo  (None, 16, 32, 32,   128        ['conv3d_5[0][0]']               \n",
      " rmalization)                   32)                                                               \n",
      "                                                                                                  \n",
      " conv3d_6 (Conv3D)              (None, 16, 32, 32,   27680       ['batch_normalization_5[0][0]']  \n",
      "                                32)                                                               \n",
      "                                                                                                  \n",
      " batch_normalization_6 (BatchNo  (None, 16, 32, 32,   128        ['conv3d_6[0][0]']               \n",
      " rmalization)                   32)                                                               \n",
      "                                                                                                  \n",
      " conv3d_7 (Conv3D)              (None, 16, 32, 32,   27680       ['batch_normalization_6[0][0]']  \n",
      "                                32)                                                               \n",
      "                                                                                                  \n",
      " batch_normalization_7 (BatchNo  (None, 16, 32, 32,   128        ['conv3d_7[0][0]']               \n",
      " rmalization)                   32)                                                               \n",
      "                                                                                                  \n",
      " concatenate_1 (Concatenate)    (None, 16, 32, 32,   0           ['batch_normalization_7[0][0]',  \n",
      "                                64)                               'batch_normalization_5[0][0]']  \n",
      "                                                                                                  \n",
      " max_pooling3d_1 (MaxPooling3D)  (None, 8, 16, 16, 6  0          ['concatenate_1[0][0]']          \n",
      "                                4)                                                                \n",
      "                                                                                                  \n",
      " conv3d_8 (Conv3D)              (None, 8, 16, 16, 3  55328       ['max_pooling3d_1[0][0]']        \n",
      "                                2)                                                                \n",
      "                                                                                                  \n",
      " batch_normalization_8 (BatchNo  (None, 8, 16, 16, 3  128        ['conv3d_8[0][0]']               \n",
      " rmalization)                   2)                                                                \n",
      "                                                                                                  \n",
      " conv3d_9 (Conv3D)              (None, 8, 16, 16, 3  27680       ['batch_normalization_8[0][0]']  \n",
      "                                2)                                                                \n",
      "                                                                                                  \n",
      " batch_normalization_9 (BatchNo  (None, 8, 16, 16, 3  128        ['conv3d_9[0][0]']               \n",
      " rmalization)                   2)                                                                \n",
      "                                                                                                  \n",
      " conv3d_10 (Conv3D)             (None, 8, 16, 16, 3  27680       ['batch_normalization_9[0][0]']  \n",
      "                                2)                                                                \n",
      "                                                                                                  \n",
      " batch_normalization_10 (BatchN  (None, 8, 16, 16, 3  128        ['conv3d_10[0][0]']              \n",
      " ormalization)                  2)                                                                \n",
      "                                                                                                  \n",
      " conv3d_11 (Conv3D)             (None, 8, 16, 16, 3  27680       ['batch_normalization_10[0][0]'] \n",
      "                                2)                                                                \n",
      "                                                                                                  \n",
      " batch_normalization_11 (BatchN  (None, 8, 16, 16, 3  128        ['conv3d_11[0][0]']              \n",
      " ormalization)                  2)                                                                \n",
      "                                                                                                  \n",
      " concatenate_2 (Concatenate)    (None, 8, 16, 16, 6  0           ['batch_normalization_11[0][0]', \n",
      "                                4)                                'batch_normalization_9[0][0]']  \n",
      "                                                                                                  \n",
      " max_pooling3d_2 (MaxPooling3D)  (None, 4, 8, 8, 64)  0          ['concatenate_2[0][0]']          \n",
      "                                                                                                  \n",
      " conv3d_12 (Conv3D)             (None, 4, 8, 8, 64)  110656      ['max_pooling3d_2[0][0]']        \n",
      "                                                                                                  \n",
      " batch_normalization_12 (BatchN  (None, 4, 8, 8, 64)  256        ['conv3d_12[0][0]']              \n",
      " ormalization)                                                                                    \n",
      "                                                                                                  \n",
      " conv3d_13 (Conv3D)             (None, 4, 8, 8, 64)  110656      ['batch_normalization_12[0][0]'] \n",
      "                                                                                                  \n",
      " batch_normalization_13 (BatchN  (None, 4, 8, 8, 64)  256        ['conv3d_13[0][0]']              \n",
      " ormalization)                                                                                    \n",
      "                                                                                                  \n",
      " conv3d_14 (Conv3D)             (None, 4, 8, 8, 64)  110656      ['batch_normalization_13[0][0]'] \n",
      "                                                                                                  \n",
      " batch_normalization_14 (BatchN  (None, 4, 8, 8, 64)  256        ['conv3d_14[0][0]']              \n",
      " ormalization)                                                                                    \n",
      "                                                                                                  \n",
      " conv3d_15 (Conv3D)             (None, 4, 8, 8, 64)  110656      ['batch_normalization_14[0][0]'] \n",
      "                                                                                                  \n",
      " batch_normalization_15 (BatchN  (None, 4, 8, 8, 64)  256        ['conv3d_15[0][0]']              \n",
      " ormalization)                                                                                    \n",
      "                                                                                                  \n",
      " concatenate_3 (Concatenate)    (None, 4, 8, 8, 128  0           ['batch_normalization_15[0][0]', \n",
      "                                )                                 'batch_normalization_13[0][0]'] \n",
      "                                                                                                  \n",
      " max_pooling3d_3 (MaxPooling3D)  (None, 2, 4, 4, 128  0          ['concatenate_3[0][0]']          \n",
      "                                )                                                                 \n",
      "                                                                                                  \n",
      " conv3d_16 (Conv3D)             (None, 2, 4, 4, 128  442496      ['max_pooling3d_3[0][0]']        \n",
      "                                )                                                                 \n",
      "                                                                                                  \n",
      " batch_normalization_16 (BatchN  (None, 2, 4, 4, 128  512        ['conv3d_16[0][0]']              \n",
      " ormalization)                  )                                                                 \n",
      "                                                                                                  \n",
      " conv3d_17 (Conv3D)             (None, 2, 4, 4, 128  442496      ['batch_normalization_16[0][0]'] \n",
      "                                )                                                                 \n",
      "                                                                                                  \n",
      " batch_normalization_17 (BatchN  (None, 2, 4, 4, 128  512        ['conv3d_17[0][0]']              \n",
      " ormalization)                  )                                                                 \n",
      "                                                                                                  \n",
      " conv3d_18 (Conv3D)             (None, 2, 4, 4, 128  442496      ['batch_normalization_17[0][0]'] \n",
      "                                )                                                                 \n",
      "                                                                                                  \n",
      " batch_normalization_18 (BatchN  (None, 2, 4, 4, 128  512        ['conv3d_18[0][0]']              \n",
      " ormalization)                  )                                                                 \n",
      "                                                                                                  \n",
      " conv3d_19 (Conv3D)             (None, 2, 4, 4, 128  442496      ['batch_normalization_18[0][0]'] \n",
      "                                )                                                                 \n",
      "                                                                                                  \n",
      " batch_normalization_19 (BatchN  (None, 2, 4, 4, 128  512        ['conv3d_19[0][0]']              \n",
      " ormalization)                  )                                                                 \n",
      "                                                                                                  \n",
      " concatenate_4 (Concatenate)    (None, 2, 4, 4, 256  0           ['batch_normalization_19[0][0]', \n",
      "                                )                                 'batch_normalization_17[0][0]'] \n",
      "                                                                                                  \n",
      " max_pooling3d_4 (MaxPooling3D)  (None, 1, 2, 2, 256  0          ['concatenate_4[0][0]']          \n",
      "                                )                                                                 \n",
      "                                                                                                  \n",
      " conv3d_20 (Conv3D)             (None, 1, 2, 2, 128  884864      ['max_pooling3d_4[0][0]']        \n",
      "                                )                                                                 \n",
      "                                                                                                  \n",
      " batch_normalization_20 (BatchN  (None, 1, 2, 2, 128  512        ['conv3d_20[0][0]']              \n",
      " ormalization)                  )                                                                 \n",
      "                                                                                                  \n",
      " conv3d_21 (Conv3D)             (None, 1, 2, 2, 128  442496      ['batch_normalization_20[0][0]'] \n",
      "                                )                                                                 \n",
      "                                                                                                  \n",
      " batch_normalization_21 (BatchN  (None, 1, 2, 2, 128  512        ['conv3d_21[0][0]']              \n",
      " ormalization)                  )                                                                 \n",
      "                                                                                                  \n",
      " up_sampling3d (UpSampling3D)   (None, 2, 4, 4, 128  0           ['batch_normalization_21[0][0]'] \n",
      "                                )                                                                 \n",
      "                                                                                                  \n",
      " concatenate_5 (Concatenate)    (None, 2, 4, 4, 384  0           ['up_sampling3d[0][0]',          \n",
      "                                )                                 'concatenate_4[0][0]']          \n",
      "                                                                                                  \n",
      " conv3d_22 (Conv3D)             (None, 2, 4, 4, 64)  663616      ['concatenate_5[0][0]']          \n",
      "                                                                                                  \n",
      " batch_normalization_22 (BatchN  (None, 2, 4, 4, 64)  256        ['conv3d_22[0][0]']              \n",
      " ormalization)                                                                                    \n",
      "                                                                                                  \n",
      " conv3d_23 (Conv3D)             (None, 2, 4, 4, 64)  110656      ['batch_normalization_22[0][0]'] \n",
      "                                                                                                  \n",
      " batch_normalization_23 (BatchN  (None, 2, 4, 4, 64)  256        ['conv3d_23[0][0]']              \n",
      " ormalization)                                                                                    \n",
      "                                                                                                  \n",
      " up_sampling3d_1 (UpSampling3D)  (None, 4, 8, 8, 64)  0          ['batch_normalization_23[0][0]'] \n",
      "                                                                                                  \n",
      " concatenate_6 (Concatenate)    (None, 4, 8, 8, 192  0           ['up_sampling3d_1[0][0]',        \n",
      "                                )                                 'concatenate_3[0][0]']          \n",
      "                                                                                                  \n",
      " conv3d_24 (Conv3D)             (None, 4, 8, 8, 32)  165920      ['concatenate_6[0][0]']          \n",
      "                                                                                                  \n",
      " batch_normalization_24 (BatchN  (None, 4, 8, 8, 32)  128        ['conv3d_24[0][0]']              \n",
      " ormalization)                                                                                    \n",
      "                                                                                                  \n",
      " conv3d_25 (Conv3D)             (None, 4, 8, 8, 32)  27680       ['batch_normalization_24[0][0]'] \n",
      "                                                                                                  \n",
      " batch_normalization_25 (BatchN  (None, 4, 8, 8, 32)  128        ['conv3d_25[0][0]']              \n",
      " ormalization)                                                                                    \n",
      "                                                                                                  \n",
      " up_sampling3d_2 (UpSampling3D)  (None, 8, 16, 16, 3  0          ['batch_normalization_25[0][0]'] \n",
      "                                2)                                                                \n",
      "                                                                                                  \n",
      " concatenate_7 (Concatenate)    (None, 8, 16, 16, 9  0           ['up_sampling3d_2[0][0]',        \n",
      "                                6)                                'concatenate_2[0][0]']          \n",
      "                                                                                                  \n",
      " conv3d_26 (Conv3D)             (None, 8, 16, 16, 3  82976       ['concatenate_7[0][0]']          \n",
      "                                2)                                                                \n",
      "                                                                                                  \n",
      " batch_normalization_26 (BatchN  (None, 8, 16, 16, 3  128        ['conv3d_26[0][0]']              \n",
      " ormalization)                  2)                                                                \n",
      "                                                                                                  \n",
      " conv3d_27 (Conv3D)             (None, 8, 16, 16, 3  27680       ['batch_normalization_26[0][0]'] \n",
      "                                2)                                                                \n",
      "                                                                                                  \n",
      " batch_normalization_27 (BatchN  (None, 8, 16, 16, 3  128        ['conv3d_27[0][0]']              \n",
      " ormalization)                  2)                                                                \n",
      "                                                                                                  \n",
      " up_sampling3d_3 (UpSampling3D)  (None, 16, 32, 32,   0          ['batch_normalization_27[0][0]'] \n",
      "                                32)                                                               \n",
      "                                                                                                  \n",
      " concatenate_8 (Concatenate)    (None, 16, 32, 32,   0           ['up_sampling3d_3[0][0]',        \n",
      "                                96)                               'concatenate_1[0][0]']          \n",
      "                                                                                                  \n",
      " conv3d_28 (Conv3D)             (None, 16, 32, 32,   41488       ['concatenate_8[0][0]']          \n",
      "                                16)                                                               \n",
      "                                                                                                  \n",
      " batch_normalization_28 (BatchN  (None, 16, 32, 32,   64         ['conv3d_28[0][0]']              \n",
      " ormalization)                  16)                                                               \n",
      "                                                                                                  \n",
      " conv3d_29 (Conv3D)             (None, 16, 32, 32,   6928        ['batch_normalization_28[0][0]'] \n",
      "                                16)                                                               \n",
      "                                                                                                  \n",
      " batch_normalization_29 (BatchN  (None, 16, 32, 32,   64         ['conv3d_29[0][0]']              \n",
      " ormalization)                  16)                                                               \n",
      "                                                                                                  \n",
      " up_sampling3d_4 (UpSampling3D)  (None, 32, 64, 64,   0          ['batch_normalization_29[0][0]'] \n",
      "                                16)                                                               \n",
      "                                                                                                  \n",
      " conv3d_30 (Conv3D)             (None, 32, 64, 64,   51          ['up_sampling3d_4[0][0]']        \n",
      "                                3)                                                                \n",
      "                                                                                                  \n",
      "==================================================================================================\n",
      "Total params: 4,944,675\n",
      "Trainable params: 4,941,411\n",
      "Non-trainable params: 3,264\n",
      "__________________________________________________________________________________________________\n"
     ]
    }
   ],
   "source": [
    "iou=keras.metrics.IoU\n",
    "model=unet_3d_resnet()\n",
    "opt = keras.optimizers.Adam(learning_rate=0.0005)\n",
    "model.compile(optimizer=opt,\n",
    "              loss=dice_coefficient_loss,\n",
    "              metrics=[dice_coefficient,iou_coef])\n",
    "model.summary()"
   ]
  },
  {
   "cell_type": "code",
   "execution_count": 26,
   "id": "f40ca962",
   "metadata": {
    "execution": {
     "iopub.execute_input": "2023-05-24T10:19:21.807381Z",
     "iopub.status.busy": "2023-05-24T10:19:21.806994Z",
     "iopub.status.idle": "2023-05-24T10:19:21.812067Z",
     "shell.execute_reply": "2023-05-24T10:19:21.810956Z"
    },
    "id": "kqUpjGyl5NCP",
    "outputId": "862245bc-f8e8-43a3-b760-27099c05d157",
    "papermill": {
     "duration": 0.041021,
     "end_time": "2023-05-24T10:19:21.814417",
     "exception": false,
     "start_time": "2023-05-24T10:19:21.773396",
     "status": "completed"
    },
    "tags": []
   },
   "outputs": [],
   "source": [
    "# from keras.utils import plot_model\n",
    "# plot_model(model, to_file='mlp-mnist.png', show_shapes=True)"
   ]
  },
  {
   "cell_type": "code",
   "execution_count": 27,
   "id": "c89c5d5b",
   "metadata": {
    "execution": {
     "iopub.execute_input": "2023-05-24T10:19:21.877851Z",
     "iopub.status.busy": "2023-05-24T10:19:21.877412Z",
     "iopub.status.idle": "2023-05-24T10:19:21.881827Z",
     "shell.execute_reply": "2023-05-24T10:19:21.880790Z"
    },
    "papermill": {
     "duration": 0.038887,
     "end_time": "2023-05-24T10:19:21.884149",
     "exception": false,
     "start_time": "2023-05-24T10:19:21.845262",
     "status": "completed"
    },
    "tags": []
   },
   "outputs": [],
   "source": [
    "# print(tri.shape)\n",
    "# print(trm.shape)\n",
    "# print(trin.shape)\n",
    "# print(trmn.shape)"
   ]
  },
  {
   "cell_type": "code",
   "execution_count": 28,
   "id": "63af5762",
   "metadata": {
    "execution": {
     "iopub.execute_input": "2023-05-24T10:19:21.947433Z",
     "iopub.status.busy": "2023-05-24T10:19:21.947133Z",
     "iopub.status.idle": "2023-05-24T10:19:22.600225Z",
     "shell.execute_reply": "2023-05-24T10:19:22.599089Z"
    },
    "id": "u7bmX5K55QTH",
    "papermill": {
     "duration": 0.688676,
     "end_time": "2023-05-24T10:19:22.603583",
     "exception": false,
     "start_time": "2023-05-24T10:19:21.914907",
     "status": "completed"
    },
    "tags": []
   },
   "outputs": [],
   "source": [
    "from sklearn.model_selection import train_test_split\n",
    "#X_tr, X_val, y_tr, y_val = train_test_split(tri, trm, test_size = 0.10,random_state=9)\n",
    "X_train, X_test, y_train, y_test = train_test_split(tri, trm, test_size = 0.1, random_state=19)"
   ]
  },
  {
   "cell_type": "code",
   "execution_count": 29,
   "id": "97e1afc6",
   "metadata": {
    "execution": {
     "iopub.execute_input": "2023-05-24T10:19:22.668840Z",
     "iopub.status.busy": "2023-05-24T10:19:22.668485Z",
     "iopub.status.idle": "2023-05-24T11:08:46.816951Z",
     "shell.execute_reply": "2023-05-24T11:08:46.815794Z"
    },
    "id": "6oXUN7Qj3g9e",
    "outputId": "6ca4dea5-ebc0-40fa-9335-24338a41b392",
    "papermill": {
     "duration": 2964.183203,
     "end_time": "2023-05-24T11:08:46.819551",
     "exception": false,
     "start_time": "2023-05-24T10:19:22.636348",
     "status": "completed"
    },
    "tags": []
   },
   "outputs": [
    {
     "name": "stdout",
     "output_type": "stream",
     "text": [
      "Epoch 1/150\n",
      "18/18 [==============================] - 39s 1s/step - loss: 0.9040 - dice_coefficient: 0.0954 - iou_coef: 0.0448 - val_loss: 0.9525 - val_dice_coefficient: 0.0474 - val_iou_coef: 0.0230\n",
      "Epoch 2/150\n",
      "18/18 [==============================] - 18s 1s/step - loss: 0.8808 - dice_coefficient: 0.1200 - iou_coef: 0.0518 - val_loss: 0.9389 - val_dice_coefficient: 0.0610 - val_iou_coef: 0.0284\n",
      "Epoch 3/150\n",
      "18/18 [==============================] - 19s 1s/step - loss: 0.8683 - dice_coefficient: 0.1309 - iou_coef: 0.0536 - val_loss: 0.9523 - val_dice_coefficient: 0.0477 - val_iou_coef: 0.0215\n",
      "Epoch 4/150\n",
      "18/18 [==============================] - 19s 1s/step - loss: 0.8575 - dice_coefficient: 0.1411 - iou_coef: 0.0558 - val_loss: 0.9528 - val_dice_coefficient: 0.0471 - val_iou_coef: 0.0208\n",
      "Epoch 5/150\n",
      "18/18 [==============================] - 19s 1s/step - loss: 0.8467 - dice_coefficient: 0.1545 - iou_coef: 0.0604 - val_loss: 0.9542 - val_dice_coefficient: 0.0457 - val_iou_coef: 0.0199\n",
      "Epoch 6/150\n",
      "18/18 [==============================] - 19s 1s/step - loss: 0.8368 - dice_coefficient: 0.1611 - iou_coef: 0.0626 - val_loss: 0.8562 - val_dice_coefficient: 0.1437 - val_iou_coef: 0.0551\n",
      "Epoch 7/150\n",
      "18/18 [==============================] - 20s 1s/step - loss: 0.8275 - dice_coefficient: 0.1723 - iou_coef: 0.0680 - val_loss: 0.9567 - val_dice_coefficient: 0.0433 - val_iou_coef: 0.0172\n",
      "Epoch 8/150\n",
      "18/18 [==============================] - 20s 1s/step - loss: 0.8206 - dice_coefficient: 0.1782 - iou_coef: 0.0693 - val_loss: 0.8493 - val_dice_coefficient: 0.1504 - val_iou_coef: 0.0536\n",
      "Epoch 9/150\n",
      "18/18 [==============================] - 19s 1s/step - loss: 0.8068 - dice_coefficient: 0.1943 - iou_coef: 0.0773 - val_loss: 0.8516 - val_dice_coefficient: 0.1481 - val_iou_coef: 0.0648\n",
      "Epoch 10/150\n",
      "18/18 [==============================] - 20s 1s/step - loss: 0.7932 - dice_coefficient: 0.2070 - iou_coef: 0.0816 - val_loss: 0.7887 - val_dice_coefficient: 0.2111 - val_iou_coef: 0.0744\n",
      "Epoch 11/150\n",
      "18/18 [==============================] - 20s 1s/step - loss: 0.7757 - dice_coefficient: 0.2261 - iou_coef: 0.0868 - val_loss: 0.7953 - val_dice_coefficient: 0.2044 - val_iou_coef: 0.0815\n",
      "Epoch 12/150\n",
      "18/18 [==============================] - 20s 1s/step - loss: 0.7560 - dice_coefficient: 0.2402 - iou_coef: 0.0937 - val_loss: 0.7107 - val_dice_coefficient: 0.2890 - val_iou_coef: 0.1027\n",
      "Epoch 13/150\n",
      "18/18 [==============================] - 20s 1s/step - loss: 0.7358 - dice_coefficient: 0.2646 - iou_coef: 0.1029 - val_loss: 0.7316 - val_dice_coefficient: 0.2683 - val_iou_coef: 0.0967\n",
      "Epoch 14/150\n",
      "18/18 [==============================] - 20s 1s/step - loss: 0.7136 - dice_coefficient: 0.2861 - iou_coef: 0.1116 - val_loss: 0.7077 - val_dice_coefficient: 0.2922 - val_iou_coef: 0.1072\n",
      "Epoch 15/150\n",
      "18/18 [==============================] - 19s 1s/step - loss: 0.6933 - dice_coefficient: 0.3067 - iou_coef: 0.1206 - val_loss: 0.7759 - val_dice_coefficient: 0.2240 - val_iou_coef: 0.0781\n",
      "Epoch 16/150\n",
      "18/18 [==============================] - 20s 1s/step - loss: 0.6697 - dice_coefficient: 0.3306 - iou_coef: 0.1289 - val_loss: 0.6440 - val_dice_coefficient: 0.3559 - val_iou_coef: 0.1177\n",
      "Epoch 17/150\n",
      "18/18 [==============================] - 19s 1s/step - loss: 0.6425 - dice_coefficient: 0.3593 - iou_coef: 0.1410 - val_loss: 0.5440 - val_dice_coefficient: 0.4554 - val_iou_coef: 0.1575\n",
      "Epoch 18/150\n",
      "18/18 [==============================] - 20s 1s/step - loss: 0.6148 - dice_coefficient: 0.3855 - iou_coef: 0.1499 - val_loss: 0.7023 - val_dice_coefficient: 0.2976 - val_iou_coef: 0.1339\n",
      "Epoch 19/150\n",
      "18/18 [==============================] - 20s 1s/step - loss: 0.5813 - dice_coefficient: 0.4181 - iou_coef: 0.1661 - val_loss: 0.5125 - val_dice_coefficient: 0.4868 - val_iou_coef: 0.1828\n",
      "Epoch 20/150\n",
      "18/18 [==============================] - 19s 1s/step - loss: 0.5545 - dice_coefficient: 0.4443 - iou_coef: 0.1771 - val_loss: 0.4062 - val_dice_coefficient: 0.5933 - val_iou_coef: 0.2091\n",
      "Epoch 21/150\n",
      "18/18 [==============================] - 20s 1s/step - loss: 0.5208 - dice_coefficient: 0.4750 - iou_coef: 0.1903 - val_loss: 0.3652 - val_dice_coefficient: 0.6340 - val_iou_coef: 0.2283\n",
      "Epoch 22/150\n",
      "18/18 [==============================] - 19s 1s/step - loss: 0.4961 - dice_coefficient: 0.5081 - iou_coef: 0.2084 - val_loss: 0.3560 - val_dice_coefficient: 0.6438 - val_iou_coef: 0.2624\n",
      "Epoch 23/150\n",
      "18/18 [==============================] - 19s 1s/step - loss: 0.4728 - dice_coefficient: 0.5226 - iou_coef: 0.2128 - val_loss: 0.3593 - val_dice_coefficient: 0.6399 - val_iou_coef: 0.2332\n",
      "Epoch 24/150\n",
      "18/18 [==============================] - 19s 1s/step - loss: 0.4365 - dice_coefficient: 0.5656 - iou_coef: 0.2313 - val_loss: 0.3161 - val_dice_coefficient: 0.6835 - val_iou_coef: 0.2838\n",
      "Epoch 25/150\n",
      "18/18 [==============================] - 20s 1s/step - loss: 0.4101 - dice_coefficient: 0.5858 - iou_coef: 0.2407 - val_loss: 0.3339 - val_dice_coefficient: 0.6652 - val_iou_coef: 0.2582\n",
      "Epoch 26/150\n",
      "18/18 [==============================] - 19s 1s/step - loss: 0.3780 - dice_coefficient: 0.6207 - iou_coef: 0.2557 - val_loss: 0.7965 - val_dice_coefficient: 0.2036 - val_iou_coef: 0.0828\n",
      "Epoch 27/150\n",
      "18/18 [==============================] - 20s 1s/step - loss: 0.3448 - dice_coefficient: 0.6548 - iou_coef: 0.2719 - val_loss: 0.2735 - val_dice_coefficient: 0.7262 - val_iou_coef: 0.2971\n",
      "Epoch 28/150\n",
      "18/18 [==============================] - 20s 1s/step - loss: 0.3196 - dice_coefficient: 0.6790 - iou_coef: 0.2866 - val_loss: 0.3265 - val_dice_coefficient: 0.6732 - val_iou_coef: 0.2601\n",
      "Epoch 29/150\n",
      "18/18 [==============================] - 20s 1s/step - loss: 0.3021 - dice_coefficient: 0.6989 - iou_coef: 0.3000 - val_loss: 0.4660 - val_dice_coefficient: 0.5345 - val_iou_coef: 0.2025\n",
      "Epoch 30/150\n",
      "18/18 [==============================] - 20s 1s/step - loss: 0.2752 - dice_coefficient: 0.7233 - iou_coef: 0.3108 - val_loss: 0.2992 - val_dice_coefficient: 0.7006 - val_iou_coef: 0.2880\n",
      "Epoch 31/150\n",
      "18/18 [==============================] - 20s 1s/step - loss: 0.2679 - dice_coefficient: 0.7331 - iou_coef: 0.3163 - val_loss: 0.3462 - val_dice_coefficient: 0.6528 - val_iou_coef: 0.2558\n",
      "Epoch 32/150\n",
      "18/18 [==============================] - 20s 1s/step - loss: 0.2639 - dice_coefficient: 0.7349 - iou_coef: 0.3156 - val_loss: 0.3734 - val_dice_coefficient: 0.6253 - val_iou_coef: 0.2743\n",
      "Epoch 33/150\n",
      "18/18 [==============================] - 20s 1s/step - loss: 0.2601 - dice_coefficient: 0.7363 - iou_coef: 0.3205 - val_loss: 0.2483 - val_dice_coefficient: 0.7513 - val_iou_coef: 0.3626\n",
      "Epoch 34/150\n",
      "18/18 [==============================] - 20s 1s/step - loss: 0.2502 - dice_coefficient: 0.7508 - iou_coef: 0.3296 - val_loss: 0.2283 - val_dice_coefficient: 0.7714 - val_iou_coef: 0.3663\n",
      "Epoch 35/150\n",
      "18/18 [==============================] - 19s 1s/step - loss: 0.2310 - dice_coefficient: 0.7691 - iou_coef: 0.3346 - val_loss: 0.2166 - val_dice_coefficient: 0.7833 - val_iou_coef: 0.3809\n",
      "Epoch 36/150\n",
      "18/18 [==============================] - 20s 1s/step - loss: 0.2246 - dice_coefficient: 0.7732 - iou_coef: 0.3395 - val_loss: 0.2038 - val_dice_coefficient: 0.7960 - val_iou_coef: 0.4490\n",
      "Epoch 37/150\n",
      "18/18 [==============================] - 20s 1s/step - loss: 0.2052 - dice_coefficient: 0.7950 - iou_coef: 0.3523 - val_loss: 0.2276 - val_dice_coefficient: 0.7721 - val_iou_coef: 0.4086\n",
      "Epoch 38/150\n",
      "18/18 [==============================] - 19s 1s/step - loss: 0.1959 - dice_coefficient: 0.8042 - iou_coef: 0.3573 - val_loss: 0.1967 - val_dice_coefficient: 0.8033 - val_iou_coef: 0.4008\n",
      "Epoch 39/150\n",
      "18/18 [==============================] - 20s 1s/step - loss: 0.1864 - dice_coefficient: 0.8137 - iou_coef: 0.3620 - val_loss: 0.1878 - val_dice_coefficient: 0.8121 - val_iou_coef: 0.3907\n",
      "Epoch 40/150\n",
      "18/18 [==============================] - 20s 1s/step - loss: 0.1888 - dice_coefficient: 0.8111 - iou_coef: 0.3630 - val_loss: 0.2082 - val_dice_coefficient: 0.7916 - val_iou_coef: 0.3607\n",
      "Epoch 41/150\n",
      "18/18 [==============================] - 20s 1s/step - loss: 0.1792 - dice_coefficient: 0.8216 - iou_coef: 0.3696 - val_loss: 0.1838 - val_dice_coefficient: 0.8162 - val_iou_coef: 0.3575\n",
      "Epoch 42/150\n",
      "18/18 [==============================] - 20s 1s/step - loss: 0.1713 - dice_coefficient: 0.8298 - iou_coef: 0.3752 - val_loss: 0.2413 - val_dice_coefficient: 0.7584 - val_iou_coef: 0.2986\n",
      "Epoch 43/150\n",
      "18/18 [==============================] - 19s 1s/step - loss: 0.1736 - dice_coefficient: 0.8270 - iou_coef: 0.3725 - val_loss: 0.1848 - val_dice_coefficient: 0.8151 - val_iou_coef: 0.3558\n",
      "Epoch 44/150\n",
      "18/18 [==============================] - 19s 1s/step - loss: 0.1687 - dice_coefficient: 0.8311 - iou_coef: 0.3824 - val_loss: 0.1872 - val_dice_coefficient: 0.8128 - val_iou_coef: 0.3647\n",
      "Epoch 45/150\n",
      "18/18 [==============================] - 20s 1s/step - loss: 0.1676 - dice_coefficient: 0.8324 - iou_coef: 0.3793 - val_loss: 0.1933 - val_dice_coefficient: 0.8065 - val_iou_coef: 0.3417\n",
      "Epoch 46/150\n",
      "18/18 [==============================] - 19s 1s/step - loss: 0.1597 - dice_coefficient: 0.8406 - iou_coef: 0.3856 - val_loss: 0.1766 - val_dice_coefficient: 0.8234 - val_iou_coef: 0.3580\n",
      "Epoch 47/150\n",
      "18/18 [==============================] - 20s 1s/step - loss: 0.1579 - dice_coefficient: 0.8430 - iou_coef: 0.3873 - val_loss: 0.1981 - val_dice_coefficient: 0.8017 - val_iou_coef: 0.3385\n",
      "Epoch 48/150\n",
      "18/18 [==============================] - 20s 1s/step - loss: 0.1549 - dice_coefficient: 0.8445 - iou_coef: 0.3893 - val_loss: 0.1826 - val_dice_coefficient: 0.8174 - val_iou_coef: 0.3509\n",
      "Epoch 49/150\n",
      "18/18 [==============================] - 19s 1s/step - loss: 0.1585 - dice_coefficient: 0.8414 - iou_coef: 0.3898 - val_loss: 0.1946 - val_dice_coefficient: 0.8052 - val_iou_coef: 0.3522\n",
      "Epoch 50/150\n",
      "18/18 [==============================] - 20s 1s/step - loss: 0.1617 - dice_coefficient: 0.8392 - iou_coef: 0.3807 - val_loss: 0.1804 - val_dice_coefficient: 0.8196 - val_iou_coef: 0.3382\n",
      "Epoch 51/150\n",
      "18/18 [==============================] - 20s 1s/step - loss: 0.1558 - dice_coefficient: 0.8423 - iou_coef: 0.3846 - val_loss: 0.1857 - val_dice_coefficient: 0.8141 - val_iou_coef: 0.3517\n",
      "Epoch 52/150\n",
      "18/18 [==============================] - 20s 1s/step - loss: 0.1488 - dice_coefficient: 0.8510 - iou_coef: 0.3926 - val_loss: 0.1681 - val_dice_coefficient: 0.8320 - val_iou_coef: 0.3607\n",
      "Epoch 53/150\n",
      "18/18 [==============================] - 20s 1s/step - loss: 0.1502 - dice_coefficient: 0.8506 - iou_coef: 0.3944 - val_loss: 0.1690 - val_dice_coefficient: 0.8310 - val_iou_coef: 0.3598\n",
      "Epoch 54/150\n",
      "18/18 [==============================] - 19s 1s/step - loss: 0.1439 - dice_coefficient: 0.8566 - iou_coef: 0.3978 - val_loss: 0.1620 - val_dice_coefficient: 0.8380 - val_iou_coef: 0.3657\n",
      "Epoch 55/150\n",
      "18/18 [==============================] - 20s 1s/step - loss: 0.1373 - dice_coefficient: 0.8635 - iou_coef: 0.4032 - val_loss: 0.1657 - val_dice_coefficient: 0.8343 - val_iou_coef: 0.3586\n",
      "Epoch 56/150\n",
      "18/18 [==============================] - 19s 1s/step - loss: 0.1395 - dice_coefficient: 0.8611 - iou_coef: 0.4031 - val_loss: 0.1601 - val_dice_coefficient: 0.8399 - val_iou_coef: 0.3685\n",
      "Epoch 57/150\n",
      "18/18 [==============================] - 19s 1s/step - loss: 0.1343 - dice_coefficient: 0.8653 - iou_coef: 0.4056 - val_loss: 0.1594 - val_dice_coefficient: 0.8406 - val_iou_coef: 0.3641\n",
      "Epoch 58/150\n",
      "18/18 [==============================] - 20s 1s/step - loss: 0.1349 - dice_coefficient: 0.8644 - iou_coef: 0.4060 - val_loss: 0.1649 - val_dice_coefficient: 0.8351 - val_iou_coef: 0.3647\n",
      "Epoch 59/150\n",
      "18/18 [==============================] - 20s 1s/step - loss: 0.1343 - dice_coefficient: 0.8661 - iou_coef: 0.4065 - val_loss: 0.1577 - val_dice_coefficient: 0.8424 - val_iou_coef: 0.3679\n",
      "Epoch 60/150\n",
      "18/18 [==============================] - 20s 1s/step - loss: 0.1294 - dice_coefficient: 0.8705 - iou_coef: 0.4114 - val_loss: 0.1535 - val_dice_coefficient: 0.8466 - val_iou_coef: 0.3737\n",
      "Epoch 61/150\n",
      "18/18 [==============================] - 20s 1s/step - loss: 0.1400 - dice_coefficient: 0.8582 - iou_coef: 0.4026 - val_loss: 0.1755 - val_dice_coefficient: 0.8246 - val_iou_coef: 0.3601\n",
      "Epoch 62/150\n",
      "18/18 [==============================] - 20s 1s/step - loss: 0.1464 - dice_coefficient: 0.8536 - iou_coef: 0.3970 - val_loss: 0.1823 - val_dice_coefficient: 0.8177 - val_iou_coef: 0.3664\n",
      "Epoch 63/150\n",
      "18/18 [==============================] - 20s 1s/step - loss: 0.1449 - dice_coefficient: 0.8551 - iou_coef: 0.3991 - val_loss: 0.1676 - val_dice_coefficient: 0.8323 - val_iou_coef: 0.3725\n",
      "Epoch 64/150\n",
      "18/18 [==============================] - 20s 1s/step - loss: 0.1355 - dice_coefficient: 0.8642 - iou_coef: 0.4056 - val_loss: 0.1536 - val_dice_coefficient: 0.8466 - val_iou_coef: 0.3765\n",
      "Epoch 65/150\n",
      "18/18 [==============================] - 19s 1s/step - loss: 0.1343 - dice_coefficient: 0.8656 - iou_coef: 0.4079 - val_loss: 0.1840 - val_dice_coefficient: 0.8157 - val_iou_coef: 0.3702\n",
      "Epoch 66/150\n",
      "18/18 [==============================] - 19s 1s/step - loss: 0.1375 - dice_coefficient: 0.8603 - iou_coef: 0.4033 - val_loss: 0.1665 - val_dice_coefficient: 0.8335 - val_iou_coef: 0.3593\n",
      "Epoch 67/150\n",
      "18/18 [==============================] - 20s 1s/step - loss: 0.1305 - dice_coefficient: 0.8691 - iou_coef: 0.4125 - val_loss: 0.1552 - val_dice_coefficient: 0.8449 - val_iou_coef: 0.3663\n",
      "Epoch 68/150\n",
      "18/18 [==============================] - 19s 1s/step - loss: 0.1285 - dice_coefficient: 0.8712 - iou_coef: 0.4144 - val_loss: 0.1582 - val_dice_coefficient: 0.8419 - val_iou_coef: 0.3713\n",
      "Epoch 69/150\n",
      "18/18 [==============================] - 19s 1s/step - loss: 0.1309 - dice_coefficient: 0.8697 - iou_coef: 0.4143 - val_loss: 0.1484 - val_dice_coefficient: 0.8517 - val_iou_coef: 0.3847\n",
      "Epoch 70/150\n",
      "18/18 [==============================] - 20s 1s/step - loss: 0.1273 - dice_coefficient: 0.8726 - iou_coef: 0.4182 - val_loss: 0.1426 - val_dice_coefficient: 0.8575 - val_iou_coef: 0.3915\n",
      "Epoch 71/150\n",
      "18/18 [==============================] - 19s 1s/step - loss: 0.1246 - dice_coefficient: 0.8746 - iou_coef: 0.4215 - val_loss: 0.1456 - val_dice_coefficient: 0.8546 - val_iou_coef: 0.3881\n",
      "Epoch 72/150\n",
      "18/18 [==============================] - 19s 1s/step - loss: 0.1224 - dice_coefficient: 0.8769 - iou_coef: 0.4257 - val_loss: 0.1406 - val_dice_coefficient: 0.8595 - val_iou_coef: 0.3927\n",
      "Epoch 73/150\n",
      "18/18 [==============================] - 20s 1s/step - loss: 0.1193 - dice_coefficient: 0.8806 - iou_coef: 0.4251 - val_loss: 0.1417 - val_dice_coefficient: 0.8584 - val_iou_coef: 0.3940\n",
      "Epoch 74/150\n",
      "18/18 [==============================] - 19s 1s/step - loss: 0.1186 - dice_coefficient: 0.8814 - iou_coef: 0.4281 - val_loss: 0.1498 - val_dice_coefficient: 0.8503 - val_iou_coef: 0.3820\n",
      "Epoch 75/150\n",
      "18/18 [==============================] - 19s 1s/step - loss: 0.1194 - dice_coefficient: 0.8805 - iou_coef: 0.4248 - val_loss: 0.1414 - val_dice_coefficient: 0.8587 - val_iou_coef: 0.3877\n",
      "Epoch 76/150\n",
      "18/18 [==============================] - 19s 1s/step - loss: 0.1166 - dice_coefficient: 0.8837 - iou_coef: 0.4326 - val_loss: 0.1407 - val_dice_coefficient: 0.8594 - val_iou_coef: 0.3879\n",
      "Epoch 77/150\n",
      "18/18 [==============================] - 19s 1s/step - loss: 0.1160 - dice_coefficient: 0.8817 - iou_coef: 0.4290 - val_loss: 0.1412 - val_dice_coefficient: 0.8589 - val_iou_coef: 0.3862\n",
      "Epoch 78/150\n",
      "18/18 [==============================] - 20s 1s/step - loss: 0.1211 - dice_coefficient: 0.8795 - iou_coef: 0.4264 - val_loss: 0.1496 - val_dice_coefficient: 0.8505 - val_iou_coef: 0.3794\n",
      "Epoch 79/150\n",
      "18/18 [==============================] - 20s 1s/step - loss: 0.1208 - dice_coefficient: 0.8797 - iou_coef: 0.4320 - val_loss: 0.1429 - val_dice_coefficient: 0.8572 - val_iou_coef: 0.3982\n",
      "Epoch 80/150\n",
      "18/18 [==============================] - 20s 1s/step - loss: 0.1184 - dice_coefficient: 0.8819 - iou_coef: 0.4287 - val_loss: 0.1425 - val_dice_coefficient: 0.8577 - val_iou_coef: 0.3921\n",
      "Epoch 81/150\n",
      "18/18 [==============================] - 20s 1s/step - loss: 0.1158 - dice_coefficient: 0.8846 - iou_coef: 0.4311 - val_loss: 0.1364 - val_dice_coefficient: 0.8637 - val_iou_coef: 0.3994\n",
      "Epoch 82/150\n",
      "18/18 [==============================] - 20s 1s/step - loss: 0.1156 - dice_coefficient: 0.8846 - iou_coef: 0.4344 - val_loss: 0.1370 - val_dice_coefficient: 0.8631 - val_iou_coef: 0.3926\n",
      "Epoch 83/150\n",
      "18/18 [==============================] - 20s 1s/step - loss: 0.1143 - dice_coefficient: 0.8855 - iou_coef: 0.4394 - val_loss: 0.1377 - val_dice_coefficient: 0.8624 - val_iou_coef: 0.3953\n",
      "Epoch 84/150\n",
      "18/18 [==============================] - 19s 1s/step - loss: 0.1131 - dice_coefficient: 0.8870 - iou_coef: 0.4385 - val_loss: 0.1377 - val_dice_coefficient: 0.8624 - val_iou_coef: 0.3950\n",
      "Epoch 85/150\n",
      "18/18 [==============================] - 20s 1s/step - loss: 0.1126 - dice_coefficient: 0.8879 - iou_coef: 0.4416 - val_loss: 0.1369 - val_dice_coefficient: 0.8632 - val_iou_coef: 0.3958\n",
      "Epoch 86/150\n",
      "18/18 [==============================] - 20s 1s/step - loss: 0.1115 - dice_coefficient: 0.8887 - iou_coef: 0.4352 - val_loss: 0.1374 - val_dice_coefficient: 0.8627 - val_iou_coef: 0.3952\n",
      "Epoch 87/150\n",
      "18/18 [==============================] - 19s 1s/step - loss: 0.1112 - dice_coefficient: 0.8889 - iou_coef: 0.4437 - val_loss: 0.1346 - val_dice_coefficient: 0.8655 - val_iou_coef: 0.4018\n",
      "Epoch 88/150\n",
      "18/18 [==============================] - 19s 1s/step - loss: 0.1115 - dice_coefficient: 0.8885 - iou_coef: 0.4431 - val_loss: 0.1343 - val_dice_coefficient: 0.8659 - val_iou_coef: 0.4121\n",
      "Epoch 89/150\n",
      "18/18 [==============================] - 20s 1s/step - loss: 0.1117 - dice_coefficient: 0.8877 - iou_coef: 0.4414 - val_loss: 0.1393 - val_dice_coefficient: 0.8608 - val_iou_coef: 0.4059\n",
      "Epoch 90/150\n",
      "18/18 [==============================] - 19s 1s/step - loss: 0.1114 - dice_coefficient: 0.8887 - iou_coef: 0.4420 - val_loss: 0.1361 - val_dice_coefficient: 0.8641 - val_iou_coef: 0.4156\n",
      "Epoch 91/150\n",
      "18/18 [==============================] - 20s 1s/step - loss: 0.1106 - dice_coefficient: 0.8892 - iou_coef: 0.4450 - val_loss: 0.1338 - val_dice_coefficient: 0.8664 - val_iou_coef: 0.3997\n",
      "Epoch 92/150\n",
      "18/18 [==============================] - 20s 1s/step - loss: 0.1131 - dice_coefficient: 0.8866 - iou_coef: 0.4389 - val_loss: 0.1347 - val_dice_coefficient: 0.8654 - val_iou_coef: 0.4020\n",
      "Epoch 93/150\n",
      "18/18 [==============================] - 20s 1s/step - loss: 0.1118 - dice_coefficient: 0.8881 - iou_coef: 0.4436 - val_loss: 0.1376 - val_dice_coefficient: 0.8625 - val_iou_coef: 0.4129\n",
      "Epoch 94/150\n",
      "18/18 [==============================] - 20s 1s/step - loss: 0.1105 - dice_coefficient: 0.8895 - iou_coef: 0.4450 - val_loss: 0.1358 - val_dice_coefficient: 0.8643 - val_iou_coef: 0.4055\n",
      "Epoch 95/150\n",
      "18/18 [==============================] - 20s 1s/step - loss: 0.1095 - dice_coefficient: 0.8908 - iou_coef: 0.4470 - val_loss: 0.1360 - val_dice_coefficient: 0.8642 - val_iou_coef: 0.4097\n",
      "Epoch 96/150\n",
      "18/18 [==============================] - 19s 1s/step - loss: 0.1083 - dice_coefficient: 0.8913 - iou_coef: 0.4501 - val_loss: 0.1325 - val_dice_coefficient: 0.8676 - val_iou_coef: 0.4125\n",
      "Epoch 97/150\n",
      "18/18 [==============================] - 20s 1s/step - loss: 0.1091 - dice_coefficient: 0.8907 - iou_coef: 0.4438 - val_loss: 0.1576 - val_dice_coefficient: 0.8424 - val_iou_coef: 0.3873\n",
      "Epoch 98/150\n",
      "18/18 [==============================] - 19s 1s/step - loss: 0.1095 - dice_coefficient: 0.8906 - iou_coef: 0.4501 - val_loss: 0.1432 - val_dice_coefficient: 0.8569 - val_iou_coef: 0.4043\n",
      "Epoch 99/150\n",
      "18/18 [==============================] - 20s 1s/step - loss: 0.1110 - dice_coefficient: 0.8877 - iou_coef: 0.4433 - val_loss: 0.1368 - val_dice_coefficient: 0.8633 - val_iou_coef: 0.4163\n",
      "Epoch 100/150\n",
      "18/18 [==============================] - 19s 1s/step - loss: 0.1086 - dice_coefficient: 0.8912 - iou_coef: 0.4438 - val_loss: 0.1438 - val_dice_coefficient: 0.8562 - val_iou_coef: 0.3921\n",
      "Epoch 101/150\n",
      "18/18 [==============================] - 19s 1s/step - loss: 0.1089 - dice_coefficient: 0.8907 - iou_coef: 0.4505 - val_loss: 0.1331 - val_dice_coefficient: 0.8671 - val_iou_coef: 0.4237\n",
      "Epoch 102/150\n",
      "18/18 [==============================] - 19s 1s/step - loss: 0.1095 - dice_coefficient: 0.8904 - iou_coef: 0.4487 - val_loss: 0.1337 - val_dice_coefficient: 0.8664 - val_iou_coef: 0.4256\n",
      "Epoch 103/150\n",
      "18/18 [==============================] - 19s 1s/step - loss: 0.1094 - dice_coefficient: 0.8907 - iou_coef: 0.4520 - val_loss: 0.1340 - val_dice_coefficient: 0.8661 - val_iou_coef: 0.4162\n",
      "Epoch 104/150\n",
      "18/18 [==============================] - 20s 1s/step - loss: 0.1073 - dice_coefficient: 0.8925 - iou_coef: 0.4545 - val_loss: 0.1306 - val_dice_coefficient: 0.8695 - val_iou_coef: 0.4162\n",
      "Epoch 105/150\n",
      "18/18 [==============================] - 20s 1s/step - loss: 0.1078 - dice_coefficient: 0.8922 - iou_coef: 0.4554 - val_loss: 0.1314 - val_dice_coefficient: 0.8688 - val_iou_coef: 0.4215\n",
      "Epoch 106/150\n",
      "18/18 [==============================] - 19s 1s/step - loss: 0.1188 - dice_coefficient: 0.8802 - iou_coef: 0.4361 - val_loss: 0.2326 - val_dice_coefficient: 0.7671 - val_iou_coef: 0.3191\n",
      "Epoch 107/150\n",
      "18/18 [==============================] - 20s 1s/step - loss: 0.1317 - dice_coefficient: 0.8687 - iou_coef: 0.4321 - val_loss: 0.2081 - val_dice_coefficient: 0.7917 - val_iou_coef: 0.3549\n",
      "Epoch 108/150\n",
      "18/18 [==============================] - 20s 1s/step - loss: 0.1293 - dice_coefficient: 0.8715 - iou_coef: 0.4289 - val_loss: 0.1976 - val_dice_coefficient: 0.8025 - val_iou_coef: 0.3868\n",
      "Epoch 109/150\n",
      "18/18 [==============================] - 20s 1s/step - loss: 0.1260 - dice_coefficient: 0.8736 - iou_coef: 0.4367 - val_loss: 0.1451 - val_dice_coefficient: 0.8550 - val_iou_coef: 0.3973\n",
      "Epoch 110/150\n",
      "18/18 [==============================] - 19s 1s/step - loss: 0.1515 - dice_coefficient: 0.8490 - iou_coef: 0.4161 - val_loss: 0.1952 - val_dice_coefficient: 0.8049 - val_iou_coef: 0.3909\n",
      "Epoch 111/150\n",
      "18/18 [==============================] - 19s 1s/step - loss: 0.1407 - dice_coefficient: 0.8594 - iou_coef: 0.4204 - val_loss: 0.4483 - val_dice_coefficient: 0.5508 - val_iou_coef: 0.2233\n",
      "Epoch 112/150\n",
      "18/18 [==============================] - 19s 1s/step - loss: 0.1262 - dice_coefficient: 0.8743 - iou_coef: 0.4325 - val_loss: 0.2217 - val_dice_coefficient: 0.7780 - val_iou_coef: 0.3453\n",
      "Epoch 113/150\n",
      "18/18 [==============================] - 19s 1s/step - loss: 0.1221 - dice_coefficient: 0.8777 - iou_coef: 0.4434 - val_loss: 0.1607 - val_dice_coefficient: 0.8393 - val_iou_coef: 0.4040\n",
      "Epoch 114/150\n",
      "18/18 [==============================] - 19s 1s/step - loss: 0.1172 - dice_coefficient: 0.8824 - iou_coef: 0.4449 - val_loss: 0.1543 - val_dice_coefficient: 0.8458 - val_iou_coef: 0.4165\n",
      "Epoch 115/150\n",
      "18/18 [==============================] - 20s 1s/step - loss: 0.1123 - dice_coefficient: 0.8878 - iou_coef: 0.4552 - val_loss: 0.1423 - val_dice_coefficient: 0.8578 - val_iou_coef: 0.4302\n",
      "Epoch 116/150\n",
      "18/18 [==============================] - 19s 1s/step - loss: 0.1104 - dice_coefficient: 0.8895 - iou_coef: 0.4574 - val_loss: 0.1384 - val_dice_coefficient: 0.8618 - val_iou_coef: 0.4264\n",
      "Epoch 117/150\n",
      "18/18 [==============================] - 20s 1s/step - loss: 0.1079 - dice_coefficient: 0.8922 - iou_coef: 0.4660 - val_loss: 0.1371 - val_dice_coefficient: 0.8630 - val_iou_coef: 0.4215\n",
      "Epoch 118/150\n",
      "18/18 [==============================] - 20s 1s/step - loss: 0.1079 - dice_coefficient: 0.8909 - iou_coef: 0.4611 - val_loss: 0.1308 - val_dice_coefficient: 0.8693 - val_iou_coef: 0.4355\n",
      "Epoch 119/150\n",
      "18/18 [==============================] - 20s 1s/step - loss: 0.1088 - dice_coefficient: 0.8914 - iou_coef: 0.4657 - val_loss: 0.1312 - val_dice_coefficient: 0.8688 - val_iou_coef: 0.4237\n",
      "Epoch 120/150\n",
      "18/18 [==============================] - 19s 1s/step - loss: 0.1067 - dice_coefficient: 0.8937 - iou_coef: 0.4663 - val_loss: 0.1306 - val_dice_coefficient: 0.8695 - val_iou_coef: 0.4265\n",
      "Epoch 121/150\n",
      "18/18 [==============================] - 19s 1s/step - loss: 0.1068 - dice_coefficient: 0.8919 - iou_coef: 0.4627 - val_loss: 0.1309 - val_dice_coefficient: 0.8692 - val_iou_coef: 0.4280\n",
      "Epoch 122/150\n",
      "18/18 [==============================] - 19s 1s/step - loss: 0.1121 - dice_coefficient: 0.8876 - iou_coef: 0.4623 - val_loss: 0.1379 - val_dice_coefficient: 0.8622 - val_iou_coef: 0.4177\n",
      "Epoch 123/150\n",
      "18/18 [==============================] - 19s 1s/step - loss: 0.1085 - dice_coefficient: 0.8909 - iou_coef: 0.4654 - val_loss: 0.1316 - val_dice_coefficient: 0.8685 - val_iou_coef: 0.4219\n",
      "Epoch 124/150\n",
      "18/18 [==============================] - 20s 1s/step - loss: 0.1074 - dice_coefficient: 0.8921 - iou_coef: 0.4631 - val_loss: 0.1349 - val_dice_coefficient: 0.8652 - val_iou_coef: 0.4351\n",
      "Epoch 125/150\n",
      "18/18 [==============================] - 19s 1s/step - loss: 0.1088 - dice_coefficient: 0.8910 - iou_coef: 0.4627 - val_loss: 0.1322 - val_dice_coefficient: 0.8678 - val_iou_coef: 0.4222\n",
      "Epoch 126/150\n",
      "18/18 [==============================] - 20s 1s/step - loss: 0.1050 - dice_coefficient: 0.8948 - iou_coef: 0.4670 - val_loss: 0.1330 - val_dice_coefficient: 0.8672 - val_iou_coef: 0.4255\n",
      "Epoch 127/150\n",
      "18/18 [==============================] - 19s 1s/step - loss: 0.1050 - dice_coefficient: 0.8955 - iou_coef: 0.4744 - val_loss: 0.1305 - val_dice_coefficient: 0.8696 - val_iou_coef: 0.4321\n",
      "Epoch 128/150\n",
      "18/18 [==============================] - 20s 1s/step - loss: 0.1043 - dice_coefficient: 0.8956 - iou_coef: 0.4705 - val_loss: 0.1276 - val_dice_coefficient: 0.8725 - val_iou_coef: 0.4374\n",
      "Epoch 129/150\n",
      "18/18 [==============================] - 19s 1s/step - loss: 0.1035 - dice_coefficient: 0.8967 - iou_coef: 0.4762 - val_loss: 0.1290 - val_dice_coefficient: 0.8712 - val_iou_coef: 0.4448\n",
      "Epoch 130/150\n",
      "18/18 [==============================] - 19s 1s/step - loss: 0.1045 - dice_coefficient: 0.8955 - iou_coef: 0.4786 - val_loss: 0.1275 - val_dice_coefficient: 0.8726 - val_iou_coef: 0.4343\n",
      "Epoch 131/150\n",
      "18/18 [==============================] - 20s 1s/step - loss: 0.1043 - dice_coefficient: 0.8957 - iou_coef: 0.4791 - val_loss: 0.1278 - val_dice_coefficient: 0.8724 - val_iou_coef: 0.4425\n",
      "Epoch 132/150\n",
      "18/18 [==============================] - 19s 1s/step - loss: 0.1033 - dice_coefficient: 0.8965 - iou_coef: 0.4773 - val_loss: 0.1309 - val_dice_coefficient: 0.8693 - val_iou_coef: 0.4290\n",
      "Epoch 133/150\n",
      "18/18 [==============================] - 19s 1s/step - loss: 0.1030 - dice_coefficient: 0.8966 - iou_coef: 0.4772 - val_loss: 0.1287 - val_dice_coefficient: 0.8714 - val_iou_coef: 0.4371\n",
      "Epoch 134/150\n",
      "18/18 [==============================] - 19s 1s/step - loss: 0.1019 - dice_coefficient: 0.8981 - iou_coef: 0.4863 - val_loss: 0.1263 - val_dice_coefficient: 0.8739 - val_iou_coef: 0.4510\n",
      "Epoch 135/150\n",
      "18/18 [==============================] - 19s 1s/step - loss: 0.1022 - dice_coefficient: 0.8976 - iou_coef: 0.4835 - val_loss: 0.1272 - val_dice_coefficient: 0.8730 - val_iou_coef: 0.4525\n",
      "Epoch 136/150\n",
      "18/18 [==============================] - 20s 1s/step - loss: 0.1021 - dice_coefficient: 0.8974 - iou_coef: 0.4813 - val_loss: 0.1302 - val_dice_coefficient: 0.8699 - val_iou_coef: 0.4405\n",
      "Epoch 137/150\n",
      "18/18 [==============================] - 20s 1s/step - loss: 0.1031 - dice_coefficient: 0.8972 - iou_coef: 0.4834 - val_loss: 0.1280 - val_dice_coefficient: 0.8722 - val_iou_coef: 0.4386\n",
      "Epoch 138/150\n",
      "18/18 [==============================] - 19s 1s/step - loss: 0.1009 - dice_coefficient: 0.8990 - iou_coef: 0.4820 - val_loss: 0.1263 - val_dice_coefficient: 0.8739 - val_iou_coef: 0.4454\n",
      "Epoch 139/150\n",
      "18/18 [==============================] - 20s 1s/step - loss: 0.1019 - dice_coefficient: 0.8979 - iou_coef: 0.4864 - val_loss: 0.1275 - val_dice_coefficient: 0.8726 - val_iou_coef: 0.4450\n",
      "Epoch 140/150\n",
      "18/18 [==============================] - 19s 1s/step - loss: 0.1013 - dice_coefficient: 0.8989 - iou_coef: 0.4889 - val_loss: 0.1254 - val_dice_coefficient: 0.8747 - val_iou_coef: 0.4398\n",
      "Epoch 141/150\n",
      "18/18 [==============================] - 20s 1s/step - loss: 0.1013 - dice_coefficient: 0.8986 - iou_coef: 0.4907 - val_loss: 0.1283 - val_dice_coefficient: 0.8719 - val_iou_coef: 0.4498\n",
      "Epoch 142/150\n",
      "18/18 [==============================] - 20s 1s/step - loss: 0.1022 - dice_coefficient: 0.8978 - iou_coef: 0.4914 - val_loss: 0.1283 - val_dice_coefficient: 0.8718 - val_iou_coef: 0.4394\n",
      "Epoch 143/150\n",
      "18/18 [==============================] - 20s 1s/step - loss: 0.1012 - dice_coefficient: 0.8987 - iou_coef: 0.4865 - val_loss: 0.1255 - val_dice_coefficient: 0.8747 - val_iou_coef: 0.4575\n",
      "Epoch 144/150\n",
      "18/18 [==============================] - 19s 1s/step - loss: 0.1020 - dice_coefficient: 0.8980 - iou_coef: 0.4849 - val_loss: 0.1263 - val_dice_coefficient: 0.8739 - val_iou_coef: 0.4484\n",
      "Epoch 145/150\n",
      "18/18 [==============================] - 20s 1s/step - loss: 0.1019 - dice_coefficient: 0.8977 - iou_coef: 0.4860 - val_loss: 0.1254 - val_dice_coefficient: 0.8747 - val_iou_coef: 0.4417\n",
      "Epoch 146/150\n",
      "18/18 [==============================] - 20s 1s/step - loss: 0.1021 - dice_coefficient: 0.8977 - iou_coef: 0.4887 - val_loss: 0.1273 - val_dice_coefficient: 0.8729 - val_iou_coef: 0.4564\n",
      "Epoch 147/150\n",
      "18/18 [==============================] - 19s 1s/step - loss: 0.1024 - dice_coefficient: 0.8976 - iou_coef: 0.4971 - val_loss: 0.1278 - val_dice_coefficient: 0.8723 - val_iou_coef: 0.4603\n",
      "Epoch 148/150\n",
      "18/18 [==============================] - 19s 1s/step - loss: 0.1007 - dice_coefficient: 0.8992 - iou_coef: 0.4949 - val_loss: 0.1267 - val_dice_coefficient: 0.8734 - val_iou_coef: 0.4569\n",
      "Epoch 149/150\n",
      "18/18 [==============================] - 20s 1s/step - loss: 0.1010 - dice_coefficient: 0.8990 - iou_coef: 0.4947 - val_loss: 0.1272 - val_dice_coefficient: 0.8729 - val_iou_coef: 0.4580\n",
      "Epoch 150/150\n",
      "18/18 [==============================] - 20s 1s/step - loss: 0.0995 - dice_coefficient: 0.9008 - iou_coef: 0.4953 - val_loss: 0.1259 - val_dice_coefficient: 0.8742 - val_iou_coef: 0.4506\n"
     ]
    }
   ],
   "source": [
    "history = model.fit(X_train,y_train,epochs=150,batch_size=32,validation_split=0.1)"
   ]
  },
  {
   "cell_type": "code",
   "execution_count": 30,
   "id": "887cd123",
   "metadata": {
    "execution": {
     "iopub.execute_input": "2023-05-24T11:08:47.494770Z",
     "iopub.status.busy": "2023-05-24T11:08:47.494271Z",
     "iopub.status.idle": "2023-05-24T11:08:47.499663Z",
     "shell.execute_reply": "2023-05-24T11:08:47.498695Z"
    },
    "id": "as4o_elc5XLA",
    "papermill": {
     "duration": 0.373064,
     "end_time": "2023-05-24T11:08:47.504804",
     "exception": false,
     "start_time": "2023-05-24T11:08:47.131740",
     "status": "completed"
    },
    "tags": []
   },
   "outputs": [],
   "source": [
    "# import tensorflow as tf\n",
    "\n",
    "# # Create a tf.data.Dataset object for the training data\n",
    "# train_dataset = tf.data.Dataset.from_tensor_slices((Xtr, ytr))\n",
    "# train_dataset = train_dataset.shuffle(buffer_size=len(Xtr)).batch(32)\n",
    "\n",
    "# # Create a tf.data.Dataset object for the validation data\n",
    "# val_dataset = tf.data.Dataset.from_tensor_slices((Xval, yval))\n",
    "# val_dataset = val_dataset.batch(32)\n",
    "\n",
    "\n",
    "# # Train the model using the tf.data.Dataset objects\n",
    "# model.fit(train_dataset, epochs=10, validation_data=val_dataset)\n"
   ]
  },
  {
   "cell_type": "code",
   "execution_count": 31,
   "id": "883a16a3",
   "metadata": {
    "execution": {
     "iopub.execute_input": "2023-05-24T11:08:48.245275Z",
     "iopub.status.busy": "2023-05-24T11:08:48.244805Z",
     "iopub.status.idle": "2023-05-24T11:08:48.249475Z",
     "shell.execute_reply": "2023-05-24T11:08:48.248502Z"
    },
    "id": "s4BYoPUoZsQG",
    "papermill": {
     "duration": 0.37521,
     "end_time": "2023-05-24T11:08:48.253976",
     "exception": false,
     "start_time": "2023-05-24T11:08:47.878766",
     "status": "completed"
    },
    "tags": []
   },
   "outputs": [],
   "source": [
    "# history = model.fit(CustomDataGenerator(Xtr, ytr, batch_size=32), validation_data=CustomDataGenerator(Xval, yval, batch_size=32),\n",
    "#     epochs=100,batch_size=16)"
   ]
  },
  {
   "cell_type": "code",
   "execution_count": 32,
   "id": "ca2691fb",
   "metadata": {
    "execution": {
     "iopub.execute_input": "2023-05-24T11:08:48.823886Z",
     "iopub.status.busy": "2023-05-24T11:08:48.823488Z",
     "iopub.status.idle": "2023-05-24T11:08:49.057550Z",
     "shell.execute_reply": "2023-05-24T11:08:49.056429Z"
    },
    "id": "5CvCHB4kZ5aM",
    "papermill": {
     "duration": 0.495421,
     "end_time": "2023-05-24T11:08:49.060217",
     "exception": false,
     "start_time": "2023-05-24T11:08:48.564796",
     "status": "completed"
    },
    "tags": []
   },
   "outputs": [
    {
     "data": {
      "image/png": "[encoded data removed]",
      "text/plain": [
       "<Figure size 640x480 with 1 Axes>"
      ]
     },
     "metadata": {},
     "output_type": "display_data"
    }
   ],
   "source": [
    "plt.plot(history.history['dice_coefficient'])\n",
    "plt.plot(history.history['val_dice_coefficient'])\n",
    "plt.title('Model performance')\n",
    "plt.ylabel('DCE')\n",
    "plt.xlabel('Epoch')\n",
    "plt.legend(['Train', 'Valid'], loc='upper left')\n",
    "plt.show()"
   ]
  },
  {
   "cell_type": "code",
   "execution_count": 33,
   "id": "ac80fa68",
   "metadata": {
    "execution": {
     "iopub.execute_input": "2023-05-24T11:08:49.588723Z",
     "iopub.status.busy": "2023-05-24T11:08:49.588292Z",
     "iopub.status.idle": "2023-05-24T11:08:49.808577Z",
     "shell.execute_reply": "2023-05-24T11:08:49.807496Z"
    },
    "papermill": {
     "duration": 0.491175,
     "end_time": "2023-05-24T11:08:49.810952",
     "exception": false,
     "start_time": "2023-05-24T11:08:49.319777",
     "status": "completed"
    },
    "tags": []
   },
   "outputs": [
    {
     "data": {
      "image/png": "[encoded data removed]",
      "text/plain": [
       "<Figure size 640x480 with 1 Axes>"
      ]
     },
     "metadata": {},
     "output_type": "display_data"
    }
   ],
   "source": [
    "plt.plot(history.history['loss']) \n",
    "plt.plot(history.history['val_loss']) \n",
    "plt.title('Model loss') \n",
    "plt.ylabel('Loss') \n",
    "plt.xlabel('Epoch') \n",
    "plt.legend(['Train', 'Valid'], loc='upper left') \n",
    "plt.show()"
   ]
  },
  {
   "cell_type": "code",
   "execution_count": 34,
   "id": "224f1c4e",
   "metadata": {
    "execution": {
     "iopub.execute_input": "2023-05-24T11:08:50.330633Z",
     "iopub.status.busy": "2023-05-24T11:08:50.330206Z",
     "iopub.status.idle": "2023-05-24T11:08:50.558247Z",
     "shell.execute_reply": "2023-05-24T11:08:50.557168Z"
    },
    "papermill": {
     "duration": 0.491107,
     "end_time": "2023-05-24T11:08:50.560666",
     "exception": false,
     "start_time": "2023-05-24T11:08:50.069559",
     "status": "completed"
    },
    "tags": []
   },
   "outputs": [
    {
     "data": {
      "image/png": "[encoded data removed]",
      "text/plain": [
       "<Figure size 640x480 with 1 Axes>"
      ]
     },
     "metadata": {},
     "output_type": "display_data"
    }
   ],
   "source": [
    "plt.plot(history.history['iou_coef']) \n",
    "plt.plot(history.history['val_iou_coef']) \n",
    "plt.title('Model IoU') \n",
    "plt.ylabel('iou') \n",
    "plt.xlabel('Epoch') \n",
    "plt.legend(['Train', 'Valid'], loc='upper left') \n",
    "plt.show()"
   ]
  },
  {
   "cell_type": "code",
   "execution_count": 35,
   "id": "67903563",
   "metadata": {
    "execution": {
     "iopub.execute_input": "2023-05-24T11:08:51.083855Z",
     "iopub.status.busy": "2023-05-24T11:08:51.081685Z",
     "iopub.status.idle": "2023-05-24T11:08:53.857016Z",
     "shell.execute_reply": "2023-05-24T11:08:53.855542Z"
    },
    "papermill": {
     "duration": 3.038824,
     "end_time": "2023-05-24T11:08:53.859503",
     "exception": false,
     "start_time": "2023-05-24T11:08:50.820679",
     "status": "completed"
    },
    "tags": []
   },
   "outputs": [
    {
     "name": "stdout",
     "output_type": "stream",
     "text": [
      "3/3 [==============================] - 2s 561ms/step\n",
      "(70, 32, 64, 64, 3)\n"
     ]
    }
   ],
   "source": [
    "pred=model.predict(X_test)\n",
    "print(pred.shape)"
   ]
  },
  {
   "cell_type": "code",
   "execution_count": 36,
   "id": "40e57013",
   "metadata": {
    "execution": {
     "iopub.execute_input": "2023-05-24T11:08:54.515537Z",
     "iopub.status.busy": "2023-05-24T11:08:54.515127Z",
     "iopub.status.idle": "2023-05-24T11:08:54.951488Z",
     "shell.execute_reply": "2023-05-24T11:08:54.950324Z"
    },
    "papermill": {
     "duration": 0.708614,
     "end_time": "2023-05-24T11:08:54.953932",
     "exception": false,
     "start_time": "2023-05-24T11:08:54.245318",
     "status": "completed"
    },
    "tags": []
   },
   "outputs": [
    {
     "data": {
      "text/plain": [
       "<matplotlib.image.AxesImage at 0x7ed02d351d10>"
      ]
     },
     "execution_count": 36,
     "metadata": {},
     "output_type": "execute_result"
    },
    {
     "data": {
      "image/png": "[encoded data removed]",
      "text/plain": [
       "<Figure size 1400x600 with 3 Axes>"
      ]
     },
     "metadata": {},
     "output_type": "display_data"
    }
   ],
   "source": [
    "plt.figure(figsize=(14,6))\n",
    "\n",
    "plt.subplot(131)\n",
    "plt.title('orig')\n",
    "plt.imshow(X_test[2][:,50,:],cmap='gray')\n",
    "\n",
    "\n",
    "plt.subplot(132)\n",
    "plt.title('exp')\n",
    "plt.imshow(y_test[2][:,50,:],cmap='gray')\n",
    "\n",
    "plt.subplot(133)\n",
    "plt.title('pred')\n",
    "plt.imshow(pred[2][:,50,:],cmap='gray')"
   ]
  },
  {
   "cell_type": "code",
   "execution_count": 37,
   "id": "5f2db458",
   "metadata": {
    "execution": {
     "iopub.execute_input": "2023-05-24T11:08:55.486292Z",
     "iopub.status.busy": "2023-05-24T11:08:55.485318Z",
     "iopub.status.idle": "2023-05-24T11:09:29.467686Z",
     "shell.execute_reply": "2023-05-24T11:09:29.466540Z"
    },
    "papermill": {
     "duration": 34.50819,
     "end_time": "2023-05-24T11:09:29.729252",
     "exception": false,
     "start_time": "2023-05-24T11:08:55.221062",
     "status": "completed"
    },
    "tags": []
   },
   "outputs": [
    {
     "name": "stdout",
     "output_type": "stream",
     "text": [
      "Accuracy: 0.9900776091076079\n",
      "Specificity: 0.9950195972497133\n",
      "Precision: 0.8442940288147676\n",
      "Recall: 0.8369217430315118\n"
     ]
    }
   ],
   "source": [
    "threshold = 0.5\n",
    "predicted_masks_binary = (pred > threshold).astype(np.uint8)\n",
    "\n",
    "# Flatten the predicted masks and ground truth masks\n",
    "num_samples, height, width, depth = predicted_masks_binary.shape[:4]\n",
    "predicted_masks_flat = predicted_masks_binary.reshape(num_samples, -1)\n",
    "ground_truth_masks_flat = y_test.reshape(num_samples, -1)\n",
    "\n",
    "# Compute the confusion matrix\n",
    "cm = confusion_matrix(ground_truth_masks_flat.flatten(), predicted_masks_flat.flatten())\n",
    "\n",
    "# Calculate TP, FP, and FN from the confusion matrix\n",
    "TP = cm[1, 1]  # True positives\n",
    "FP = cm[0, 1]  # False positives\n",
    "FN = cm[1, 0]  # False negatives\n",
    "TN = cm[0, 0]  # True negatives\n",
    "\n",
    "accuracy = (TP + TN) / (TP + FN + FP + TN)\n",
    "specificity = TN / (TN + FP)\n",
    "precision = TP / (TP + FP)\n",
    "recall = TP / (TP + FN)\n",
    "\n",
    "\n",
    "print(\"Accuracy:\", accuracy)\n",
    "print(\"Specificity:\", specificity)\n",
    "print(\"Precision:\", precision)\n",
    "print(\"Recall:\", recall)"
   ]
  },
  {
   "cell_type": "code",
   "execution_count": 38,
   "id": "682ec739",
   "metadata": {
    "execution": {
     "iopub.execute_input": "2023-05-24T11:09:30.251407Z",
     "iopub.status.busy": "2023-05-24T11:09:30.250221Z",
     "iopub.status.idle": "2023-05-24T11:09:30.255522Z",
     "shell.execute_reply": "2023-05-24T11:09:30.254504Z"
    },
    "papermill": {
     "duration": 0.269153,
     "end_time": "2023-05-24T11:09:30.257777",
     "exception": false,
     "start_time": "2023-05-24T11:09:29.988624",
     "status": "completed"
    },
    "tags": []
   },
   "outputs": [],
   "source": [
    "# print(confusion_matrix(y_test, pred))"
   ]
  },
  {
   "cell_type": "code",
   "execution_count": 39,
   "id": "409f1f91",
   "metadata": {
    "execution": {
     "iopub.execute_input": "2023-05-24T11:09:30.778748Z",
     "iopub.status.busy": "2023-05-24T11:09:30.777987Z",
     "iopub.status.idle": "2023-05-24T11:09:32.576379Z",
     "shell.execute_reply": "2023-05-24T11:09:32.575157Z"
    },
    "papermill": {
     "duration": 2.061072,
     "end_time": "2023-05-24T11:09:32.578809",
     "exception": false,
     "start_time": "2023-05-24T11:09:30.517737",
     "status": "completed"
    },
    "tags": []
   },
   "outputs": [
    {
     "name": "stdout",
     "output_type": "stream",
     "text": [
      "9/9 [==============================] - 1s 82ms/step - loss: 0.1558 - dice_coefficient: 0.8454 - iou_coef: 0.5088\n"
     ]
    },
    {
     "data": {
      "text/plain": [
       "[0.15576820075511932, 0.845408022403717, 0.5087544918060303]"
      ]
     },
     "execution_count": 39,
     "metadata": {},
     "output_type": "execute_result"
    }
   ],
   "source": [
    "res=model.evaluate(X_test,y_test,batch_size=8)\n",
    "res"
   ]
  },
  {
   "cell_type": "code",
   "execution_count": 40,
   "id": "40f57bf1",
   "metadata": {
    "execution": {
     "iopub.execute_input": "2023-05-24T11:09:33.189626Z",
     "iopub.status.busy": "2023-05-24T11:09:33.188824Z",
     "iopub.status.idle": "2023-05-24T11:09:33.661869Z",
     "shell.execute_reply": "2023-05-24T11:09:33.660766Z"
    },
    "papermill": {
     "duration": 0.816035,
     "end_time": "2023-05-24T11:09:33.664736",
     "exception": false,
     "start_time": "2023-05-24T11:09:32.848701",
     "status": "completed"
    },
    "tags": []
   },
   "outputs": [],
   "source": [
    "model.save('/kaggle/working/unet_model_24_05.h5')"
   ]
  }
 ],
 "metadata": {
  "kernelspec": {
   "display_name": "Python 3",
   "language": "python",
   "name": "python3"
  },
  "language_info": {
   "codemirror_mode": {
    "name": "ipython",
    "version": 3
   },
   "file_extension": ".py",
   "mimetype": "text/x-python",
   "name": "python",
   "nbconvert_exporter": "python",
   "pygments_lexer": "ipython3",
   "version": "3.7.12"
  },
  "papermill": {
   "default_parameters": {},
   "duration": 3130.310432,
   "end_time": "2023-05-24T11:09:37.214055",
   "environment_variables": {},
   "exception": null,
   "input_path": "__notebook__.ipynb",
   "output_path": "__notebook__.ipynb",
   "parameters": {},
   "start_time": "2023-05-24T10:17:26.903623",
   "version": "2.4.0"
  }
 },
 "nbformat": 4,
 "nbformat_minor": 5
}
